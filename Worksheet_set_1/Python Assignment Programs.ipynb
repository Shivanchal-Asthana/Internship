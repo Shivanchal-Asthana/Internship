{
 "cells": [
  {
   "cell_type": "markdown",
   "id": "50a1656f",
   "metadata": {},
   "source": [
    "# Q11 Factorial of a number"
   ]
  },
  {
   "cell_type": "code",
   "execution_count": null,
   "id": "09cc5362",
   "metadata": {},
   "outputs": [],
   "source": [
    "n = int(input(\"Enter the Number: \"))\n",
    "fact = 1\n",
    "for n in range ( 2, n+1):\n",
    "     fact = fact*n\n",
    "print(\"The factorial of\", n , \"is: \", fact) "
   ]
  },
  {
   "cell_type": "markdown",
   "id": "f960c06d",
   "metadata": {},
   "source": [
    "# Q12 Number is prime or composite"
   ]
  },
  {
   "cell_type": "code",
   "execution_count": null,
   "id": "ecb476ee",
   "metadata": {},
   "outputs": [],
   "source": [
    "n = int(input(\"Enter the Number: \"))\n",
    "if n>1:\n",
    "    for i in range( 2, num):\n",
    "        if( n%i)==0:\n",
    "            print(n,\"is not a prime number\")\n",
    "            break\n",
    "    else:\n",
    "        print(n,\"is a prime number\")"
   ]
  },
  {
   "cell_type": "markdown",
   "id": "71a3aa55",
   "metadata": {},
   "source": [
    "# Q13 Number is Palindrome or not"
   ]
  },
  {
   "cell_type": "code",
   "execution_count": null,
   "id": "13543ca2",
   "metadata": {},
   "outputs": [],
   "source": [
    "num = str(input(\"Enter the Number: \"))\n",
    "rev_num = num[::-1]\n",
    "if ( num == rev_num):\n",
    "    print( num, \"number is palindrome\")\n",
    "else:\n",
    "     print( num, \"number is not palindrome\")"
   ]
  },
  {
   "cell_type": "markdown",
   "id": "ebf9c511",
   "metadata": {},
   "source": [
    "# Q14 The third side of right-angled triangle from two given sides. "
   ]
  },
  {
   "cell_type": "code",
   "execution_count": null,
   "id": "3648c0c2",
   "metadata": {},
   "outputs": [],
   "source": [
    "b = int(input(\"Enter the value of first side: \"))\n",
    "c = int(input(\"Enter the value of second side: \"))\n",
    "if (b<0 or c<0):\n",
    "    print(\"Value of side cannot be negative\")\n",
    "else:\n",
    "    a = (b*b+c*c)**0.5\n",
    "    print(a, \" is the third side of the triangle\")"
   ]
  },
  {
   "cell_type": "markdown",
   "id": "a2b892c6",
   "metadata": {},
   "source": [
    "# Q15 to print the frequency of each of the characters present in a given string "
   ]
  },
  {
   "cell_type": "code",
   "execution_count": null,
   "id": "41445956",
   "metadata": {},
   "outputs": [],
   "source": [
    "str1 = (input(\"Enter  a string: \"))\n",
    "print(\"String is\", str1)\n",
    "count={}\n",
    "for i in str1:\n",
    "    if i in count.keys():\n",
    "        count[i]+=1\n",
    "    else:\n",
    "        count[i]=1\n",
    "print(count)  \n",
    "for i in count.keys():\n",
    "    print(i,\"occurs for\", count[i], \"times\")"
   ]
  },
  {
   "cell_type": "code",
   "execution_count": null,
   "id": "70f159b1",
   "metadata": {},
   "outputs": [],
   "source": []
  }
 ],
 "metadata": {
  "kernelspec": {
   "display_name": "Python 3",
   "language": "python",
   "name": "python3"
  },
  "language_info": {
   "codemirror_mode": {
    "name": "ipython",
    "version": 3
   },
   "file_extension": ".py",
   "mimetype": "text/x-python",
   "name": "python",
   "nbconvert_exporter": "python",
   "pygments_lexer": "ipython3",
   "version": "3.8.8"
  }
 },
 "nbformat": 4,
 "nbformat_minor": 5
}
