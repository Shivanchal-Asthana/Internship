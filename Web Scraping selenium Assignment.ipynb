{
 "cells": [
  {
   "cell_type": "code",
   "execution_count": null,
   "id": "9c875f39",
   "metadata": {},
   "outputs": [],
   "source": [
    "#Import neccessary libraries\n",
    "import selenium\n",
    "from selenium import webdriver\n",
    "import pandas as pd\n",
    "import time\n",
    "\n",
    "\n",
    "#import plotty\n",
    "import warnings\n",
    "warnings.filterwarnings('ignore')"
   ]
  },
  {
   "cell_type": "markdown",
   "id": "e19f7289",
   "metadata": {},
   "source": [
    "# Q1 - Python program to scrape data for \"Data Analyst\" for job position in \" Bangalore\" location."
   ]
  },
  {
   "cell_type": "code",
   "execution_count": 311,
   "id": "661364af",
   "metadata": {},
   "outputs": [],
   "source": [
    "# Open the page by using driver\n",
    "driver = webdriver.Chrome(r\"C:/Users/hp-pc/Downloads/chromedriver_win32/chromedriver\")"
   ]
  },
  {
   "cell_type": "code",
   "execution_count": 312,
   "id": "215490aa",
   "metadata": {},
   "outputs": [],
   "source": [
    "#Open the website which we want to scrape by using driver.get command\n",
    "driver.get('https://www.naukri.com/')"
   ]
  },
  {
   "cell_type": "code",
   "execution_count": 313,
   "id": "78f66ff3",
   "metadata": {},
   "outputs": [],
   "source": [
    "#Search the field and location by giving keys.\n",
    "search_job = driver.find_element_by_id('qsb-keyword-sugg')\n",
    "search_job.send_keys(\"Data Analyst\")\n",
    "search_loc = driver.find_element_by_xpath(\"//input[@id='qsb-location-sugg']\")\n",
    "search_loc.send_keys('Bangalore')"
   ]
  },
  {
   "cell_type": "code",
   "execution_count": 314,
   "id": "e77f3924",
   "metadata": {},
   "outputs": [],
   "source": [
    "#Clicking the search button \n",
    "search_btn = driver.find_element_by_xpath(\"//div[@class='search-btn']/button\")\n",
    "search_btn.click()"
   ]
  },
  {
   "cell_type": "code",
   "execution_count": 317,
   "id": "5cdc1725",
   "metadata": {},
   "outputs": [
    {
     "data": {
      "text/plain": [
       "[<selenium.webdriver.remote.webelement.WebElement (session=\"4d8a81d7347891d907eeab0aa8d0b520\", element=\"2bc72801-3823-46f8-a919-ad90ddda5182\")>,\n",
       " <selenium.webdriver.remote.webelement.WebElement (session=\"4d8a81d7347891d907eeab0aa8d0b520\", element=\"cc217b6c-5c99-4b82-9485-c0f4985374a8\")>,\n",
       " <selenium.webdriver.remote.webelement.WebElement (session=\"4d8a81d7347891d907eeab0aa8d0b520\", element=\"48a72869-f30c-44b2-803d-c3764795602f\")>,\n",
       " <selenium.webdriver.remote.webelement.WebElement (session=\"4d8a81d7347891d907eeab0aa8d0b520\", element=\"a6b8efd0-54ce-4e75-a31c-f810bb8aaf12\")>,\n",
       " <selenium.webdriver.remote.webelement.WebElement (session=\"4d8a81d7347891d907eeab0aa8d0b520\", element=\"686de0ae-92ae-4605-b3d1-16ad2dbb099f\")>,\n",
       " <selenium.webdriver.remote.webelement.WebElement (session=\"4d8a81d7347891d907eeab0aa8d0b520\", element=\"e05908b2-a330-4e9d-81c1-ab6f2a883e4b\")>,\n",
       " <selenium.webdriver.remote.webelement.WebElement (session=\"4d8a81d7347891d907eeab0aa8d0b520\", element=\"d76cb5df-8d97-43f2-bd81-33333db596e2\")>,\n",
       " <selenium.webdriver.remote.webelement.WebElement (session=\"4d8a81d7347891d907eeab0aa8d0b520\", element=\"651c1149-fde2-4e1c-bd84-072c0a3a7050\")>,\n",
       " <selenium.webdriver.remote.webelement.WebElement (session=\"4d8a81d7347891d907eeab0aa8d0b520\", element=\"28b08d91-8ec1-4189-9eb0-059238c38890\")>,\n",
       " <selenium.webdriver.remote.webelement.WebElement (session=\"4d8a81d7347891d907eeab0aa8d0b520\", element=\"f8c8f14d-ac43-4618-935f-05e7075e024c\")>]"
      ]
     },
     "execution_count": 317,
     "metadata": {},
     "output_type": "execute_result"
    }
   ],
   "source": [
    "#Scrape the tittle of the job\n",
    "titles = driver.find_elements_by_xpath(\"//a[@class='title fw500 ellipsis']\")\n",
    "titles[0:10]"
   ]
  },
  {
   "cell_type": "code",
   "execution_count": 318,
   "id": "9fcc1739",
   "metadata": {},
   "outputs": [
    {
     "data": {
      "text/plain": [
       "['Hiring -Data Analyst, Business Analyst, MIS Analyst -3rd Party Payroll',\n",
       " 'Business Analyst/ Data Analyst- Capital Market & SQL (Mandatory)',\n",
       " 'Senior Data Analyst III',\n",
       " 'Data Analyst',\n",
       " 'Assistant/deputy Manager - Geo-spatial Data Analyst',\n",
       " 'Senior Data Analyst',\n",
       " 'Senior Data Analyst',\n",
       " 'Data Analyst (On Contract)',\n",
       " 'Customer Data Management Analyst',\n",
       " 'Data Analyst']"
      ]
     },
     "execution_count": 318,
     "metadata": {},
     "output_type": "execute_result"
    }
   ],
   "source": [
    "#Using the for loop to append all items in our list whcih we want to scarpe\n",
    "job_titles =[]\n",
    "job_titles1 =[]\n",
    "for i in titles:\n",
    "    title=i.text\n",
    "    job_titles.append(title)\n",
    "job_titles1=job_titles[0:10]\n",
    "job_titles1"
   ]
  },
  {
   "cell_type": "code",
   "execution_count": 319,
   "id": "1dc83b98",
   "metadata": {},
   "outputs": [
    {
     "data": {
      "text/plain": [
       "[<selenium.webdriver.remote.webelement.WebElement (session=\"4d8a81d7347891d907eeab0aa8d0b520\", element=\"a251b20e-7837-4806-a752-aae60e9f0a73\")>,\n",
       " <selenium.webdriver.remote.webelement.WebElement (session=\"4d8a81d7347891d907eeab0aa8d0b520\", element=\"52a133ad-3904-4e06-99b8-5ce41f1cb1af\")>,\n",
       " <selenium.webdriver.remote.webelement.WebElement (session=\"4d8a81d7347891d907eeab0aa8d0b520\", element=\"db708632-e296-4448-8a2f-997e72c16dee\")>,\n",
       " <selenium.webdriver.remote.webelement.WebElement (session=\"4d8a81d7347891d907eeab0aa8d0b520\", element=\"fb349fcd-e7b2-4077-afdc-522d7810b253\")>,\n",
       " <selenium.webdriver.remote.webelement.WebElement (session=\"4d8a81d7347891d907eeab0aa8d0b520\", element=\"fc99f445-0364-4d65-92fd-755683c7f0bb\")>,\n",
       " <selenium.webdriver.remote.webelement.WebElement (session=\"4d8a81d7347891d907eeab0aa8d0b520\", element=\"8e76086a-0179-4801-943e-6efd5acd5744\")>,\n",
       " <selenium.webdriver.remote.webelement.WebElement (session=\"4d8a81d7347891d907eeab0aa8d0b520\", element=\"30400b32-4a01-4f17-875e-ff74341c8aea\")>,\n",
       " <selenium.webdriver.remote.webelement.WebElement (session=\"4d8a81d7347891d907eeab0aa8d0b520\", element=\"a5cf89cf-eef5-4e2e-838b-3314f843dba0\")>,\n",
       " <selenium.webdriver.remote.webelement.WebElement (session=\"4d8a81d7347891d907eeab0aa8d0b520\", element=\"c6645670-1a4c-468f-9e79-140f697de535\")>,\n",
       " <selenium.webdriver.remote.webelement.WebElement (session=\"4d8a81d7347891d907eeab0aa8d0b520\", element=\"40f21660-9880-4da2-b167-e593a73270c4\")>]"
      ]
     },
     "execution_count": 319,
     "metadata": {},
     "output_type": "execute_result"
    }
   ],
   "source": [
    "#Scrape the Location of the job\n",
    "location = driver.find_elements_by_xpath(\"//li[@class='fleft grey-text br2 placeHolderLi location']/span\")\n",
    "location[0:10]"
   ]
  },
  {
   "cell_type": "code",
   "execution_count": 321,
   "id": "c307e332",
   "metadata": {},
   "outputs": [
    {
     "data": {
      "text/plain": [
       "['Bangalore/Bengaluru',\n",
       " 'Pune, Bangalore/Bengaluru',\n",
       " 'Bengaluru/Bangalore',\n",
       " 'Bangalore/Bengaluru',\n",
       " 'Gurgaon/Gurugram, bangalore',\n",
       " 'Bangalore/Bengaluru',\n",
       " 'Bengaluru/Bangalore',\n",
       " 'Bangalore/Bengaluru',\n",
       " 'Bangalore/Bengaluru',\n",
       " 'Bangalore/Bengaluru']"
      ]
     },
     "execution_count": 321,
     "metadata": {},
     "output_type": "execute_result"
    }
   ],
   "source": [
    "#Using the for loop to append all items in our list whcih we want to scarpe\n",
    "job_location =[]\n",
    "job_location1=[]\n",
    "for i in location:\n",
    "    loc=i.text\n",
    "    job_location.append(loc)\n",
    "job_location1=job_location[0:10]  \n",
    "job_location1"
   ]
  },
  {
   "cell_type": "code",
   "execution_count": 322,
   "id": "78973e4a",
   "metadata": {},
   "outputs": [
    {
     "data": {
      "text/plain": [
       "[<selenium.webdriver.remote.webelement.WebElement (session=\"4d8a81d7347891d907eeab0aa8d0b520\", element=\"7004b9c9-db8c-44a9-8246-936401fd971e\")>,\n",
       " <selenium.webdriver.remote.webelement.WebElement (session=\"4d8a81d7347891d907eeab0aa8d0b520\", element=\"c0c8d506-3308-4ffc-a069-d22e40cf4ac6\")>,\n",
       " <selenium.webdriver.remote.webelement.WebElement (session=\"4d8a81d7347891d907eeab0aa8d0b520\", element=\"511d66d9-7a1f-4229-aea9-370b9ed36a90\")>,\n",
       " <selenium.webdriver.remote.webelement.WebElement (session=\"4d8a81d7347891d907eeab0aa8d0b520\", element=\"ce7c310e-8289-4bee-b5e3-e4552a760559\")>,\n",
       " <selenium.webdriver.remote.webelement.WebElement (session=\"4d8a81d7347891d907eeab0aa8d0b520\", element=\"4075de3f-2734-4447-b68b-8b18e9813b32\")>,\n",
       " <selenium.webdriver.remote.webelement.WebElement (session=\"4d8a81d7347891d907eeab0aa8d0b520\", element=\"e43d382b-6813-4c41-9370-4d7d999986cc\")>,\n",
       " <selenium.webdriver.remote.webelement.WebElement (session=\"4d8a81d7347891d907eeab0aa8d0b520\", element=\"de29d7ba-2a6b-4298-9bc5-1f059154dedc\")>,\n",
       " <selenium.webdriver.remote.webelement.WebElement (session=\"4d8a81d7347891d907eeab0aa8d0b520\", element=\"f4ad9de4-47a9-4eca-b991-6e7d847ddd7a\")>,\n",
       " <selenium.webdriver.remote.webelement.WebElement (session=\"4d8a81d7347891d907eeab0aa8d0b520\", element=\"49030637-7405-496c-9000-db8bb6d7187a\")>,\n",
       " <selenium.webdriver.remote.webelement.WebElement (session=\"4d8a81d7347891d907eeab0aa8d0b520\", element=\"2a3a6a1f-da11-4dc7-8a8e-faae3929bc73\")>]"
      ]
     },
     "execution_count": 322,
     "metadata": {},
     "output_type": "execute_result"
    }
   ],
   "source": [
    "#Scrape the company name of the job\n",
    "company = driver.find_elements_by_xpath(\"//a[@class='subTitle ellipsis fleft']\")\n",
    "company[0:10]"
   ]
  },
  {
   "cell_type": "code",
   "execution_count": 323,
   "id": "2b6191f6",
   "metadata": {},
   "outputs": [
    {
     "data": {
      "text/plain": [
       "['Flipkart',\n",
       " 'Genpact',\n",
       " 'Flipkart',\n",
       " 'GlaxoSmithKline Pharmaceuticals Limited',\n",
       " 'Maruti Suzuki India',\n",
       " 'Rapido',\n",
       " 'Flipkart',\n",
       " 'Rupeek Fintech Pvt Ltd',\n",
       " 'Aspect',\n",
       " 'Schneider Electric']"
      ]
     },
     "execution_count": 323,
     "metadata": {},
     "output_type": "execute_result"
    }
   ],
   "source": [
    "#Using the for loop to append all items in our list whcih we want to scarpe\n",
    "comp_name =[]\n",
    "comp_name1 =[]\n",
    "for i in company:\n",
    "    comp=i.text\n",
    "    comp_name.append(comp)\n",
    "comp_name1=comp_name[0:10] \n",
    "comp_name1"
   ]
  },
  {
   "cell_type": "code",
   "execution_count": 324,
   "id": "622771b8",
   "metadata": {},
   "outputs": [
    {
     "data": {
      "text/plain": [
       "[<selenium.webdriver.remote.webelement.WebElement (session=\"4d8a81d7347891d907eeab0aa8d0b520\", element=\"3775c070-4f71-40bb-9437-7eb73ad1ea9f\")>,\n",
       " <selenium.webdriver.remote.webelement.WebElement (session=\"4d8a81d7347891d907eeab0aa8d0b520\", element=\"bb11f218-c45d-46c6-a4d3-60b88d7bb588\")>,\n",
       " <selenium.webdriver.remote.webelement.WebElement (session=\"4d8a81d7347891d907eeab0aa8d0b520\", element=\"905b9f7b-844e-442b-baaa-f91784b62905\")>,\n",
       " <selenium.webdriver.remote.webelement.WebElement (session=\"4d8a81d7347891d907eeab0aa8d0b520\", element=\"ac1325e2-2256-4e4a-b1cd-034b279b2aba\")>,\n",
       " <selenium.webdriver.remote.webelement.WebElement (session=\"4d8a81d7347891d907eeab0aa8d0b520\", element=\"37243645-c02e-41ef-9ce0-521fe8562191\")>,\n",
       " <selenium.webdriver.remote.webelement.WebElement (session=\"4d8a81d7347891d907eeab0aa8d0b520\", element=\"1163cf20-c9fa-4585-b96f-63fa682c090b\")>,\n",
       " <selenium.webdriver.remote.webelement.WebElement (session=\"4d8a81d7347891d907eeab0aa8d0b520\", element=\"f28a6765-c0ef-4e03-823f-08c90cc9b353\")>,\n",
       " <selenium.webdriver.remote.webelement.WebElement (session=\"4d8a81d7347891d907eeab0aa8d0b520\", element=\"30e3b387-3ba9-4ac7-b8ac-d8024b82e8de\")>,\n",
       " <selenium.webdriver.remote.webelement.WebElement (session=\"4d8a81d7347891d907eeab0aa8d0b520\", element=\"4662d139-5445-4339-bbd8-a18363c29e3e\")>,\n",
       " <selenium.webdriver.remote.webelement.WebElement (session=\"4d8a81d7347891d907eeab0aa8d0b520\", element=\"51053389-5150-4a78-97d7-341b364668ff\")>]"
      ]
     },
     "execution_count": 324,
     "metadata": {},
     "output_type": "execute_result"
    }
   ],
   "source": [
    "#Scrape the experience of the job\n",
    "experience = driver.find_elements_by_xpath(\"//li[@class='fleft grey-text br2 placeHolderLi experience']/span\")\n",
    "experience[0:10]"
   ]
  },
  {
   "cell_type": "code",
   "execution_count": 325,
   "id": "99610c10",
   "metadata": {},
   "outputs": [
    {
     "data": {
      "text/plain": [
       "['1-6 Yrs',\n",
       " '7-12 Yrs',\n",
       " '2-4 Yrs',\n",
       " '3-8 Yrs',\n",
       " '3-5 Yrs',\n",
       " '1-6 Yrs',\n",
       " '4-5 Yrs',\n",
       " '0-2 Yrs',\n",
       " '0-2 Yrs',\n",
       " '2-5 Yrs']"
      ]
     },
     "execution_count": 325,
     "metadata": {},
     "output_type": "execute_result"
    }
   ],
   "source": [
    "#Using the for loop to append all items in our list whcih we want to scarpe\n",
    "exp_req =[]\n",
    "exp_req1 =[]\n",
    "for i in experience:\n",
    "    exp=i.text\n",
    "    exp_req.append(exp)\n",
    "exp_req1=exp_req[0:10] \n",
    "exp_req1"
   ]
  },
  {
   "cell_type": "code",
   "execution_count": 326,
   "id": "597e9e08",
   "metadata": {},
   "outputs": [
    {
     "data": {
      "text/html": [
       "<div>\n",
       "<style scoped>\n",
       "    .dataframe tbody tr th:only-of-type {\n",
       "        vertical-align: middle;\n",
       "    }\n",
       "\n",
       "    .dataframe tbody tr th {\n",
       "        vertical-align: top;\n",
       "    }\n",
       "\n",
       "    .dataframe thead th {\n",
       "        text-align: right;\n",
       "    }\n",
       "</style>\n",
       "<table border=\"1\" class=\"dataframe\">\n",
       "  <thead>\n",
       "    <tr style=\"text-align: right;\">\n",
       "      <th></th>\n",
       "      <th>Title</th>\n",
       "      <th>Location</th>\n",
       "      <th>Company</th>\n",
       "      <th>experience</th>\n",
       "    </tr>\n",
       "  </thead>\n",
       "  <tbody>\n",
       "    <tr>\n",
       "      <th>0</th>\n",
       "      <td>Hiring -Data Analyst, Business Analyst, MIS An...</td>\n",
       "      <td>Bangalore/Bengaluru</td>\n",
       "      <td>Flipkart</td>\n",
       "      <td>1-6 Yrs</td>\n",
       "    </tr>\n",
       "    <tr>\n",
       "      <th>1</th>\n",
       "      <td>Business Analyst/ Data Analyst- Capital Market...</td>\n",
       "      <td>Pune, Bangalore/Bengaluru</td>\n",
       "      <td>Genpact</td>\n",
       "      <td>7-12 Yrs</td>\n",
       "    </tr>\n",
       "    <tr>\n",
       "      <th>2</th>\n",
       "      <td>Senior Data Analyst III</td>\n",
       "      <td>Bengaluru/Bangalore</td>\n",
       "      <td>Flipkart</td>\n",
       "      <td>2-4 Yrs</td>\n",
       "    </tr>\n",
       "    <tr>\n",
       "      <th>3</th>\n",
       "      <td>Data Analyst</td>\n",
       "      <td>Bangalore/Bengaluru</td>\n",
       "      <td>GlaxoSmithKline Pharmaceuticals Limited</td>\n",
       "      <td>3-8 Yrs</td>\n",
       "    </tr>\n",
       "    <tr>\n",
       "      <th>4</th>\n",
       "      <td>Assistant/deputy Manager - Geo-spatial Data An...</td>\n",
       "      <td>Gurgaon/Gurugram, bangalore</td>\n",
       "      <td>Maruti Suzuki India</td>\n",
       "      <td>3-5 Yrs</td>\n",
       "    </tr>\n",
       "    <tr>\n",
       "      <th>5</th>\n",
       "      <td>Senior Data Analyst</td>\n",
       "      <td>Bangalore/Bengaluru</td>\n",
       "      <td>Rapido</td>\n",
       "      <td>1-6 Yrs</td>\n",
       "    </tr>\n",
       "    <tr>\n",
       "      <th>6</th>\n",
       "      <td>Senior Data Analyst</td>\n",
       "      <td>Bengaluru/Bangalore</td>\n",
       "      <td>Flipkart</td>\n",
       "      <td>4-5 Yrs</td>\n",
       "    </tr>\n",
       "    <tr>\n",
       "      <th>7</th>\n",
       "      <td>Data Analyst (On Contract)</td>\n",
       "      <td>Bangalore/Bengaluru</td>\n",
       "      <td>Rupeek Fintech Pvt Ltd</td>\n",
       "      <td>0-2 Yrs</td>\n",
       "    </tr>\n",
       "    <tr>\n",
       "      <th>8</th>\n",
       "      <td>Customer Data Management Analyst</td>\n",
       "      <td>Bangalore/Bengaluru</td>\n",
       "      <td>Aspect</td>\n",
       "      <td>0-2 Yrs</td>\n",
       "    </tr>\n",
       "    <tr>\n",
       "      <th>9</th>\n",
       "      <td>Data Analyst</td>\n",
       "      <td>Bangalore/Bengaluru</td>\n",
       "      <td>Schneider Electric</td>\n",
       "      <td>2-5 Yrs</td>\n",
       "    </tr>\n",
       "  </tbody>\n",
       "</table>\n",
       "</div>"
      ],
      "text/plain": [
       "                                               Title  \\\n",
       "0  Hiring -Data Analyst, Business Analyst, MIS An...   \n",
       "1  Business Analyst/ Data Analyst- Capital Market...   \n",
       "2                            Senior Data Analyst III   \n",
       "3                                       Data Analyst   \n",
       "4  Assistant/deputy Manager - Geo-spatial Data An...   \n",
       "5                                Senior Data Analyst   \n",
       "6                                Senior Data Analyst   \n",
       "7                         Data Analyst (On Contract)   \n",
       "8                   Customer Data Management Analyst   \n",
       "9                                       Data Analyst   \n",
       "\n",
       "                      Location                                  Company  \\\n",
       "0          Bangalore/Bengaluru                                 Flipkart   \n",
       "1    Pune, Bangalore/Bengaluru                                  Genpact   \n",
       "2          Bengaluru/Bangalore                                 Flipkart   \n",
       "3          Bangalore/Bengaluru  GlaxoSmithKline Pharmaceuticals Limited   \n",
       "4  Gurgaon/Gurugram, bangalore                      Maruti Suzuki India   \n",
       "5          Bangalore/Bengaluru                                   Rapido   \n",
       "6          Bengaluru/Bangalore                                 Flipkart   \n",
       "7          Bangalore/Bengaluru                   Rupeek Fintech Pvt Ltd   \n",
       "8          Bangalore/Bengaluru                                   Aspect   \n",
       "9          Bangalore/Bengaluru                       Schneider Electric   \n",
       "\n",
       "  experience  \n",
       "0    1-6 Yrs  \n",
       "1   7-12 Yrs  \n",
       "2    2-4 Yrs  \n",
       "3    3-8 Yrs  \n",
       "4    3-5 Yrs  \n",
       "5    1-6 Yrs  \n",
       "6    4-5 Yrs  \n",
       "7    0-2 Yrs  \n",
       "8    0-2 Yrs  \n",
       "9    2-5 Yrs  "
      ]
     },
     "execution_count": 326,
     "metadata": {},
     "output_type": "execute_result"
    }
   ],
   "source": [
    "#Finally store the value and create one dataframe\n",
    "jobs = pd.DataFrame({\"Title\": job_titles1, \"Location\": job_location1, \"Company\": comp_name1,  \"experience\":exp_req1})\n",
    "jobs"
   ]
  },
  {
   "cell_type": "markdown",
   "id": "d783df0f",
   "metadata": {},
   "source": [
    "# Q2- Python program to scrape data for \"Data Scientist\" job position in 'Bangalore' location."
   ]
  },
  {
   "cell_type": "code",
   "execution_count": 327,
   "id": "99edb452",
   "metadata": {},
   "outputs": [],
   "source": [
    "# Open the page by using driver\n",
    "driver = webdriver.Chrome(r\"C:/Users/hp-pc/Downloads/chromedriver_win32/chromedriver\")"
   ]
  },
  {
   "cell_type": "code",
   "execution_count": 328,
   "id": "f99cfd10",
   "metadata": {},
   "outputs": [],
   "source": [
    "#Open the website which we want to scrape by using driver.get command\n",
    "driver.get('https://www.naukri.com/')"
   ]
  },
  {
   "cell_type": "code",
   "execution_count": 329,
   "id": "d4ca825d",
   "metadata": {},
   "outputs": [],
   "source": [
    "#Search the field and location by giving keys.\n",
    "search_job = driver.find_element_by_id('qsb-keyword-sugg')\n",
    "search_job.send_keys(\"Data Scientist\")\n",
    "search_loc = driver.find_element_by_xpath(\"//input[@id='qsb-location-sugg']\")\n",
    "search_loc.send_keys('Bangalore')"
   ]
  },
  {
   "cell_type": "code",
   "execution_count": 330,
   "id": "3fcbcc81",
   "metadata": {},
   "outputs": [],
   "source": [
    "#Click the search button \n",
    "search_btn = driver.find_element_by_xpath(\"//div[@class='search-btn']/button\")\n",
    "search_btn.click()"
   ]
  },
  {
   "cell_type": "code",
   "execution_count": 334,
   "id": "c8b2ca56",
   "metadata": {},
   "outputs": [
    {
     "data": {
      "text/plain": [
       "[<selenium.webdriver.remote.webelement.WebElement (session=\"60bacd1cc76a24b31fc78a5ca46a67c7\", element=\"149838ed-6e5a-4471-8855-1cd41900c036\")>,\n",
       " <selenium.webdriver.remote.webelement.WebElement (session=\"60bacd1cc76a24b31fc78a5ca46a67c7\", element=\"e84e177a-8777-4d5b-831a-5f2fb827d4c4\")>,\n",
       " <selenium.webdriver.remote.webelement.WebElement (session=\"60bacd1cc76a24b31fc78a5ca46a67c7\", element=\"adb426dd-32de-4cd0-9c03-6fe58ba9a0af\")>,\n",
       " <selenium.webdriver.remote.webelement.WebElement (session=\"60bacd1cc76a24b31fc78a5ca46a67c7\", element=\"d4135748-6db9-44ba-8867-7826ea251f30\")>,\n",
       " <selenium.webdriver.remote.webelement.WebElement (session=\"60bacd1cc76a24b31fc78a5ca46a67c7\", element=\"fa23958a-3b16-4b1a-a5a7-a83afa688c18\")>,\n",
       " <selenium.webdriver.remote.webelement.WebElement (session=\"60bacd1cc76a24b31fc78a5ca46a67c7\", element=\"65ccc649-55bf-4633-afc7-992fdd894e82\")>,\n",
       " <selenium.webdriver.remote.webelement.WebElement (session=\"60bacd1cc76a24b31fc78a5ca46a67c7\", element=\"947bc861-7fce-4090-8e63-a7e7cd5f5cd7\")>,\n",
       " <selenium.webdriver.remote.webelement.WebElement (session=\"60bacd1cc76a24b31fc78a5ca46a67c7\", element=\"64a965c8-b559-48c5-a553-94350e7e19f4\")>,\n",
       " <selenium.webdriver.remote.webelement.WebElement (session=\"60bacd1cc76a24b31fc78a5ca46a67c7\", element=\"90610a56-db1c-4a7b-b19f-3d1174293927\")>,\n",
       " <selenium.webdriver.remote.webelement.WebElement (session=\"60bacd1cc76a24b31fc78a5ca46a67c7\", element=\"f1ac344a-4ad4-4c31-9cbd-c9d929fe17a3\")>]"
      ]
     },
     "execution_count": 334,
     "metadata": {},
     "output_type": "execute_result"
    }
   ],
   "source": [
    "#Scrape the tittle of the job\n",
    "titles = driver.find_elements_by_xpath(\"//a[@class='title fw500 ellipsis']\")\n",
    "titles[0:10]"
   ]
  },
  {
   "cell_type": "code",
   "execution_count": 335,
   "id": "572ad4fa",
   "metadata": {},
   "outputs": [
    {
     "data": {
      "text/plain": [
       "['Lead / Principal Data Scientist',\n",
       " 'Immediate hiring For Senior Data Scientist - AI',\n",
       " 'Senior Data Scientist',\n",
       " 'Lead/Senior Data Scientist (NLP)',\n",
       " 'Job Opportunities For AI/ML Data Scientists - Cyient Ltd',\n",
       " 'Data Scientist',\n",
       " 'Sr. Associate Consultant Data Scientist',\n",
       " 'Senior Engineer - AIML - Data Scientist',\n",
       " 'Data Scientist: Advanced Analytics',\n",
       " 'Data Scientist: Advanced Analytics']"
      ]
     },
     "execution_count": 335,
     "metadata": {},
     "output_type": "execute_result"
    }
   ],
   "source": [
    "#Using the for loop to append all items in our list whcih we want to scarpe\n",
    "job_titles =[]\n",
    "job_titles1 =[]\n",
    "for i in titles:\n",
    "    title=i.text\n",
    "    job_titles.append(title)\n",
    "job_titles1=job_titles[0:10] \n",
    "job_titles1"
   ]
  },
  {
   "cell_type": "code",
   "execution_count": 336,
   "id": "8acfaa67",
   "metadata": {},
   "outputs": [
    {
     "data": {
      "text/plain": [
       "[<selenium.webdriver.remote.webelement.WebElement (session=\"60bacd1cc76a24b31fc78a5ca46a67c7\", element=\"4d4ef50f-9e42-4d14-8cc4-87a955c51765\")>,\n",
       " <selenium.webdriver.remote.webelement.WebElement (session=\"60bacd1cc76a24b31fc78a5ca46a67c7\", element=\"56bac432-bcde-4221-92ab-029f029822c9\")>,\n",
       " <selenium.webdriver.remote.webelement.WebElement (session=\"60bacd1cc76a24b31fc78a5ca46a67c7\", element=\"80e1f238-9e82-4dea-9a7c-4a6cb4038919\")>,\n",
       " <selenium.webdriver.remote.webelement.WebElement (session=\"60bacd1cc76a24b31fc78a5ca46a67c7\", element=\"975ef8a6-7be9-4a5e-ad64-a9a3b5bec5a4\")>,\n",
       " <selenium.webdriver.remote.webelement.WebElement (session=\"60bacd1cc76a24b31fc78a5ca46a67c7\", element=\"689c8aff-8926-4b69-aa7c-34a3f2ba20b2\")>,\n",
       " <selenium.webdriver.remote.webelement.WebElement (session=\"60bacd1cc76a24b31fc78a5ca46a67c7\", element=\"0b1b7d2c-3c9c-450c-a1bc-ecb8bed2de50\")>,\n",
       " <selenium.webdriver.remote.webelement.WebElement (session=\"60bacd1cc76a24b31fc78a5ca46a67c7\", element=\"936d9977-4165-4f9e-8d76-73195477dfb4\")>,\n",
       " <selenium.webdriver.remote.webelement.WebElement (session=\"60bacd1cc76a24b31fc78a5ca46a67c7\", element=\"0ded3519-8b3c-4848-94d7-328f90db9114\")>,\n",
       " <selenium.webdriver.remote.webelement.WebElement (session=\"60bacd1cc76a24b31fc78a5ca46a67c7\", element=\"1d70a904-5699-46cb-be75-1cfbb87141a9\")>,\n",
       " <selenium.webdriver.remote.webelement.WebElement (session=\"60bacd1cc76a24b31fc78a5ca46a67c7\", element=\"7a4acb1c-78c9-4ee2-ba5f-206031823faa\")>]"
      ]
     },
     "execution_count": 336,
     "metadata": {},
     "output_type": "execute_result"
    }
   ],
   "source": [
    "#Scrape the location of the job\n",
    "location = driver.find_elements_by_xpath(\"//li[@class='fleft grey-text br2 placeHolderLi location']/span\")\n",
    "location[0:10]"
   ]
  },
  {
   "cell_type": "code",
   "execution_count": 337,
   "id": "311d657a",
   "metadata": {},
   "outputs": [
    {
     "data": {
      "text/plain": [
       "['Mumbai, Hyderabad/Secunderabad, Pune, Delhi / NCR, Bangalore/Bengaluru',\n",
       " 'Hyderabad/Secunderabad, Chennai, Bangalore/Bengaluru',\n",
       " 'Bangalore/Bengaluru',\n",
       " 'Bangalore/Bengaluru',\n",
       " '(WFH during Covid)',\n",
       " 'Hyderabad/Secunderabad, Bangalore/Bengaluru',\n",
       " 'Bangalore/Bengaluru',\n",
       " 'Bangalore/Bengaluru',\n",
       " 'Bangalore/Bengaluru',\n",
       " 'Bengaluru/Bangalore']"
      ]
     },
     "execution_count": 337,
     "metadata": {},
     "output_type": "execute_result"
    }
   ],
   "source": [
    "#Using the for loop to append all items in our list whcih we want to scarpe\n",
    "job_location =[]\n",
    "job_location1=[]\n",
    "for i in location:\n",
    "    loc=i.text\n",
    "    job_location.append(loc)\n",
    "job_location1=job_location[0:10] \n",
    "job_location1"
   ]
  },
  {
   "cell_type": "code",
   "execution_count": 338,
   "id": "7203d695",
   "metadata": {},
   "outputs": [
    {
     "data": {
      "text/plain": [
       "[<selenium.webdriver.remote.webelement.WebElement (session=\"60bacd1cc76a24b31fc78a5ca46a67c7\", element=\"1d33f1c0-0c08-4bf2-863f-365c29c26a74\")>,\n",
       " <selenium.webdriver.remote.webelement.WebElement (session=\"60bacd1cc76a24b31fc78a5ca46a67c7\", element=\"5cb0e530-ea04-4747-8d6b-20714cc40736\")>,\n",
       " <selenium.webdriver.remote.webelement.WebElement (session=\"60bacd1cc76a24b31fc78a5ca46a67c7\", element=\"7153e56d-91f5-4c14-9a28-ffbf13c9ab7f\")>,\n",
       " <selenium.webdriver.remote.webelement.WebElement (session=\"60bacd1cc76a24b31fc78a5ca46a67c7\", element=\"75f60416-00a2-4564-8323-ef67286467f4\")>,\n",
       " <selenium.webdriver.remote.webelement.WebElement (session=\"60bacd1cc76a24b31fc78a5ca46a67c7\", element=\"9b5f97f7-e20d-436c-a0d5-a0501d04cc97\")>,\n",
       " <selenium.webdriver.remote.webelement.WebElement (session=\"60bacd1cc76a24b31fc78a5ca46a67c7\", element=\"b27883d9-5f63-4467-989f-94b501e8312d\")>,\n",
       " <selenium.webdriver.remote.webelement.WebElement (session=\"60bacd1cc76a24b31fc78a5ca46a67c7\", element=\"433d8bb7-a3c5-458c-897d-ab3f96c7a585\")>,\n",
       " <selenium.webdriver.remote.webelement.WebElement (session=\"60bacd1cc76a24b31fc78a5ca46a67c7\", element=\"710c1456-d3d6-4852-8674-dea0cb3c3111\")>,\n",
       " <selenium.webdriver.remote.webelement.WebElement (session=\"60bacd1cc76a24b31fc78a5ca46a67c7\", element=\"905388e9-9768-4238-a066-181acea22cb6\")>,\n",
       " <selenium.webdriver.remote.webelement.WebElement (session=\"60bacd1cc76a24b31fc78a5ca46a67c7\", element=\"4235a71f-e3a2-436e-a5e9-e685583f020b\")>]"
      ]
     },
     "execution_count": 338,
     "metadata": {},
     "output_type": "execute_result"
    }
   ],
   "source": [
    "#Scrape the Company name of the job\n",
    "company = driver.find_elements_by_xpath(\"//a[@class='subTitle ellipsis fleft']\")\n",
    "company[0:10]"
   ]
  },
  {
   "cell_type": "code",
   "execution_count": 339,
   "id": "873fe0e2",
   "metadata": {},
   "outputs": [
    {
     "data": {
      "text/plain": [
       "['Aviso Inc',\n",
       " 'MerchantRMS (A Unitof WINTLT TECHNOLOGIES PVT LTD)',\n",
       " 'Visa',\n",
       " 'Samya.AI A FRACTAL Entity',\n",
       " 'Cyient',\n",
       " 'Snaphunt',\n",
       " 'Eli Lilly and Company',\n",
       " 'Unisys',\n",
       " 'IBM India Pvt. Limited',\n",
       " 'IBM India Pvt. Limited']"
      ]
     },
     "execution_count": 339,
     "metadata": {},
     "output_type": "execute_result"
    }
   ],
   "source": [
    "#Using the for loop to append all items in our list whcih we want to scarpe\n",
    "comp_name =[]\n",
    "comp_name1 =[]\n",
    "for i in company:\n",
    "    comp=i.text\n",
    "    comp_name.append(comp)\n",
    "comp_name1=comp_name[0:10] \n",
    "comp_name1"
   ]
  },
  {
   "cell_type": "code",
   "execution_count": 340,
   "id": "b831d434",
   "metadata": {},
   "outputs": [
    {
     "data": {
      "text/plain": [
       "[<selenium.webdriver.remote.webelement.WebElement (session=\"60bacd1cc76a24b31fc78a5ca46a67c7\", element=\"8a167674-80b6-467b-ae28-d1eb7c4cd788\")>,\n",
       " <selenium.webdriver.remote.webelement.WebElement (session=\"60bacd1cc76a24b31fc78a5ca46a67c7\", element=\"cf8e0d06-6e02-4b47-a567-61b79938fa36\")>,\n",
       " <selenium.webdriver.remote.webelement.WebElement (session=\"60bacd1cc76a24b31fc78a5ca46a67c7\", element=\"027465b9-65df-4a01-b5f9-5d491b19d0b9\")>,\n",
       " <selenium.webdriver.remote.webelement.WebElement (session=\"60bacd1cc76a24b31fc78a5ca46a67c7\", element=\"ae00875b-1690-46c3-ab35-a6bec317f0f9\")>,\n",
       " <selenium.webdriver.remote.webelement.WebElement (session=\"60bacd1cc76a24b31fc78a5ca46a67c7\", element=\"32fe219c-6c9b-46dd-81e8-e02dadf77a34\")>,\n",
       " <selenium.webdriver.remote.webelement.WebElement (session=\"60bacd1cc76a24b31fc78a5ca46a67c7\", element=\"8b9d22de-c457-4be7-b61b-a877706c367a\")>,\n",
       " <selenium.webdriver.remote.webelement.WebElement (session=\"60bacd1cc76a24b31fc78a5ca46a67c7\", element=\"e89b668b-f9fb-4b0b-a9ff-15f285aad2b3\")>,\n",
       " <selenium.webdriver.remote.webelement.WebElement (session=\"60bacd1cc76a24b31fc78a5ca46a67c7\", element=\"95d1e5ed-0c62-4112-84f9-d37da92b32d1\")>,\n",
       " <selenium.webdriver.remote.webelement.WebElement (session=\"60bacd1cc76a24b31fc78a5ca46a67c7\", element=\"722b2b12-402e-428b-a0ae-3ca2b9df8758\")>,\n",
       " <selenium.webdriver.remote.webelement.WebElement (session=\"60bacd1cc76a24b31fc78a5ca46a67c7\", element=\"91707d6f-8919-4905-8678-554397011d42\")>]"
      ]
     },
     "execution_count": 340,
     "metadata": {},
     "output_type": "execute_result"
    }
   ],
   "source": [
    "#Scrape the experience of the job\n",
    "experience = driver.find_elements_by_xpath(\"//li[@class='fleft grey-text br2 placeHolderLi experience']/span\")\n",
    "experience[0:10]"
   ]
  },
  {
   "cell_type": "code",
   "execution_count": 341,
   "id": "8edc92a1",
   "metadata": {},
   "outputs": [
    {
     "data": {
      "text/plain": [
       "['8-13 Yrs',\n",
       " '5-10 Yrs',\n",
       " '4-9 Yrs',\n",
       " '3-8 Yrs',\n",
       " '5-10 Yrs',\n",
       " '0-2 Yrs',\n",
       " '3-5 Yrs',\n",
       " '4-9 Yrs',\n",
       " '5-7 Yrs',\n",
       " '5-10 Yrs']"
      ]
     },
     "execution_count": 341,
     "metadata": {},
     "output_type": "execute_result"
    }
   ],
   "source": [
    "#Using the for loop to append all items in our list whcih we want to scarpe\n",
    "exp_req =[]\n",
    "exp_req1 =[]\n",
    "for i in experience:\n",
    "    exp=i.text\n",
    "    exp_req.append(exp)\n",
    "exp_req1=exp_req[0:10]\n",
    "exp_req1"
   ]
  },
  {
   "cell_type": "code",
   "execution_count": 342,
   "id": "bbebe4f8",
   "metadata": {},
   "outputs": [
    {
     "data": {
      "text/html": [
       "<div>\n",
       "<style scoped>\n",
       "    .dataframe tbody tr th:only-of-type {\n",
       "        vertical-align: middle;\n",
       "    }\n",
       "\n",
       "    .dataframe tbody tr th {\n",
       "        vertical-align: top;\n",
       "    }\n",
       "\n",
       "    .dataframe thead th {\n",
       "        text-align: right;\n",
       "    }\n",
       "</style>\n",
       "<table border=\"1\" class=\"dataframe\">\n",
       "  <thead>\n",
       "    <tr style=\"text-align: right;\">\n",
       "      <th></th>\n",
       "      <th>Title</th>\n",
       "      <th>Location</th>\n",
       "      <th>Company</th>\n",
       "      <th>experience</th>\n",
       "    </tr>\n",
       "  </thead>\n",
       "  <tbody>\n",
       "    <tr>\n",
       "      <th>0</th>\n",
       "      <td>Lead / Principal Data Scientist</td>\n",
       "      <td>Mumbai, Hyderabad/Secunderabad, Pune, Delhi / ...</td>\n",
       "      <td>Aviso Inc</td>\n",
       "      <td>8-13 Yrs</td>\n",
       "    </tr>\n",
       "    <tr>\n",
       "      <th>1</th>\n",
       "      <td>Immediate hiring For Senior Data Scientist - AI</td>\n",
       "      <td>Hyderabad/Secunderabad, Chennai, Bangalore/Ben...</td>\n",
       "      <td>MerchantRMS (A Unitof WINTLT TECHNOLOGIES PVT ...</td>\n",
       "      <td>5-10 Yrs</td>\n",
       "    </tr>\n",
       "    <tr>\n",
       "      <th>2</th>\n",
       "      <td>Senior Data Scientist</td>\n",
       "      <td>Bangalore/Bengaluru</td>\n",
       "      <td>Visa</td>\n",
       "      <td>4-9 Yrs</td>\n",
       "    </tr>\n",
       "    <tr>\n",
       "      <th>3</th>\n",
       "      <td>Lead/Senior Data Scientist (NLP)</td>\n",
       "      <td>Bangalore/Bengaluru</td>\n",
       "      <td>Samya.AI A FRACTAL Entity</td>\n",
       "      <td>3-8 Yrs</td>\n",
       "    </tr>\n",
       "    <tr>\n",
       "      <th>4</th>\n",
       "      <td>Job Opportunities For AI/ML Data Scientists - ...</td>\n",
       "      <td>(WFH during Covid)</td>\n",
       "      <td>Cyient</td>\n",
       "      <td>5-10 Yrs</td>\n",
       "    </tr>\n",
       "    <tr>\n",
       "      <th>5</th>\n",
       "      <td>Data Scientist</td>\n",
       "      <td>Hyderabad/Secunderabad, Bangalore/Bengaluru</td>\n",
       "      <td>Snaphunt</td>\n",
       "      <td>0-2 Yrs</td>\n",
       "    </tr>\n",
       "    <tr>\n",
       "      <th>6</th>\n",
       "      <td>Sr. Associate Consultant Data Scientist</td>\n",
       "      <td>Bangalore/Bengaluru</td>\n",
       "      <td>Eli Lilly and Company</td>\n",
       "      <td>3-5 Yrs</td>\n",
       "    </tr>\n",
       "    <tr>\n",
       "      <th>7</th>\n",
       "      <td>Senior Engineer - AIML - Data Scientist</td>\n",
       "      <td>Bangalore/Bengaluru</td>\n",
       "      <td>Unisys</td>\n",
       "      <td>4-9 Yrs</td>\n",
       "    </tr>\n",
       "    <tr>\n",
       "      <th>8</th>\n",
       "      <td>Data Scientist: Advanced Analytics</td>\n",
       "      <td>Bangalore/Bengaluru</td>\n",
       "      <td>IBM India Pvt. Limited</td>\n",
       "      <td>5-7 Yrs</td>\n",
       "    </tr>\n",
       "    <tr>\n",
       "      <th>9</th>\n",
       "      <td>Data Scientist: Advanced Analytics</td>\n",
       "      <td>Bengaluru/Bangalore</td>\n",
       "      <td>IBM India Pvt. Limited</td>\n",
       "      <td>5-10 Yrs</td>\n",
       "    </tr>\n",
       "  </tbody>\n",
       "</table>\n",
       "</div>"
      ],
      "text/plain": [
       "                                               Title  \\\n",
       "0                    Lead / Principal Data Scientist   \n",
       "1    Immediate hiring For Senior Data Scientist - AI   \n",
       "2                              Senior Data Scientist   \n",
       "3                   Lead/Senior Data Scientist (NLP)   \n",
       "4  Job Opportunities For AI/ML Data Scientists - ...   \n",
       "5                                     Data Scientist   \n",
       "6            Sr. Associate Consultant Data Scientist   \n",
       "7            Senior Engineer - AIML - Data Scientist   \n",
       "8                 Data Scientist: Advanced Analytics   \n",
       "9                 Data Scientist: Advanced Analytics   \n",
       "\n",
       "                                            Location  \\\n",
       "0  Mumbai, Hyderabad/Secunderabad, Pune, Delhi / ...   \n",
       "1  Hyderabad/Secunderabad, Chennai, Bangalore/Ben...   \n",
       "2                                Bangalore/Bengaluru   \n",
       "3                                Bangalore/Bengaluru   \n",
       "4                                 (WFH during Covid)   \n",
       "5        Hyderabad/Secunderabad, Bangalore/Bengaluru   \n",
       "6                                Bangalore/Bengaluru   \n",
       "7                                Bangalore/Bengaluru   \n",
       "8                                Bangalore/Bengaluru   \n",
       "9                                Bengaluru/Bangalore   \n",
       "\n",
       "                                             Company experience  \n",
       "0                                          Aviso Inc   8-13 Yrs  \n",
       "1  MerchantRMS (A Unitof WINTLT TECHNOLOGIES PVT ...   5-10 Yrs  \n",
       "2                                               Visa    4-9 Yrs  \n",
       "3                          Samya.AI A FRACTAL Entity    3-8 Yrs  \n",
       "4                                             Cyient   5-10 Yrs  \n",
       "5                                           Snaphunt    0-2 Yrs  \n",
       "6                              Eli Lilly and Company    3-5 Yrs  \n",
       "7                                             Unisys    4-9 Yrs  \n",
       "8                             IBM India Pvt. Limited    5-7 Yrs  \n",
       "9                             IBM India Pvt. Limited   5-10 Yrs  "
      ]
     },
     "execution_count": 342,
     "metadata": {},
     "output_type": "execute_result"
    }
   ],
   "source": [
    "#Finally store the value and create one dataframe\n",
    "jobs = pd.DataFrame({\"Title\": job_titles1, \"Location\": job_location1, \"Company\": comp_name1,  \"experience\":exp_req1})\n",
    "jobs"
   ]
  },
  {
   "cell_type": "markdown",
   "id": "56c41836",
   "metadata": {},
   "source": [
    "# Q3- Scrape data using the filters available on the Webpage."
   ]
  },
  {
   "cell_type": "code",
   "execution_count": 343,
   "id": "a0ce41f2",
   "metadata": {},
   "outputs": [],
   "source": [
    "#Open the page by using driver\n",
    "driver = webdriver.Chrome(r\"C:/Users/hp-pc/Downloads/chromedriver_win32/chromedriver\")"
   ]
  },
  {
   "cell_type": "code",
   "execution_count": 344,
   "id": "13f06fed",
   "metadata": {},
   "outputs": [],
   "source": [
    "#open the website \n",
    "driver.get('https://www.naukri.com/')"
   ]
  },
  {
   "cell_type": "code",
   "execution_count": 345,
   "id": "96ccc730",
   "metadata": {},
   "outputs": [],
   "source": [
    "#Write the field on search bar\n",
    "search_job = driver.find_element_by_xpath(\"//input[@class='sugInp']\")\n",
    "search_job.send_keys(\"Data Scientist\")"
   ]
  },
  {
   "cell_type": "code",
   "execution_count": 346,
   "id": "b39e40cc",
   "metadata": {},
   "outputs": [],
   "source": [
    "#click on search button\n",
    "search_btn = driver.find_element_by_xpath(\"//button[@class='btn']\")\n",
    "search_btn.click()"
   ]
  },
  {
   "cell_type": "code",
   "execution_count": 347,
   "id": "7ff144ac",
   "metadata": {},
   "outputs": [],
   "source": [
    "# select the location by using filters\n",
    "search_btn = driver.find_element_by_xpath(\"//*[text()='Delhi / NCR' and @class='ellipsis fleft']//..//..//i\")\n",
    "search_btn.click()"
   ]
  },
  {
   "cell_type": "code",
   "execution_count": 348,
   "id": "57c9e9d3",
   "metadata": {},
   "outputs": [],
   "source": [
    "#Select the Salary bar\n",
    "search_btn = driver.find_element_by_xpath(\"//*[@data-filter-id='salaryRange']//*[@class='fleft lH20']\")\n",
    "search_btn.click()"
   ]
  },
  {
   "cell_type": "code",
   "execution_count": 354,
   "id": "e6a72769",
   "metadata": {},
   "outputs": [],
   "source": [
    "#Select the salary range\n",
    "search_btn = driver.find_element_by_xpath(\"//*[text()='3-6 Lakhs']//..//..//i\")\n",
    "search_btn.click()"
   ]
  },
  {
   "cell_type": "code",
   "execution_count": 355,
   "id": "48048647",
   "metadata": {},
   "outputs": [
    {
     "data": {
      "text/plain": [
       "[<selenium.webdriver.remote.webelement.WebElement (session=\"095cadc8f7fcb959c83937787cede16b\", element=\"b2e387da-5912-4f52-a858-adf87547dc5a\")>,\n",
       " <selenium.webdriver.remote.webelement.WebElement (session=\"095cadc8f7fcb959c83937787cede16b\", element=\"c63606f8-d03b-4f32-adc6-877b3238a8d1\")>,\n",
       " <selenium.webdriver.remote.webelement.WebElement (session=\"095cadc8f7fcb959c83937787cede16b\", element=\"70330ad1-0d62-4092-8f3a-f8652fbcac31\")>,\n",
       " <selenium.webdriver.remote.webelement.WebElement (session=\"095cadc8f7fcb959c83937787cede16b\", element=\"fd348ab1-c573-4d8d-80c5-3882061fa6a5\")>,\n",
       " <selenium.webdriver.remote.webelement.WebElement (session=\"095cadc8f7fcb959c83937787cede16b\", element=\"76df84b8-494a-45b6-a5c3-faf6e62b5fad\")>,\n",
       " <selenium.webdriver.remote.webelement.WebElement (session=\"095cadc8f7fcb959c83937787cede16b\", element=\"94224a0a-579d-4349-b662-73236ac6c106\")>,\n",
       " <selenium.webdriver.remote.webelement.WebElement (session=\"095cadc8f7fcb959c83937787cede16b\", element=\"bb6dd65c-0661-4151-9bdd-836474d1904c\")>,\n",
       " <selenium.webdriver.remote.webelement.WebElement (session=\"095cadc8f7fcb959c83937787cede16b\", element=\"78d74196-98a4-4754-abce-8102d1bb926c\")>,\n",
       " <selenium.webdriver.remote.webelement.WebElement (session=\"095cadc8f7fcb959c83937787cede16b\", element=\"0f65f012-371e-4a65-bf42-5beee58c2d3b\")>,\n",
       " <selenium.webdriver.remote.webelement.WebElement (session=\"095cadc8f7fcb959c83937787cede16b\", element=\"83d6d7a7-8dbe-4805-8f93-598db93de714\")>]"
      ]
     },
     "execution_count": 355,
     "metadata": {},
     "output_type": "execute_result"
    }
   ],
   "source": [
    "#Now Scrape the job title \n",
    "job_title = driver.find_elements_by_xpath(\"//a[@class='title fw500 ellipsis']\")\n",
    "job_title[0:10]"
   ]
  },
  {
   "cell_type": "code",
   "execution_count": 356,
   "id": "a5453372",
   "metadata": {},
   "outputs": [
    {
     "data": {
      "text/plain": [
       "['Lead / Principal Data Scientist',\n",
       " 'Data Scientist: Advanced Analytics',\n",
       " 'Senior Data Scientist',\n",
       " 'Senior Data Scientist',\n",
       " 'Data Science - Senior Data Scientist',\n",
       " 'Data Scientist: Advanced Analytics',\n",
       " 'Data Scientist',\n",
       " 'Sr Data Scientist',\n",
       " 'Data Scientist: Artificial Intelligence',\n",
       " 'Data Scientist']"
      ]
     },
     "execution_count": 356,
     "metadata": {},
     "output_type": "execute_result"
    }
   ],
   "source": [
    "#We need to scrape only top 10 relevant field\n",
    "job_title0 =[]\n",
    "job_title1 =[]\n",
    "for i in job_title:\n",
    "    b=i.text\n",
    "    job_title0.append(b)\n",
    "job_title1=job_title0[0:10]\n",
    "job_title1"
   ]
  },
  {
   "cell_type": "code",
   "execution_count": 357,
   "id": "81c92c4e",
   "metadata": {},
   "outputs": [
    {
     "data": {
      "text/plain": [
       "[<selenium.webdriver.remote.webelement.WebElement (session=\"095cadc8f7fcb959c83937787cede16b\", element=\"45882d0d-74cb-4a0d-a5d0-1f579902c29a\")>,\n",
       " <selenium.webdriver.remote.webelement.WebElement (session=\"095cadc8f7fcb959c83937787cede16b\", element=\"5cdd2e38-8efc-41fe-98bf-fc547b076380\")>,\n",
       " <selenium.webdriver.remote.webelement.WebElement (session=\"095cadc8f7fcb959c83937787cede16b\", element=\"96093a20-2e1a-452b-84f0-0e791c386677\")>,\n",
       " <selenium.webdriver.remote.webelement.WebElement (session=\"095cadc8f7fcb959c83937787cede16b\", element=\"9d81f118-ff5d-4155-872b-5a94a6d6e5a9\")>,\n",
       " <selenium.webdriver.remote.webelement.WebElement (session=\"095cadc8f7fcb959c83937787cede16b\", element=\"f3456631-9dee-4d97-8740-8abfeaf97455\")>,\n",
       " <selenium.webdriver.remote.webelement.WebElement (session=\"095cadc8f7fcb959c83937787cede16b\", element=\"731e80df-2d20-42d5-88c7-bc162bcac723\")>,\n",
       " <selenium.webdriver.remote.webelement.WebElement (session=\"095cadc8f7fcb959c83937787cede16b\", element=\"61fa3eda-bf43-4336-9d16-32b9c02fd51d\")>,\n",
       " <selenium.webdriver.remote.webelement.WebElement (session=\"095cadc8f7fcb959c83937787cede16b\", element=\"af5acc16-20c2-4982-82d7-3e0d3a393b39\")>,\n",
       " <selenium.webdriver.remote.webelement.WebElement (session=\"095cadc8f7fcb959c83937787cede16b\", element=\"58c7e9ef-8cdc-44aa-a69a-dc67a750d3f5\")>,\n",
       " <selenium.webdriver.remote.webelement.WebElement (session=\"095cadc8f7fcb959c83937787cede16b\", element=\"4bc0cb55-e10a-41ce-a8bc-70f38f6598a6\")>]"
      ]
     },
     "execution_count": 357,
     "metadata": {},
     "output_type": "execute_result"
    }
   ],
   "source": [
    "#Scrape the job location\n",
    "job_location = driver.find_elements_by_xpath(\"//li[@class='fleft grey-text br2 placeHolderLi location']\")\n",
    "job_location[0:10]"
   ]
  },
  {
   "cell_type": "code",
   "execution_count": 358,
   "id": "a3747a35",
   "metadata": {},
   "outputs": [
    {
     "data": {
      "text/plain": [
       "['Mumbai, Hyderabad/Secunderabad, Pune, Delhi / NCR, Bangalore/Bengaluru',\n",
       " 'Gurgaon/Gurugram',\n",
       " 'Pune, Bangalore/Bengaluru, Delhi / NCR',\n",
       " 'Kolkata, Hyderabad/Secunderabad, Pune, Chennai, Bangalore/Bengaluru, Delhi / NCR, Mumbai (All Areas)\\n(WFH during Covid)',\n",
       " 'Noida, Bangalore/Bengaluru',\n",
       " 'Delhi / NCR',\n",
       " 'Noida, New Delhi, Faridabad, Gurgaon/Gurugram, Delhi / NCR',\n",
       " 'Gurgaon/Gurugram',\n",
       " 'Gurgaon/Gurugram',\n",
       " 'Noida, Nodia\\n(WFH during Covid)']"
      ]
     },
     "execution_count": 358,
     "metadata": {},
     "output_type": "execute_result"
    }
   ],
   "source": [
    "#We need to scrape only top 10 relevant field\n",
    "job_location0 =[]\n",
    "job_location1 =[]\n",
    "for i in job_location:\n",
    "    b=i.text\n",
    "    job_location0.append(b)\n",
    "job_location1=job_location0[0:10]\n",
    "job_location1"
   ]
  },
  {
   "cell_type": "code",
   "execution_count": 359,
   "id": "58cef511",
   "metadata": {},
   "outputs": [
    {
     "data": {
      "text/plain": [
       "[<selenium.webdriver.remote.webelement.WebElement (session=\"095cadc8f7fcb959c83937787cede16b\", element=\"cf0bcb45-7c41-4abb-881c-2c1521bbb1f3\")>,\n",
       " <selenium.webdriver.remote.webelement.WebElement (session=\"095cadc8f7fcb959c83937787cede16b\", element=\"2e60d036-73dc-4875-bd9e-dcd04ff17299\")>,\n",
       " <selenium.webdriver.remote.webelement.WebElement (session=\"095cadc8f7fcb959c83937787cede16b\", element=\"8a1a1c34-aad3-417f-940d-edbcd93ff588\")>,\n",
       " <selenium.webdriver.remote.webelement.WebElement (session=\"095cadc8f7fcb959c83937787cede16b\", element=\"ba754f14-751b-48ac-bd72-5831463e2045\")>,\n",
       " <selenium.webdriver.remote.webelement.WebElement (session=\"095cadc8f7fcb959c83937787cede16b\", element=\"4cd51c18-9bd2-46cd-a1fd-d0ca214c9672\")>,\n",
       " <selenium.webdriver.remote.webelement.WebElement (session=\"095cadc8f7fcb959c83937787cede16b\", element=\"78bb1f08-b9f3-48e8-87f2-b8cac027f917\")>,\n",
       " <selenium.webdriver.remote.webelement.WebElement (session=\"095cadc8f7fcb959c83937787cede16b\", element=\"8ee6ec15-05dd-4f05-9ad2-e2bda518be04\")>,\n",
       " <selenium.webdriver.remote.webelement.WebElement (session=\"095cadc8f7fcb959c83937787cede16b\", element=\"6b44801e-df10-4131-b804-3406e0c9fd28\")>,\n",
       " <selenium.webdriver.remote.webelement.WebElement (session=\"095cadc8f7fcb959c83937787cede16b\", element=\"e6583f2f-cefb-4043-9b1b-fdbecd3c77dc\")>,\n",
       " <selenium.webdriver.remote.webelement.WebElement (session=\"095cadc8f7fcb959c83937787cede16b\", element=\"b742f0f4-e377-4a2a-9f09-a2eb9aeb78b9\")>]"
      ]
     },
     "execution_count": 359,
     "metadata": {},
     "output_type": "execute_result"
    }
   ],
   "source": [
    "#Scrape the company name\n",
    "comp_name = driver.find_elements_by_xpath(\"//a[@class='subTitle ellipsis fleft']\")\n",
    "comp_name[0:10]"
   ]
  },
  {
   "cell_type": "code",
   "execution_count": 360,
   "id": "01bc1e48",
   "metadata": {},
   "outputs": [
    {
     "data": {
      "text/plain": [
       "['Aviso Inc',\n",
       " 'IBM India Pvt. Limited',\n",
       " 'Wipro',\n",
       " 'Wipro',\n",
       " 'Paytm',\n",
       " 'IBM India Pvt. Limited',\n",
       " 'LG Electronics India Pvt. Ltd.',\n",
       " 'Talent Integrators',\n",
       " 'IBM India Pvt. Limited',\n",
       " 'Navikenz India Pvt Ltd']"
      ]
     },
     "execution_count": 360,
     "metadata": {},
     "output_type": "execute_result"
    }
   ],
   "source": [
    "#We need to scrape only top 10 relevant field\n",
    "comp_name0 =[]\n",
    "comp_name1 =[]\n",
    "for i in comp_name:\n",
    "    b=i.text\n",
    "    comp_name0.append(b)\n",
    "comp_name1=comp_name0[0:10]\n",
    "comp_name1"
   ]
  },
  {
   "cell_type": "code",
   "execution_count": 361,
   "id": "be28bdd5",
   "metadata": {},
   "outputs": [
    {
     "data": {
      "text/plain": [
       "[<selenium.webdriver.remote.webelement.WebElement (session=\"095cadc8f7fcb959c83937787cede16b\", element=\"c9ba1891-ef0a-4f30-9755-fd2ad7e89ca1\")>,\n",
       " <selenium.webdriver.remote.webelement.WebElement (session=\"095cadc8f7fcb959c83937787cede16b\", element=\"839a874e-bb77-471b-ba10-5e4e0c067ef0\")>,\n",
       " <selenium.webdriver.remote.webelement.WebElement (session=\"095cadc8f7fcb959c83937787cede16b\", element=\"3b05fba8-21a1-4ca7-888c-890dba6a6295\")>,\n",
       " <selenium.webdriver.remote.webelement.WebElement (session=\"095cadc8f7fcb959c83937787cede16b\", element=\"21c2d1b7-3c2b-44cb-92eb-0add031f3f4a\")>,\n",
       " <selenium.webdriver.remote.webelement.WebElement (session=\"095cadc8f7fcb959c83937787cede16b\", element=\"415dab29-a8d6-4b25-8628-43505085162e\")>,\n",
       " <selenium.webdriver.remote.webelement.WebElement (session=\"095cadc8f7fcb959c83937787cede16b\", element=\"cef5fa65-b08c-49e5-bb14-22ef246bb3e9\")>,\n",
       " <selenium.webdriver.remote.webelement.WebElement (session=\"095cadc8f7fcb959c83937787cede16b\", element=\"2ac922c0-3146-4b75-b606-c888dee8e196\")>,\n",
       " <selenium.webdriver.remote.webelement.WebElement (session=\"095cadc8f7fcb959c83937787cede16b\", element=\"b0419f7b-9684-4cfc-bb80-e789d8a49615\")>,\n",
       " <selenium.webdriver.remote.webelement.WebElement (session=\"095cadc8f7fcb959c83937787cede16b\", element=\"0d11cef3-cd9a-4a67-8ddb-82373ed76230\")>,\n",
       " <selenium.webdriver.remote.webelement.WebElement (session=\"095cadc8f7fcb959c83937787cede16b\", element=\"9c5fd822-188c-4baf-bceb-67c49edc287f\")>]"
      ]
     },
     "execution_count": 361,
     "metadata": {},
     "output_type": "execute_result"
    }
   ],
   "source": [
    "#Scrape the experience required\n",
    "exp_req = driver.find_elements_by_xpath(\"//li[@class='fleft grey-text br2 placeHolderLi experience']\")\n",
    "exp_req[0:10]"
   ]
  },
  {
   "cell_type": "code",
   "execution_count": 362,
   "id": "0a4e4079",
   "metadata": {},
   "outputs": [
    {
     "data": {
      "text/plain": [
       "['8-13 Yrs',\n",
       " '5-10 Yrs',\n",
       " '4-9 Yrs',\n",
       " '5-10 Yrs',\n",
       " '2-4 Yrs',\n",
       " '5-10 Yrs',\n",
       " '0-2 Yrs',\n",
       " '8-12 Yrs',\n",
       " '4-8 Yrs',\n",
       " '2-7 Yrs']"
      ]
     },
     "execution_count": 362,
     "metadata": {},
     "output_type": "execute_result"
    }
   ],
   "source": [
    "#We need to scrape only top 10 relevant field\n",
    "exp_req0 =[]\n",
    "exp_req1 =[]\n",
    "for i in exp_req:\n",
    "    b=i.text\n",
    "    exp_req0.append(b)\n",
    "exp_req1=exp_req0[0:10]\n",
    "exp_req1"
   ]
  },
  {
   "cell_type": "code",
   "execution_count": 363,
   "id": "f01ba37f",
   "metadata": {},
   "outputs": [
    {
     "data": {
      "text/html": [
       "<div>\n",
       "<style scoped>\n",
       "    .dataframe tbody tr th:only-of-type {\n",
       "        vertical-align: middle;\n",
       "    }\n",
       "\n",
       "    .dataframe tbody tr th {\n",
       "        vertical-align: top;\n",
       "    }\n",
       "\n",
       "    .dataframe thead th {\n",
       "        text-align: right;\n",
       "    }\n",
       "</style>\n",
       "<table border=\"1\" class=\"dataframe\">\n",
       "  <thead>\n",
       "    <tr style=\"text-align: right;\">\n",
       "      <th></th>\n",
       "      <th>Job_title</th>\n",
       "      <th>Job_Location</th>\n",
       "      <th>Company_name</th>\n",
       "      <th>Experience_required</th>\n",
       "    </tr>\n",
       "  </thead>\n",
       "  <tbody>\n",
       "    <tr>\n",
       "      <th>0</th>\n",
       "      <td>Lead / Principal Data Scientist</td>\n",
       "      <td>Mumbai, Hyderabad/Secunderabad, Pune, Delhi / ...</td>\n",
       "      <td>Aviso Inc</td>\n",
       "      <td>8-13 Yrs</td>\n",
       "    </tr>\n",
       "    <tr>\n",
       "      <th>1</th>\n",
       "      <td>Data Scientist: Advanced Analytics</td>\n",
       "      <td>Gurgaon/Gurugram</td>\n",
       "      <td>IBM India Pvt. Limited</td>\n",
       "      <td>5-10 Yrs</td>\n",
       "    </tr>\n",
       "    <tr>\n",
       "      <th>2</th>\n",
       "      <td>Senior Data Scientist</td>\n",
       "      <td>Pune, Bangalore/Bengaluru, Delhi / NCR</td>\n",
       "      <td>Wipro</td>\n",
       "      <td>4-9 Yrs</td>\n",
       "    </tr>\n",
       "    <tr>\n",
       "      <th>3</th>\n",
       "      <td>Senior Data Scientist</td>\n",
       "      <td>Kolkata, Hyderabad/Secunderabad, Pune, Chennai...</td>\n",
       "      <td>Wipro</td>\n",
       "      <td>5-10 Yrs</td>\n",
       "    </tr>\n",
       "    <tr>\n",
       "      <th>4</th>\n",
       "      <td>Data Science - Senior Data Scientist</td>\n",
       "      <td>Noida, Bangalore/Bengaluru</td>\n",
       "      <td>Paytm</td>\n",
       "      <td>2-4 Yrs</td>\n",
       "    </tr>\n",
       "    <tr>\n",
       "      <th>5</th>\n",
       "      <td>Data Scientist: Advanced Analytics</td>\n",
       "      <td>Delhi / NCR</td>\n",
       "      <td>IBM India Pvt. Limited</td>\n",
       "      <td>5-10 Yrs</td>\n",
       "    </tr>\n",
       "    <tr>\n",
       "      <th>6</th>\n",
       "      <td>Data Scientist</td>\n",
       "      <td>Noida, New Delhi, Faridabad, Gurgaon/Gurugram,...</td>\n",
       "      <td>LG Electronics India Pvt. Ltd.</td>\n",
       "      <td>0-2 Yrs</td>\n",
       "    </tr>\n",
       "    <tr>\n",
       "      <th>7</th>\n",
       "      <td>Sr Data Scientist</td>\n",
       "      <td>Gurgaon/Gurugram</td>\n",
       "      <td>Talent Integrators</td>\n",
       "      <td>8-12 Yrs</td>\n",
       "    </tr>\n",
       "    <tr>\n",
       "      <th>8</th>\n",
       "      <td>Data Scientist: Artificial Intelligence</td>\n",
       "      <td>Gurgaon/Gurugram</td>\n",
       "      <td>IBM India Pvt. Limited</td>\n",
       "      <td>4-8 Yrs</td>\n",
       "    </tr>\n",
       "    <tr>\n",
       "      <th>9</th>\n",
       "      <td>Data Scientist</td>\n",
       "      <td>Noida, Nodia\\n(WFH during Covid)</td>\n",
       "      <td>Navikenz India Pvt Ltd</td>\n",
       "      <td>2-7 Yrs</td>\n",
       "    </tr>\n",
       "  </tbody>\n",
       "</table>\n",
       "</div>"
      ],
      "text/plain": [
       "                                 Job_title  \\\n",
       "0          Lead / Principal Data Scientist   \n",
       "1       Data Scientist: Advanced Analytics   \n",
       "2                    Senior Data Scientist   \n",
       "3                    Senior Data Scientist   \n",
       "4     Data Science - Senior Data Scientist   \n",
       "5       Data Scientist: Advanced Analytics   \n",
       "6                           Data Scientist   \n",
       "7                        Sr Data Scientist   \n",
       "8  Data Scientist: Artificial Intelligence   \n",
       "9                           Data Scientist   \n",
       "\n",
       "                                        Job_Location  \\\n",
       "0  Mumbai, Hyderabad/Secunderabad, Pune, Delhi / ...   \n",
       "1                                   Gurgaon/Gurugram   \n",
       "2             Pune, Bangalore/Bengaluru, Delhi / NCR   \n",
       "3  Kolkata, Hyderabad/Secunderabad, Pune, Chennai...   \n",
       "4                         Noida, Bangalore/Bengaluru   \n",
       "5                                        Delhi / NCR   \n",
       "6  Noida, New Delhi, Faridabad, Gurgaon/Gurugram,...   \n",
       "7                                   Gurgaon/Gurugram   \n",
       "8                                   Gurgaon/Gurugram   \n",
       "9                   Noida, Nodia\\n(WFH during Covid)   \n",
       "\n",
       "                     Company_name Experience_required  \n",
       "0                       Aviso Inc            8-13 Yrs  \n",
       "1          IBM India Pvt. Limited            5-10 Yrs  \n",
       "2                           Wipro             4-9 Yrs  \n",
       "3                           Wipro            5-10 Yrs  \n",
       "4                           Paytm             2-4 Yrs  \n",
       "5          IBM India Pvt. Limited            5-10 Yrs  \n",
       "6  LG Electronics India Pvt. Ltd.             0-2 Yrs  \n",
       "7              Talent Integrators            8-12 Yrs  \n",
       "8          IBM India Pvt. Limited             4-8 Yrs  \n",
       "9          Navikenz India Pvt Ltd             2-7 Yrs  "
      ]
     },
     "execution_count": 363,
     "metadata": {},
     "output_type": "execute_result"
    }
   ],
   "source": [
    "# Finally create a dataframe of the scraped data. \n",
    "job = pd.DataFrame({\"Job_title\":job_title1,\"Job_Location\": job_location1, \"Company_name\": comp_name1, \"Experience_required\": exp_req1 })\n",
    "job"
   ]
  },
  {
   "cell_type": "markdown",
   "id": "94b1e668",
   "metadata": {},
   "source": [
    "# Q4: Scrape data of first 100 sunglasses listings on flipkart.com"
   ]
  },
  {
   "cell_type": "code",
   "execution_count": 364,
   "id": "af0bbd72",
   "metadata": {},
   "outputs": [],
   "source": [
    "#Open the page by using driver\n",
    "driver = webdriver.Chrome(r\"C:/Users/hp-pc/Downloads/chromedriver_win32/chromedriver\")"
   ]
  },
  {
   "cell_type": "code",
   "execution_count": 365,
   "id": "9487c136",
   "metadata": {},
   "outputs": [],
   "source": [
    "#open the website \n",
    "driver.get('https://www.flipkart.com/')"
   ]
  },
  {
   "cell_type": "code",
   "execution_count": 366,
   "id": "82bc58fd",
   "metadata": {},
   "outputs": [],
   "source": [
    "#Write the field on search bar\n",
    "search_job = driver.find_element_by_xpath(\"//input[@class='_3704LK']\")\n",
    "search_job.send_keys(\"Sunglass\")"
   ]
  },
  {
   "cell_type": "code",
   "execution_count": 368,
   "id": "92a6f803",
   "metadata": {},
   "outputs": [],
   "source": [
    "#Click on search button\n",
    "search_btn = driver.find_element_by_xpath(\"//button[@class='L0Z3Pu']\")\n",
    "search_btn.click()"
   ]
  },
  {
   "cell_type": "code",
   "execution_count": 369,
   "id": "677cbc37",
   "metadata": {},
   "outputs": [
    {
     "data": {
      "text/plain": [
       "[<selenium.webdriver.remote.webelement.WebElement (session=\"cc8b5a7eca6a5844e6af9d1498c4e681\", element=\"f3577a7f-e5e4-42a5-8407-40cb70c133f3\")>,\n",
       " <selenium.webdriver.remote.webelement.WebElement (session=\"cc8b5a7eca6a5844e6af9d1498c4e681\", element=\"3472b5e5-b8d4-43c8-aa3f-0f7b39ccbb4d\")>,\n",
       " <selenium.webdriver.remote.webelement.WebElement (session=\"cc8b5a7eca6a5844e6af9d1498c4e681\", element=\"bb32e25f-d656-4a48-900f-bac3d93f19b7\")>,\n",
       " <selenium.webdriver.remote.webelement.WebElement (session=\"cc8b5a7eca6a5844e6af9d1498c4e681\", element=\"622ec920-4b0d-490e-9358-cfbfced551ea\")>,\n",
       " <selenium.webdriver.remote.webelement.WebElement (session=\"cc8b5a7eca6a5844e6af9d1498c4e681\", element=\"5317fa13-2f52-4422-8db2-c2269418e6b9\")>,\n",
       " <selenium.webdriver.remote.webelement.WebElement (session=\"cc8b5a7eca6a5844e6af9d1498c4e681\", element=\"86387bee-1b46-4cb6-917c-0a392b067826\")>,\n",
       " <selenium.webdriver.remote.webelement.WebElement (session=\"cc8b5a7eca6a5844e6af9d1498c4e681\", element=\"bbf2c223-a2e3-4589-ac49-584b0008b19a\")>,\n",
       " <selenium.webdriver.remote.webelement.WebElement (session=\"cc8b5a7eca6a5844e6af9d1498c4e681\", element=\"6ff9619c-6348-42ef-a158-51619a6e873b\")>,\n",
       " <selenium.webdriver.remote.webelement.WebElement (session=\"cc8b5a7eca6a5844e6af9d1498c4e681\", element=\"2d5d7d88-a7f5-4f5a-8f88-8ddfce22165f\")>,\n",
       " <selenium.webdriver.remote.webelement.WebElement (session=\"cc8b5a7eca6a5844e6af9d1498c4e681\", element=\"44977c15-8b0a-472f-a698-1c4f8d0e4746\")>]"
      ]
     },
     "execution_count": 369,
     "metadata": {},
     "output_type": "execute_result"
    }
   ],
   "source": [
    "#Now Scrape the brand \n",
    "brand = driver.find_elements_by_xpath(\"//div[@class='_2WkVRV']\")\n",
    "brand[0:10]\n",
    "brand3 = driver.find_elements_by_xpath(\"//div[@class='_2WkVRV']\")\n",
    "brand3[0:10]\n",
    "brand4 = driver.find_elements_by_xpath(\"//div[@class='_2WkVRV']\")\n",
    "brand4[0:10]"
   ]
  },
  {
   "cell_type": "code",
   "execution_count": 370,
   "id": "620eb6c7",
   "metadata": {},
   "outputs": [
    {
     "name": "stdout",
     "output_type": "stream",
     "text": [
      "100\n"
     ]
    }
   ],
   "source": [
    "#Using the for loop to append all items in our list whcih we want to scarpe\n",
    "brand0 =[]\n",
    "brand1 =[]\n",
    "for i in brand:\n",
    "    b=i.text\n",
    "    brand0.append(b)\n",
    "brand1=brand0[0:100]\n",
    "\n",
    "for i in brand3:\n",
    "    b=i.text\n",
    "    brand0.append(b)\n",
    "brand1=brand0[0:100]\n",
    "\n",
    "for i in brand4:\n",
    "    b=i.text\n",
    "    brand0.append(b)\n",
    "brand1=brand0[0:100]\n",
    "brand1\n",
    "print(len(brand1))"
   ]
  },
  {
   "cell_type": "code",
   "execution_count": 371,
   "id": "acaa117c",
   "metadata": {},
   "outputs": [
    {
     "data": {
      "text/plain": [
       "[<selenium.webdriver.remote.webelement.WebElement (session=\"cc8b5a7eca6a5844e6af9d1498c4e681\", element=\"aef9f55d-aba8-482a-b452-caf1daa9ec85\")>,\n",
       " <selenium.webdriver.remote.webelement.WebElement (session=\"cc8b5a7eca6a5844e6af9d1498c4e681\", element=\"c6c271e8-1b7e-444c-8576-09181b120d9b\")>,\n",
       " <selenium.webdriver.remote.webelement.WebElement (session=\"cc8b5a7eca6a5844e6af9d1498c4e681\", element=\"b7ff34b2-2484-479f-b82f-b42f78e78bba\")>,\n",
       " <selenium.webdriver.remote.webelement.WebElement (session=\"cc8b5a7eca6a5844e6af9d1498c4e681\", element=\"8356a54c-5b48-464b-99c5-4311ffa5d509\")>,\n",
       " <selenium.webdriver.remote.webelement.WebElement (session=\"cc8b5a7eca6a5844e6af9d1498c4e681\", element=\"ad30d6a3-b5cd-45f8-a6ba-4dee773e044b\")>,\n",
       " <selenium.webdriver.remote.webelement.WebElement (session=\"cc8b5a7eca6a5844e6af9d1498c4e681\", element=\"8226f2e7-8cb0-42bf-a20f-f17a161aacf4\")>,\n",
       " <selenium.webdriver.remote.webelement.WebElement (session=\"cc8b5a7eca6a5844e6af9d1498c4e681\", element=\"3ee8c639-9d29-48db-aee5-7de1874dc562\")>,\n",
       " <selenium.webdriver.remote.webelement.WebElement (session=\"cc8b5a7eca6a5844e6af9d1498c4e681\", element=\"dceae751-4fb0-442a-bd0e-4973195912bc\")>,\n",
       " <selenium.webdriver.remote.webelement.WebElement (session=\"cc8b5a7eca6a5844e6af9d1498c4e681\", element=\"25f737eb-3abb-4c4e-bd65-0f1934cabe20\")>,\n",
       " <selenium.webdriver.remote.webelement.WebElement (session=\"cc8b5a7eca6a5844e6af9d1498c4e681\", element=\"16a5b13b-4349-4d01-9cd3-64b9fc882025\")>]"
      ]
     },
     "execution_count": 371,
     "metadata": {},
     "output_type": "execute_result"
    }
   ],
   "source": [
    "#Now Scrape the product description \n",
    "pro_dis = driver.find_elements_by_xpath(\"//a[@class='IRpwTa']\")\n",
    "pro_dis[0:10]\n",
    "pro_dis3 = driver.find_elements_by_xpath(\"//a[@class='IRpwTa']\")\n",
    "pro_dis3[0:10]\n",
    "pro_dis4 = driver.find_elements_by_xpath(\"//a[@class='IRpwTa']\")\n",
    "pro_dis4[0:10]"
   ]
  },
  {
   "cell_type": "code",
   "execution_count": 372,
   "id": "b59b3968",
   "metadata": {},
   "outputs": [
    {
     "name": "stdout",
     "output_type": "stream",
     "text": [
      "100\n"
     ]
    }
   ],
   "source": [
    "# Using the for loop to append all items in our list whcih we want to scarpe\n",
    "pro_dis0 =[]\n",
    "pro_dis1 =[]\n",
    "for i in pro_dis:\n",
    "    b=i.text\n",
    "    pro_dis0.append(b)\n",
    "pro_dis1=pro_dis0[0:100]\n",
    "\n",
    "for i in pro_dis3:\n",
    "    b=i.text\n",
    "    pro_dis0.append(b)\n",
    "pro_dis1=pro_dis0[0:100]\n",
    "\n",
    "for i in pro_dis4:\n",
    "    b=i.text\n",
    "    pro_dis0.append(b)\n",
    "pro_dis1=pro_dis0[0:100]\n",
    "pro_dis1\n",
    "print(len(pro_dis1))"
   ]
  },
  {
   "cell_type": "code",
   "execution_count": 373,
   "id": "3117b897",
   "metadata": {
    "scrolled": true
   },
   "outputs": [
    {
     "data": {
      "text/plain": [
       "[<selenium.webdriver.remote.webelement.WebElement (session=\"cc8b5a7eca6a5844e6af9d1498c4e681\", element=\"8ce52357-dada-46de-b60e-98051a0b969f\")>,\n",
       " <selenium.webdriver.remote.webelement.WebElement (session=\"cc8b5a7eca6a5844e6af9d1498c4e681\", element=\"17955655-403a-47d2-aae0-bb5c96742930\")>,\n",
       " <selenium.webdriver.remote.webelement.WebElement (session=\"cc8b5a7eca6a5844e6af9d1498c4e681\", element=\"633f756e-1c7e-4ea1-ac74-15b5cf144ee8\")>,\n",
       " <selenium.webdriver.remote.webelement.WebElement (session=\"cc8b5a7eca6a5844e6af9d1498c4e681\", element=\"72a59d0d-e8e1-47ad-9d26-84559e0acc5d\")>,\n",
       " <selenium.webdriver.remote.webelement.WebElement (session=\"cc8b5a7eca6a5844e6af9d1498c4e681\", element=\"d04f58ef-36a2-4cbe-8d5d-1cc551e42d69\")>,\n",
       " <selenium.webdriver.remote.webelement.WebElement (session=\"cc8b5a7eca6a5844e6af9d1498c4e681\", element=\"85713b31-fa4e-4bf6-a6cd-63cf3c0e11b1\")>,\n",
       " <selenium.webdriver.remote.webelement.WebElement (session=\"cc8b5a7eca6a5844e6af9d1498c4e681\", element=\"ba88dca3-b1e9-4146-8fd7-cc5e8652e328\")>,\n",
       " <selenium.webdriver.remote.webelement.WebElement (session=\"cc8b5a7eca6a5844e6af9d1498c4e681\", element=\"1558e85c-8dd7-489e-b8d9-9911a4738328\")>,\n",
       " <selenium.webdriver.remote.webelement.WebElement (session=\"cc8b5a7eca6a5844e6af9d1498c4e681\", element=\"e9a2355b-680e-4d25-ab1f-15b341d405e9\")>,\n",
       " <selenium.webdriver.remote.webelement.WebElement (session=\"cc8b5a7eca6a5844e6af9d1498c4e681\", element=\"4dd6a191-5189-40f8-b6d8-39796c6c4359\")>]"
      ]
     },
     "execution_count": 373,
     "metadata": {},
     "output_type": "execute_result"
    }
   ],
   "source": [
    "#Now Scrape the price\n",
    "price = driver.find_elements_by_xpath(\"//div[@class='_30jeq3']\")\n",
    "price[0:10]\n",
    "price3 = driver.find_elements_by_xpath(\"//div[@class='_30jeq3']\")\n",
    "price3[0:10]\n",
    "price4 = driver.find_elements_by_xpath(\"//div[@class='_30jeq3']\")\n",
    "price4[0:10]"
   ]
  },
  {
   "cell_type": "code",
   "execution_count": 374,
   "id": "960761d5",
   "metadata": {},
   "outputs": [
    {
     "name": "stdout",
     "output_type": "stream",
     "text": [
      "100\n"
     ]
    }
   ],
   "source": [
    "# Using the for loop to append all items in our list whcih we want to scarpe\n",
    "price0 =[]\n",
    "price1 =[]\n",
    "for i in price:\n",
    "    b=i.text\n",
    "    price0.append(b)\n",
    "price1=price0[0:100]\n",
    "for i in price3:\n",
    "    b=i.text\n",
    "    price0.append(b)\n",
    "price1=price0[0:100]\n",
    "\n",
    "for i in price4:\n",
    "    b=i.text\n",
    "    price0.append(b)\n",
    "price1=price0[0:100]\n",
    "price1\n",
    "print(len(price1))"
   ]
  },
  {
   "cell_type": "code",
   "execution_count": 375,
   "id": "d3479a10",
   "metadata": {},
   "outputs": [
    {
     "data": {
      "text/html": [
       "<div>\n",
       "<style scoped>\n",
       "    .dataframe tbody tr th:only-of-type {\n",
       "        vertical-align: middle;\n",
       "    }\n",
       "\n",
       "    .dataframe tbody tr th {\n",
       "        vertical-align: top;\n",
       "    }\n",
       "\n",
       "    .dataframe thead th {\n",
       "        text-align: right;\n",
       "    }\n",
       "</style>\n",
       "<table border=\"1\" class=\"dataframe\">\n",
       "  <thead>\n",
       "    <tr style=\"text-align: right;\">\n",
       "      <th></th>\n",
       "      <th>Brand</th>\n",
       "      <th>Product Description</th>\n",
       "      <th>Price</th>\n",
       "    </tr>\n",
       "  </thead>\n",
       "  <tbody>\n",
       "    <tr>\n",
       "      <th>0</th>\n",
       "      <td>ROZZETTA CRAFT</td>\n",
       "      <td>UV Protection, Gradient Aviator Sunglasses (Fr...</td>\n",
       "      <td>₹649</td>\n",
       "    </tr>\n",
       "    <tr>\n",
       "      <th>1</th>\n",
       "      <td>RMKK</td>\n",
       "      <td>UV Protection Wayfarer Sunglasses (56)</td>\n",
       "      <td>₹87</td>\n",
       "    </tr>\n",
       "    <tr>\n",
       "      <th>2</th>\n",
       "      <td>SRPM</td>\n",
       "      <td>UV Protection Round Sunglasses (54)</td>\n",
       "      <td>₹188</td>\n",
       "    </tr>\n",
       "    <tr>\n",
       "      <th>3</th>\n",
       "      <td>Elligator</td>\n",
       "      <td>UV Protection Aviator Sunglasses (54)</td>\n",
       "      <td>₹248</td>\n",
       "    </tr>\n",
       "    <tr>\n",
       "      <th>4</th>\n",
       "      <td>PIRASO</td>\n",
       "      <td>UV Protection Rectangular Sunglasses (Free Size)</td>\n",
       "      <td>₹200</td>\n",
       "    </tr>\n",
       "    <tr>\n",
       "      <th>...</th>\n",
       "      <td>...</td>\n",
       "      <td>...</td>\n",
       "      <td>...</td>\n",
       "    </tr>\n",
       "    <tr>\n",
       "      <th>95</th>\n",
       "      <td>RMKK</td>\n",
       "      <td>UV Protection Wayfarer Sunglasses (32)</td>\n",
       "      <td>₹99</td>\n",
       "    </tr>\n",
       "    <tr>\n",
       "      <th>96</th>\n",
       "      <td>ROZZETTA CRAFT</td>\n",
       "      <td>UV Protection, Riding Glasses, Mirrored Wayfar...</td>\n",
       "      <td>₹383</td>\n",
       "    </tr>\n",
       "    <tr>\n",
       "      <th>97</th>\n",
       "      <td>SUNBEE</td>\n",
       "      <td>UV Protection, Mirrored Retro Square Sunglasse...</td>\n",
       "      <td>₹271</td>\n",
       "    </tr>\n",
       "    <tr>\n",
       "      <th>98</th>\n",
       "      <td>ROZZETTA CRAFT</td>\n",
       "      <td>UV Protection Rectangular, Over-sized Sunglass...</td>\n",
       "      <td>₹474</td>\n",
       "    </tr>\n",
       "    <tr>\n",
       "      <th>99</th>\n",
       "      <td>PIRASO</td>\n",
       "      <td>UV Protection Sports Sunglasses (Free Size)</td>\n",
       "      <td>₹261</td>\n",
       "    </tr>\n",
       "  </tbody>\n",
       "</table>\n",
       "<p>100 rows × 3 columns</p>\n",
       "</div>"
      ],
      "text/plain": [
       "             Brand                                Product Description Price\n",
       "0   ROZZETTA CRAFT  UV Protection, Gradient Aviator Sunglasses (Fr...  ₹649\n",
       "1             RMKK             UV Protection Wayfarer Sunglasses (56)   ₹87\n",
       "2             SRPM                UV Protection Round Sunglasses (54)  ₹188\n",
       "3        Elligator              UV Protection Aviator Sunglasses (54)  ₹248\n",
       "4           PIRASO   UV Protection Rectangular Sunglasses (Free Size)  ₹200\n",
       "..             ...                                                ...   ...\n",
       "95            RMKK             UV Protection Wayfarer Sunglasses (32)   ₹99\n",
       "96  ROZZETTA CRAFT  UV Protection, Riding Glasses, Mirrored Wayfar...  ₹383\n",
       "97          SUNBEE  UV Protection, Mirrored Retro Square Sunglasse...  ₹271\n",
       "98  ROZZETTA CRAFT  UV Protection Rectangular, Over-sized Sunglass...  ₹474\n",
       "99          PIRASO        UV Protection Sports Sunglasses (Free Size)  ₹261\n",
       "\n",
       "[100 rows x 3 columns]"
      ]
     },
     "execution_count": 375,
     "metadata": {},
     "output_type": "execute_result"
    }
   ],
   "source": [
    "#Finally store the value and create one dataframe\n",
    "Product = pd.DataFrame({\"Brand\": brand1,\"Product Description\": pro_dis1, \"Price\": price1})\n",
    "Product"
   ]
  },
  {
   "cell_type": "markdown",
   "id": "260b519a",
   "metadata": {},
   "source": [
    "# Q5- Scrape 100 reviews data from flipkart.com for iphone11 phone."
   ]
  },
  {
   "cell_type": "code",
   "execution_count": 376,
   "id": "b3b663db",
   "metadata": {},
   "outputs": [],
   "source": [
    "# Open the page by using driver\n",
    "driver = webdriver.Chrome(r\"C:/Users/hp-pc/Downloads/chromedriver_win32/chromedriver\")"
   ]
  },
  {
   "cell_type": "code",
   "execution_count": 377,
   "id": "bd742dae",
   "metadata": {},
   "outputs": [],
   "source": [
    "# Copy the website URL which we want to scrape\n",
    "url = \"https://www.flipkart.com/apple-iphone-11-black-64-gb/product-reviews/itm4e5041ba101fd?pid=MOBFWQ6BXGJCEYNY&lid=LSTMOBFWQ6BXGJCEYNYZXSHRJ&marketplace=FLIPKART\""
   ]
  },
  {
   "cell_type": "code",
   "execution_count": 378,
   "id": "751992f4",
   "metadata": {},
   "outputs": [],
   "source": [
    "# Open the website by using driver.get command\n",
    "driver.get(url)"
   ]
  },
  {
   "cell_type": "code",
   "execution_count": 379,
   "id": "920db242",
   "metadata": {},
   "outputs": [
    {
     "data": {
      "text/plain": [
       "[<selenium.webdriver.remote.webelement.WebElement (session=\"69097bd80ffff43a9466b2d5cdb7b263\", element=\"4a9c52d0-0fa5-43ea-8dca-0a423003c4c7\")>,\n",
       " <selenium.webdriver.remote.webelement.WebElement (session=\"69097bd80ffff43a9466b2d5cdb7b263\", element=\"6d9d19a1-c4e7-495c-8f0b-b9f4935a1c15\")>,\n",
       " <selenium.webdriver.remote.webelement.WebElement (session=\"69097bd80ffff43a9466b2d5cdb7b263\", element=\"1b131028-8b5c-41c8-aeb8-56beacc67495\")>,\n",
       " <selenium.webdriver.remote.webelement.WebElement (session=\"69097bd80ffff43a9466b2d5cdb7b263\", element=\"97808af7-fbae-47b6-bacf-3dc0f56de8ac\")>,\n",
       " <selenium.webdriver.remote.webelement.WebElement (session=\"69097bd80ffff43a9466b2d5cdb7b263\", element=\"7f4c1cc5-337c-423e-8a25-aa5dc34a0990\")>,\n",
       " <selenium.webdriver.remote.webelement.WebElement (session=\"69097bd80ffff43a9466b2d5cdb7b263\", element=\"5dcc0224-6162-4fbd-b87b-e649ebbfcec9\")>,\n",
       " <selenium.webdriver.remote.webelement.WebElement (session=\"69097bd80ffff43a9466b2d5cdb7b263\", element=\"3e7fd42f-8985-48e3-93da-eb6bdc255e28\")>,\n",
       " <selenium.webdriver.remote.webelement.WebElement (session=\"69097bd80ffff43a9466b2d5cdb7b263\", element=\"3cd32304-3a0d-4f1d-8920-86931081e5e4\")>,\n",
       " <selenium.webdriver.remote.webelement.WebElement (session=\"69097bd80ffff43a9466b2d5cdb7b263\", element=\"64d32b30-f3e5-466a-830a-fb462af4d2d4\")>,\n",
       " <selenium.webdriver.remote.webelement.WebElement (session=\"69097bd80ffff43a9466b2d5cdb7b263\", element=\"cdcfb83c-9247-4c91-9d8c-e468071c2604\")>]"
      ]
     },
     "execution_count": 379,
     "metadata": {},
     "output_type": "execute_result"
    }
   ],
   "source": [
    "# Now Scrape the Ratings\n",
    "r1= driver.find_elements_by_xpath(\"//div[@class='_3LWZlK _1BLPMq']\")\n",
    "r1[0:10]\n",
    "r2 = driver.find_elements_by_xpath(\"//div[@class='_3LWZlK _1BLPMq']\")\n",
    "r2[0:10]\n",
    "r3 = driver.find_elements_by_xpath(\"//div[@class='_3LWZlK _1BLPMq']\")\n",
    "r3[0:10]\n",
    "r4 = driver.find_elements_by_xpath(\"//div[@class='_3LWZlK _1BLPMq']\")\n",
    "r4[0:10]\n",
    "r5 = driver.find_elements_by_xpath(\"//div[@class='_3LWZlK _1BLPMq']\")\n",
    "r5[0:10]\n",
    "r6 = driver.find_elements_by_xpath(\"//div[@class='_3LWZlK _1BLPMq']\")\n",
    "r6[0:10]\n",
    "r7 = driver.find_elements_by_xpath(\"//div[@class='_3LWZlK _1BLPMq']\")\n",
    "r7[0:10]\n",
    "r8 = driver.find_elements_by_xpath(\"//div[@class='_3LWZlK _1BLPMq']\")\n",
    "r8[0:10]\n",
    "r9 = driver.find_elements_by_xpath(\"//div[@class='_3LWZlK _1BLPMq']\")\n",
    "r9[0:10]\n",
    "r10 = driver.find_elements_by_xpath(\"//div[@class='_3LWZlK _1BLPMq']\")\n",
    "r10[0:10]"
   ]
  },
  {
   "cell_type": "code",
   "execution_count": 380,
   "id": "a9e75daf",
   "metadata": {},
   "outputs": [
    {
     "name": "stdout",
     "output_type": "stream",
     "text": [
      "100\n"
     ]
    }
   ],
   "source": [
    "# Using the for loop to append all items in our list whcih we want to scarpe\n",
    "r_0 =[]\n",
    "r_1 =[]\n",
    "for i in r1:\n",
    "    b=i.text\n",
    "    r_0.append(b)\n",
    "r_1=r_0[0:100]\n",
    "\n",
    "for i in r2:\n",
    "    b=i.text\n",
    "    r_0.append(b)\n",
    "r_1=r_0[0:100]\n",
    "\n",
    "for i in r3:\n",
    "    b=i.text\n",
    "    r_0.append(b)\n",
    "r_1=r_0[0:100]\n",
    "\n",
    "for i in r4:\n",
    "    b=i.text\n",
    "    r_0.append(b)\n",
    "r_1=r_0[0:100]\n",
    "\n",
    "for i in r5:\n",
    "    b=i.text\n",
    "    r_0.append(b)\n",
    "r_1=r_0[0:100]\n",
    "\n",
    "for i in r6:\n",
    "    b=i.text\n",
    "    r_0.append(b)\n",
    "r_1=r_0[0:100]\n",
    "\n",
    "for i in r7:\n",
    "    b=i.text\n",
    "    r_0.append(b)\n",
    "r_1=r_0[0:100]\n",
    "\n",
    "for i in r8:\n",
    "    b=i.text\n",
    "    r_0.append(b)\n",
    "r_1=r_0[0:100]\n",
    "\n",
    "for i in r9:\n",
    "    b=i.text\n",
    "    r_0.append(b)\n",
    "r_1=r_0[0:100]\n",
    "\n",
    "for i in r10:\n",
    "    b=i.text\n",
    "    r_0.append(b)\n",
    "r_1=r_0[0:100]\n",
    "\n",
    "print(len(r_1))"
   ]
  },
  {
   "cell_type": "code",
   "execution_count": 381,
   "id": "61191ca4",
   "metadata": {},
   "outputs": [
    {
     "data": {
      "text/plain": [
       "[<selenium.webdriver.remote.webelement.WebElement (session=\"69097bd80ffff43a9466b2d5cdb7b263\", element=\"316dfa9c-2a7d-44e4-8f34-e3e7c778ad34\")>,\n",
       " <selenium.webdriver.remote.webelement.WebElement (session=\"69097bd80ffff43a9466b2d5cdb7b263\", element=\"043958d8-12bd-4d26-85f9-33d5c5cda659\")>,\n",
       " <selenium.webdriver.remote.webelement.WebElement (session=\"69097bd80ffff43a9466b2d5cdb7b263\", element=\"e7c10f22-e33f-4edf-b71f-0b106bd8aefe\")>,\n",
       " <selenium.webdriver.remote.webelement.WebElement (session=\"69097bd80ffff43a9466b2d5cdb7b263\", element=\"ac7f0314-ad46-47ea-9715-596094393770\")>,\n",
       " <selenium.webdriver.remote.webelement.WebElement (session=\"69097bd80ffff43a9466b2d5cdb7b263\", element=\"a5c2e3b8-147f-4356-b85f-b91cf9994e7d\")>,\n",
       " <selenium.webdriver.remote.webelement.WebElement (session=\"69097bd80ffff43a9466b2d5cdb7b263\", element=\"e974c34a-1eef-45c8-a0a7-c04d4a8232f8\")>,\n",
       " <selenium.webdriver.remote.webelement.WebElement (session=\"69097bd80ffff43a9466b2d5cdb7b263\", element=\"200a5df3-b620-4c3d-8cdc-8e26716a3f0e\")>,\n",
       " <selenium.webdriver.remote.webelement.WebElement (session=\"69097bd80ffff43a9466b2d5cdb7b263\", element=\"e4bc54d1-1230-4ea1-aad0-384de577e655\")>,\n",
       " <selenium.webdriver.remote.webelement.WebElement (session=\"69097bd80ffff43a9466b2d5cdb7b263\", element=\"6ac518c1-db2d-41d9-ade1-a5b7f57ea78f\")>,\n",
       " <selenium.webdriver.remote.webelement.WebElement (session=\"69097bd80ffff43a9466b2d5cdb7b263\", element=\"b38361ef-213c-474b-acb0-e9fba13dd3a9\")>]"
      ]
     },
     "execution_count": 381,
     "metadata": {},
     "output_type": "execute_result"
    }
   ],
   "source": [
    "# Now Scrape the Reviews summary\n",
    "rs1= driver.find_elements_by_xpath(\"//p[@class='_2-N8zT']\")\n",
    "rs1[0:10]\n",
    "rs2= driver.find_elements_by_xpath(\"//p[@class='_2-N8zT']\")\n",
    "rs2[0:10]\n",
    "rs3= driver.find_elements_by_xpath(\"//p[@class='_2-N8zT']\")\n",
    "rs3[0:10]\n",
    "rs4= driver.find_elements_by_xpath(\"//p[@class='_2-N8zT']\")\n",
    "rs4[0:10]\n",
    "rs5= driver.find_elements_by_xpath(\"//p[@class='_2-N8zT']\")\n",
    "rs5[0:10]\n",
    "rs6= driver.find_elements_by_xpath(\"//p[@class='_2-N8zT']\")\n",
    "rs6[0:10]\n",
    "rs7= driver.find_elements_by_xpath(\"//p[@class='_2-N8zT']\")\n",
    "rs7[0:10]\n",
    "rs8= driver.find_elements_by_xpath(\"//p[@class='_2-N8zT']\")\n",
    "rs8[0:10]\n",
    "rs9= driver.find_elements_by_xpath(\"//p[@class='_2-N8zT']\")\n",
    "rs9[0:10]\n",
    "rs10= driver.find_elements_by_xpath(\"//p[@class='_2-N8zT']\")\n",
    "rs10[0:10]"
   ]
  },
  {
   "cell_type": "code",
   "execution_count": 382,
   "id": "cbe2a0bf",
   "metadata": {},
   "outputs": [
    {
     "name": "stdout",
     "output_type": "stream",
     "text": [
      "100\n"
     ]
    }
   ],
   "source": [
    "# Using the for loop to append all items in our list whcih we want to scarpe\n",
    "rs_0 =[]\n",
    "rs_1 =[]\n",
    "for i in rs1:\n",
    "    b=i.text\n",
    "    rs_0.append(b)\n",
    "rs_1 = rs_0[0:100]\n",
    "\n",
    "for i in rs2:\n",
    "    b=i.text\n",
    "    rs_0.append(b)\n",
    "rs_1 = rs_0[0:100]\n",
    "\n",
    "for i in rs3:\n",
    "    b=i.text\n",
    "    rs_0.append(b)\n",
    "rs_1 = rs_0[0:100]\n",
    "\n",
    "for i in rs4:\n",
    "    b=i.text\n",
    "    rs_0.append(b)\n",
    "rs_1 = rs_0[0:100]\n",
    "\n",
    "for i in rs5:\n",
    "    b=i.text\n",
    "    rs_0.append(b)\n",
    "rs_1 = rs_0[0:100]\n",
    "\n",
    "for i in rs6:\n",
    "    b=i.text\n",
    "    rs_0.append(b)\n",
    "rs_1 = rs_0[0:100]\n",
    "\n",
    "for i in rs7:\n",
    "    b=i.text\n",
    "    rs_0.append(b)\n",
    "rs_1 = rs_0[0:100]\n",
    "\n",
    "for i in rs8:\n",
    "    b=i.text\n",
    "    rs_0.append(b)\n",
    "rs_1 = rs_0[0:100]\n",
    "\n",
    "for i in rs9:\n",
    "    b=i.text\n",
    "    rs_0.append(b)\n",
    "rs_1 = rs_0[0:100]\n",
    "\n",
    "for i in rs10:\n",
    "    b=i.text\n",
    "    rs_0.append(b)\n",
    "rs_1 = rs_0[0:100]\n",
    "print(len(rs_1))"
   ]
  },
  {
   "cell_type": "code",
   "execution_count": 383,
   "id": "bff138ef",
   "metadata": {},
   "outputs": [
    {
     "data": {
      "text/plain": [
       "[<selenium.webdriver.remote.webelement.WebElement (session=\"69097bd80ffff43a9466b2d5cdb7b263\", element=\"36585641-ab58-4ee6-9d36-25cbf66c9125\")>,\n",
       " <selenium.webdriver.remote.webelement.WebElement (session=\"69097bd80ffff43a9466b2d5cdb7b263\", element=\"dd9b8bd0-a340-4cc9-aa56-3a69bf67a02d\")>,\n",
       " <selenium.webdriver.remote.webelement.WebElement (session=\"69097bd80ffff43a9466b2d5cdb7b263\", element=\"e861cd1d-69c9-4073-a2f9-1258fe6a6925\")>,\n",
       " <selenium.webdriver.remote.webelement.WebElement (session=\"69097bd80ffff43a9466b2d5cdb7b263\", element=\"cf18d4fd-131c-4e2a-912a-40161a5e60ee\")>,\n",
       " <selenium.webdriver.remote.webelement.WebElement (session=\"69097bd80ffff43a9466b2d5cdb7b263\", element=\"8ce5901c-8e4e-44c3-af73-f93bb0e45150\")>,\n",
       " <selenium.webdriver.remote.webelement.WebElement (session=\"69097bd80ffff43a9466b2d5cdb7b263\", element=\"f937c337-d08b-4ecf-ac4b-e47de831480f\")>,\n",
       " <selenium.webdriver.remote.webelement.WebElement (session=\"69097bd80ffff43a9466b2d5cdb7b263\", element=\"a3342ce1-95e4-4330-a791-5eca4dc68b19\")>,\n",
       " <selenium.webdriver.remote.webelement.WebElement (session=\"69097bd80ffff43a9466b2d5cdb7b263\", element=\"4ea759a6-d100-45ed-8457-6b701906395c\")>,\n",
       " <selenium.webdriver.remote.webelement.WebElement (session=\"69097bd80ffff43a9466b2d5cdb7b263\", element=\"ba37ae59-44cf-4a67-8a81-656ad958655f\")>,\n",
       " <selenium.webdriver.remote.webelement.WebElement (session=\"69097bd80ffff43a9466b2d5cdb7b263\", element=\"565ee9e1-7345-4be6-b153-7ee96ceaed97\")>]"
      ]
     },
     "execution_count": 383,
     "metadata": {},
     "output_type": "execute_result"
    }
   ],
   "source": [
    "# Now Scrape the full review\n",
    "fr1= driver.find_elements_by_xpath(\"//div[@class='t-ZTKy']\")\n",
    "fr1[0:10]\n",
    "fr2= driver.find_elements_by_xpath(\"//div[@class='t-ZTKy']\")\n",
    "fr2[0:10]\n",
    "fr3= driver.find_elements_by_xpath(\"//div[@class='t-ZTKy']\")\n",
    "fr3[0:10]\n",
    "fr4= driver.find_elements_by_xpath(\"//div[@class='t-ZTKy']\")\n",
    "fr4[0:10]\n",
    "fr5= driver.find_elements_by_xpath(\"//div[@class='t-ZTKy']\")\n",
    "fr5[0:10]\n",
    "fr6= driver.find_elements_by_xpath(\"//div[@class='t-ZTKy']\")\n",
    "fr6[0:10]\n",
    "fr7= driver.find_elements_by_xpath(\"//div[@class='t-ZTKy']\")\n",
    "fr7[0:10]\n",
    "fr8= driver.find_elements_by_xpath(\"//div[@class='t-ZTKy']\")\n",
    "fr8[0:10]\n",
    "fr9= driver.find_elements_by_xpath(\"//div[@class='t-ZTKy']\")\n",
    "fr9[0:10]\n",
    "fr10= driver.find_elements_by_xpath(\"//div[@class='t-ZTKy']\")\n",
    "fr10[0:10]"
   ]
  },
  {
   "cell_type": "code",
   "execution_count": 384,
   "id": "e17da6d1",
   "metadata": {},
   "outputs": [
    {
     "name": "stdout",
     "output_type": "stream",
     "text": [
      "['The Best Phone for the Money\\n\\nThe iPhone 11 offers superb cameras, a more durable design and excellent battery life for an affordable price.\\n\\nCompelling ultra-wide camera\\nNew Night mode is excellent\\nLong battery life', 'Really satisfied with the Product I received... It’s totally genuine and the packaging was also really good so if ur planning to buy just go for it.', 'Great iPhone very snappy experience as apple kind. Upgraded from iPhone 7.\\nPros\\n-Camera top class\\n- Battery top performed\\n-Chipset no need to say as apple kind\\n-Security as you expect from apple\\n- Display super bright industry leading colour\\naccuracy and super responsive\\n-Build quality as expect from apple sturdy\\npremium durable beautiful stylish.\\n-Os most stable os in smartphone industry\\n\\nCons\\n-No 5G\\n-Display is not based on OLED technology\\n-Charger headphones and 1 apple stic...\\nREAD MORE', 'Amazing phone with great cameras and better battery which gives you the best performance. I just love the camera .', 'Previously I was using one plus 3t it was a great phone\\nAnd then I decided to upgrade I am stuck between Samsung s10 plus or iPhone 11\\nI have seen the specs and everything were good except the display it’s somewhere between 720-1080 and it’s not even an amoled it’s an LCD display\\nBut I decided to go with iPhone because I have never used an IOS device I have Been an android user from the past 9 years I ordered IPhone 11 (128gb) product red\\nMy experience after using 3 weeks\\n1. The delivery ...\\nREAD MORE', 'This is my first iOS phone. I am very happy with this product. Very much satisfied with this. I love this phone.', 'Amazing Powerful and Durable Gadget.\\n\\nI’m am very happy with the camera picture quality, Amazing face id unlocked in dark room, Strong battery with perfect screen size as you can carry easily in pocket. This is my third iPhone.\\n\\nI shifted from android Samsung Note series to iPhone because of the strong build quality and peace of mind for next 3-4 years.\\n\\nDon’t think to much just go for it and I suggest you to go for minimum 128gb variant or more 256gb.\\n\\nI’ve attached my puppy pics and no fi...\\nREAD MORE', 'i11 is worthy to buy, too much happy with the product. Thank u flipkart I received the item on time..loved it..', 'So far it’s been an AMAZING experience coming back to iOS after nearly a decade but it’s not as versatile as android though phone is sturdy dropped it accidentally a couple of times and nothing happened fortunately camera is awesome', 'What a camera .....just awesome ..you can feel this iPhone just awesome . Good for gaming also ...try pubg in hd it’s just wow', 'The Best Phone for the Money\\n\\nThe iPhone 11 offers superb cameras, a more durable design and excellent battery life for an affordable price.\\n\\nCompelling ultra-wide camera\\nNew Night mode is excellent\\nLong battery life', 'Really satisfied with the Product I received... It’s totally genuine and the packaging was also really good so if ur planning to buy just go for it.', 'Great iPhone very snappy experience as apple kind. Upgraded from iPhone 7.\\nPros\\n-Camera top class\\n- Battery top performed\\n-Chipset no need to say as apple kind\\n-Security as you expect from apple\\n- Display super bright industry leading colour\\naccuracy and super responsive\\n-Build quality as expect from apple sturdy\\npremium durable beautiful stylish.\\n-Os most stable os in smartphone industry\\n\\nCons\\n-No 5G\\n-Display is not based on OLED technology\\n-Charger headphones and 1 apple stic...\\nREAD MORE', 'Amazing phone with great cameras and better battery which gives you the best performance. I just love the camera .', 'Previously I was using one plus 3t it was a great phone\\nAnd then I decided to upgrade I am stuck between Samsung s10 plus or iPhone 11\\nI have seen the specs and everything were good except the display it’s somewhere between 720-1080 and it’s not even an amoled it’s an LCD display\\nBut I decided to go with iPhone because I have never used an IOS device I have Been an android user from the past 9 years I ordered IPhone 11 (128gb) product red\\nMy experience after using 3 weeks\\n1. The delivery ...\\nREAD MORE', 'This is my first iOS phone. I am very happy with this product. Very much satisfied with this. I love this phone.', 'Amazing Powerful and Durable Gadget.\\n\\nI’m am very happy with the camera picture quality, Amazing face id unlocked in dark room, Strong battery with perfect screen size as you can carry easily in pocket. This is my third iPhone.\\n\\nI shifted from android Samsung Note series to iPhone because of the strong build quality and peace of mind for next 3-4 years.\\n\\nDon’t think to much just go for it and I suggest you to go for minimum 128gb variant or more 256gb.\\n\\nI’ve attached my puppy pics and no fi...\\nREAD MORE', 'i11 is worthy to buy, too much happy with the product. Thank u flipkart I received the item on time..loved it..', 'So far it’s been an AMAZING experience coming back to iOS after nearly a decade but it’s not as versatile as android though phone is sturdy dropped it accidentally a couple of times and nothing happened fortunately camera is awesome', 'What a camera .....just awesome ..you can feel this iPhone just awesome . Good for gaming also ...try pubg in hd it’s just wow', 'The Best Phone for the Money\\n\\nThe iPhone 11 offers superb cameras, a more durable design and excellent battery life for an affordable price.\\n\\nCompelling ultra-wide camera\\nNew Night mode is excellent\\nLong battery life', 'Really satisfied with the Product I received... It’s totally genuine and the packaging was also really good so if ur planning to buy just go for it.', 'Great iPhone very snappy experience as apple kind. Upgraded from iPhone 7.\\nPros\\n-Camera top class\\n- Battery top performed\\n-Chipset no need to say as apple kind\\n-Security as you expect from apple\\n- Display super bright industry leading colour\\naccuracy and super responsive\\n-Build quality as expect from apple sturdy\\npremium durable beautiful stylish.\\n-Os most stable os in smartphone industry\\n\\nCons\\n-No 5G\\n-Display is not based on OLED technology\\n-Charger headphones and 1 apple stic...\\nREAD MORE', 'Amazing phone with great cameras and better battery which gives you the best performance. I just love the camera .', 'Previously I was using one plus 3t it was a great phone\\nAnd then I decided to upgrade I am stuck between Samsung s10 plus or iPhone 11\\nI have seen the specs and everything were good except the display it’s somewhere between 720-1080 and it’s not even an amoled it’s an LCD display\\nBut I decided to go with iPhone because I have never used an IOS device I have Been an android user from the past 9 years I ordered IPhone 11 (128gb) product red\\nMy experience after using 3 weeks\\n1. The delivery ...\\nREAD MORE', 'This is my first iOS phone. I am very happy with this product. Very much satisfied with this. I love this phone.', 'Amazing Powerful and Durable Gadget.\\n\\nI’m am very happy with the camera picture quality, Amazing face id unlocked in dark room, Strong battery with perfect screen size as you can carry easily in pocket. This is my third iPhone.\\n\\nI shifted from android Samsung Note series to iPhone because of the strong build quality and peace of mind for next 3-4 years.\\n\\nDon’t think to much just go for it and I suggest you to go for minimum 128gb variant or more 256gb.\\n\\nI’ve attached my puppy pics and no fi...\\nREAD MORE', 'i11 is worthy to buy, too much happy with the product. Thank u flipkart I received the item on time..loved it..', 'So far it’s been an AMAZING experience coming back to iOS after nearly a decade but it’s not as versatile as android though phone is sturdy dropped it accidentally a couple of times and nothing happened fortunately camera is awesome', 'What a camera .....just awesome ..you can feel this iPhone just awesome . Good for gaming also ...try pubg in hd it’s just wow', 'The Best Phone for the Money\\n\\nThe iPhone 11 offers superb cameras, a more durable design and excellent battery life for an affordable price.\\n\\nCompelling ultra-wide camera\\nNew Night mode is excellent\\nLong battery life', 'Really satisfied with the Product I received... It’s totally genuine and the packaging was also really good so if ur planning to buy just go for it.', 'Great iPhone very snappy experience as apple kind. Upgraded from iPhone 7.\\nPros\\n-Camera top class\\n- Battery top performed\\n-Chipset no need to say as apple kind\\n-Security as you expect from apple\\n- Display super bright industry leading colour\\naccuracy and super responsive\\n-Build quality as expect from apple sturdy\\npremium durable beautiful stylish.\\n-Os most stable os in smartphone industry\\n\\nCons\\n-No 5G\\n-Display is not based on OLED technology\\n-Charger headphones and 1 apple stic...\\nREAD MORE', 'Amazing phone with great cameras and better battery which gives you the best performance. I just love the camera .', 'Previously I was using one plus 3t it was a great phone\\nAnd then I decided to upgrade I am stuck between Samsung s10 plus or iPhone 11\\nI have seen the specs and everything were good except the display it’s somewhere between 720-1080 and it’s not even an amoled it’s an LCD display\\nBut I decided to go with iPhone because I have never used an IOS device I have Been an android user from the past 9 years I ordered IPhone 11 (128gb) product red\\nMy experience after using 3 weeks\\n1. The delivery ...\\nREAD MORE', 'This is my first iOS phone. I am very happy with this product. Very much satisfied with this. I love this phone.', 'Amazing Powerful and Durable Gadget.\\n\\nI’m am very happy with the camera picture quality, Amazing face id unlocked in dark room, Strong battery with perfect screen size as you can carry easily in pocket. This is my third iPhone.\\n\\nI shifted from android Samsung Note series to iPhone because of the strong build quality and peace of mind for next 3-4 years.\\n\\nDon’t think to much just go for it and I suggest you to go for minimum 128gb variant or more 256gb.\\n\\nI’ve attached my puppy pics and no fi...\\nREAD MORE', 'i11 is worthy to buy, too much happy with the product. Thank u flipkart I received the item on time..loved it..', 'So far it’s been an AMAZING experience coming back to iOS after nearly a decade but it’s not as versatile as android though phone is sturdy dropped it accidentally a couple of times and nothing happened fortunately camera is awesome', 'What a camera .....just awesome ..you can feel this iPhone just awesome . Good for gaming also ...try pubg in hd it’s just wow', 'The Best Phone for the Money\\n\\nThe iPhone 11 offers superb cameras, a more durable design and excellent battery life for an affordable price.\\n\\nCompelling ultra-wide camera\\nNew Night mode is excellent\\nLong battery life', 'Really satisfied with the Product I received... It’s totally genuine and the packaging was also really good so if ur planning to buy just go for it.', 'Great iPhone very snappy experience as apple kind. Upgraded from iPhone 7.\\nPros\\n-Camera top class\\n- Battery top performed\\n-Chipset no need to say as apple kind\\n-Security as you expect from apple\\n- Display super bright industry leading colour\\naccuracy and super responsive\\n-Build quality as expect from apple sturdy\\npremium durable beautiful stylish.\\n-Os most stable os in smartphone industry\\n\\nCons\\n-No 5G\\n-Display is not based on OLED technology\\n-Charger headphones and 1 apple stic...\\nREAD MORE', 'Amazing phone with great cameras and better battery which gives you the best performance. I just love the camera .', 'Previously I was using one plus 3t it was a great phone\\nAnd then I decided to upgrade I am stuck between Samsung s10 plus or iPhone 11\\nI have seen the specs and everything were good except the display it’s somewhere between 720-1080 and it’s not even an amoled it’s an LCD display\\nBut I decided to go with iPhone because I have never used an IOS device I have Been an android user from the past 9 years I ordered IPhone 11 (128gb) product red\\nMy experience after using 3 weeks\\n1. The delivery ...\\nREAD MORE', 'This is my first iOS phone. I am very happy with this product. Very much satisfied with this. I love this phone.', 'Amazing Powerful and Durable Gadget.\\n\\nI’m am very happy with the camera picture quality, Amazing face id unlocked in dark room, Strong battery with perfect screen size as you can carry easily in pocket. This is my third iPhone.\\n\\nI shifted from android Samsung Note series to iPhone because of the strong build quality and peace of mind for next 3-4 years.\\n\\nDon’t think to much just go for it and I suggest you to go for minimum 128gb variant or more 256gb.\\n\\nI’ve attached my puppy pics and no fi...\\nREAD MORE', 'i11 is worthy to buy, too much happy with the product. Thank u flipkart I received the item on time..loved it..', 'So far it’s been an AMAZING experience coming back to iOS after nearly a decade but it’s not as versatile as android though phone is sturdy dropped it accidentally a couple of times and nothing happened fortunately camera is awesome', 'What a camera .....just awesome ..you can feel this iPhone just awesome . Good for gaming also ...try pubg in hd it’s just wow', 'The Best Phone for the Money\\n\\nThe iPhone 11 offers superb cameras, a more durable design and excellent battery life for an affordable price.\\n\\nCompelling ultra-wide camera\\nNew Night mode is excellent\\nLong battery life', 'Really satisfied with the Product I received... It’s totally genuine and the packaging was also really good so if ur planning to buy just go for it.', 'Great iPhone very snappy experience as apple kind. Upgraded from iPhone 7.\\nPros\\n-Camera top class\\n- Battery top performed\\n-Chipset no need to say as apple kind\\n-Security as you expect from apple\\n- Display super bright industry leading colour\\naccuracy and super responsive\\n-Build quality as expect from apple sturdy\\npremium durable beautiful stylish.\\n-Os most stable os in smartphone industry\\n\\nCons\\n-No 5G\\n-Display is not based on OLED technology\\n-Charger headphones and 1 apple stic...\\nREAD MORE', 'Amazing phone with great cameras and better battery which gives you the best performance. I just love the camera .', 'Previously I was using one plus 3t it was a great phone\\nAnd then I decided to upgrade I am stuck between Samsung s10 plus or iPhone 11\\nI have seen the specs and everything were good except the display it’s somewhere between 720-1080 and it’s not even an amoled it’s an LCD display\\nBut I decided to go with iPhone because I have never used an IOS device I have Been an android user from the past 9 years I ordered IPhone 11 (128gb) product red\\nMy experience after using 3 weeks\\n1. The delivery ...\\nREAD MORE', 'This is my first iOS phone. I am very happy with this product. Very much satisfied with this. I love this phone.', 'Amazing Powerful and Durable Gadget.\\n\\nI’m am very happy with the camera picture quality, Amazing face id unlocked in dark room, Strong battery with perfect screen size as you can carry easily in pocket. This is my third iPhone.\\n\\nI shifted from android Samsung Note series to iPhone because of the strong build quality and peace of mind for next 3-4 years.\\n\\nDon’t think to much just go for it and I suggest you to go for minimum 128gb variant or more 256gb.\\n\\nI’ve attached my puppy pics and no fi...\\nREAD MORE', 'i11 is worthy to buy, too much happy with the product. Thank u flipkart I received the item on time..loved it..', 'So far it’s been an AMAZING experience coming back to iOS after nearly a decade but it’s not as versatile as android though phone is sturdy dropped it accidentally a couple of times and nothing happened fortunately camera is awesome', 'What a camera .....just awesome ..you can feel this iPhone just awesome . Good for gaming also ...try pubg in hd it’s just wow', 'The Best Phone for the Money\\n\\nThe iPhone 11 offers superb cameras, a more durable design and excellent battery life for an affordable price.\\n\\nCompelling ultra-wide camera\\nNew Night mode is excellent\\nLong battery life', 'Really satisfied with the Product I received... It’s totally genuine and the packaging was also really good so if ur planning to buy just go for it.', 'Great iPhone very snappy experience as apple kind. Upgraded from iPhone 7.\\nPros\\n-Camera top class\\n- Battery top performed\\n-Chipset no need to say as apple kind\\n-Security as you expect from apple\\n- Display super bright industry leading colour\\naccuracy and super responsive\\n-Build quality as expect from apple sturdy\\npremium durable beautiful stylish.\\n-Os most stable os in smartphone industry\\n\\nCons\\n-No 5G\\n-Display is not based on OLED technology\\n-Charger headphones and 1 apple stic...\\nREAD MORE', 'Amazing phone with great cameras and better battery which gives you the best performance. I just love the camera .', 'Previously I was using one plus 3t it was a great phone\\nAnd then I decided to upgrade I am stuck between Samsung s10 plus or iPhone 11\\nI have seen the specs and everything were good except the display it’s somewhere between 720-1080 and it’s not even an amoled it’s an LCD display\\nBut I decided to go with iPhone because I have never used an IOS device I have Been an android user from the past 9 years I ordered IPhone 11 (128gb) product red\\nMy experience after using 3 weeks\\n1. The delivery ...\\nREAD MORE', 'This is my first iOS phone. I am very happy with this product. Very much satisfied with this. I love this phone.', 'Amazing Powerful and Durable Gadget.\\n\\nI’m am very happy with the camera picture quality, Amazing face id unlocked in dark room, Strong battery with perfect screen size as you can carry easily in pocket. This is my third iPhone.\\n\\nI shifted from android Samsung Note series to iPhone because of the strong build quality and peace of mind for next 3-4 years.\\n\\nDon’t think to much just go for it and I suggest you to go for minimum 128gb variant or more 256gb.\\n\\nI’ve attached my puppy pics and no fi...\\nREAD MORE', 'i11 is worthy to buy, too much happy with the product. Thank u flipkart I received the item on time..loved it..', 'So far it’s been an AMAZING experience coming back to iOS after nearly a decade but it’s not as versatile as android though phone is sturdy dropped it accidentally a couple of times and nothing happened fortunately camera is awesome', 'What a camera .....just awesome ..you can feel this iPhone just awesome . Good for gaming also ...try pubg in hd it’s just wow', 'The Best Phone for the Money\\n\\nThe iPhone 11 offers superb cameras, a more durable design and excellent battery life for an affordable price.\\n\\nCompelling ultra-wide camera\\nNew Night mode is excellent\\nLong battery life', 'Really satisfied with the Product I received... It’s totally genuine and the packaging was also really good so if ur planning to buy just go for it.', 'Great iPhone very snappy experience as apple kind. Upgraded from iPhone 7.\\nPros\\n-Camera top class\\n- Battery top performed\\n-Chipset no need to say as apple kind\\n-Security as you expect from apple\\n- Display super bright industry leading colour\\naccuracy and super responsive\\n-Build quality as expect from apple sturdy\\npremium durable beautiful stylish.\\n-Os most stable os in smartphone industry\\n\\nCons\\n-No 5G\\n-Display is not based on OLED technology\\n-Charger headphones and 1 apple stic...\\nREAD MORE', 'Amazing phone with great cameras and better battery which gives you the best performance. I just love the camera .', 'Previously I was using one plus 3t it was a great phone\\nAnd then I decided to upgrade I am stuck between Samsung s10 plus or iPhone 11\\nI have seen the specs and everything were good except the display it’s somewhere between 720-1080 and it’s not even an amoled it’s an LCD display\\nBut I decided to go with iPhone because I have never used an IOS device I have Been an android user from the past 9 years I ordered IPhone 11 (128gb) product red\\nMy experience after using 3 weeks\\n1. The delivery ...\\nREAD MORE', 'This is my first iOS phone. I am very happy with this product. Very much satisfied with this. I love this phone.', 'Amazing Powerful and Durable Gadget.\\n\\nI’m am very happy with the camera picture quality, Amazing face id unlocked in dark room, Strong battery with perfect screen size as you can carry easily in pocket. This is my third iPhone.\\n\\nI shifted from android Samsung Note series to iPhone because of the strong build quality and peace of mind for next 3-4 years.\\n\\nDon’t think to much just go for it and I suggest you to go for minimum 128gb variant or more 256gb.\\n\\nI’ve attached my puppy pics and no fi...\\nREAD MORE', 'i11 is worthy to buy, too much happy with the product. Thank u flipkart I received the item on time..loved it..', 'So far it’s been an AMAZING experience coming back to iOS after nearly a decade but it’s not as versatile as android though phone is sturdy dropped it accidentally a couple of times and nothing happened fortunately camera is awesome', 'What a camera .....just awesome ..you can feel this iPhone just awesome . Good for gaming also ...try pubg in hd it’s just wow', 'The Best Phone for the Money\\n\\nThe iPhone 11 offers superb cameras, a more durable design and excellent battery life for an affordable price.\\n\\nCompelling ultra-wide camera\\nNew Night mode is excellent\\nLong battery life', 'Really satisfied with the Product I received... It’s totally genuine and the packaging was also really good so if ur planning to buy just go for it.', 'Great iPhone very snappy experience as apple kind. Upgraded from iPhone 7.\\nPros\\n-Camera top class\\n- Battery top performed\\n-Chipset no need to say as apple kind\\n-Security as you expect from apple\\n- Display super bright industry leading colour\\naccuracy and super responsive\\n-Build quality as expect from apple sturdy\\npremium durable beautiful stylish.\\n-Os most stable os in smartphone industry\\n\\nCons\\n-No 5G\\n-Display is not based on OLED technology\\n-Charger headphones and 1 apple stic...\\nREAD MORE', 'Amazing phone with great cameras and better battery which gives you the best performance. I just love the camera .', 'Previously I was using one plus 3t it was a great phone\\nAnd then I decided to upgrade I am stuck between Samsung s10 plus or iPhone 11\\nI have seen the specs and everything were good except the display it’s somewhere between 720-1080 and it’s not even an amoled it’s an LCD display\\nBut I decided to go with iPhone because I have never used an IOS device I have Been an android user from the past 9 years I ordered IPhone 11 (128gb) product red\\nMy experience after using 3 weeks\\n1. The delivery ...\\nREAD MORE', 'This is my first iOS phone. I am very happy with this product. Very much satisfied with this. I love this phone.', 'Amazing Powerful and Durable Gadget.\\n\\nI’m am very happy with the camera picture quality, Amazing face id unlocked in dark room, Strong battery with perfect screen size as you can carry easily in pocket. This is my third iPhone.\\n\\nI shifted from android Samsung Note series to iPhone because of the strong build quality and peace of mind for next 3-4 years.\\n\\nDon’t think to much just go for it and I suggest you to go for minimum 128gb variant or more 256gb.\\n\\nI’ve attached my puppy pics and no fi...\\nREAD MORE', 'i11 is worthy to buy, too much happy with the product. Thank u flipkart I received the item on time..loved it..', 'So far it’s been an AMAZING experience coming back to iOS after nearly a decade but it’s not as versatile as android though phone is sturdy dropped it accidentally a couple of times and nothing happened fortunately camera is awesome', 'What a camera .....just awesome ..you can feel this iPhone just awesome . Good for gaming also ...try pubg in hd it’s just wow', 'The Best Phone for the Money\\n\\nThe iPhone 11 offers superb cameras, a more durable design and excellent battery life for an affordable price.\\n\\nCompelling ultra-wide camera\\nNew Night mode is excellent\\nLong battery life', 'Really satisfied with the Product I received... It’s totally genuine and the packaging was also really good so if ur planning to buy just go for it.', 'Great iPhone very snappy experience as apple kind. Upgraded from iPhone 7.\\nPros\\n-Camera top class\\n- Battery top performed\\n-Chipset no need to say as apple kind\\n-Security as you expect from apple\\n- Display super bright industry leading colour\\naccuracy and super responsive\\n-Build quality as expect from apple sturdy\\npremium durable beautiful stylish.\\n-Os most stable os in smartphone industry\\n\\nCons\\n-No 5G\\n-Display is not based on OLED technology\\n-Charger headphones and 1 apple stic...\\nREAD MORE', 'Amazing phone with great cameras and better battery which gives you the best performance. I just love the camera .', 'Previously I was using one plus 3t it was a great phone\\nAnd then I decided to upgrade I am stuck between Samsung s10 plus or iPhone 11\\nI have seen the specs and everything were good except the display it’s somewhere between 720-1080 and it’s not even an amoled it’s an LCD display\\nBut I decided to go with iPhone because I have never used an IOS device I have Been an android user from the past 9 years I ordered IPhone 11 (128gb) product red\\nMy experience after using 3 weeks\\n1. The delivery ...\\nREAD MORE', 'This is my first iOS phone. I am very happy with this product. Very much satisfied with this. I love this phone.', 'Amazing Powerful and Durable Gadget.\\n\\nI’m am very happy with the camera picture quality, Amazing face id unlocked in dark room, Strong battery with perfect screen size as you can carry easily in pocket. This is my third iPhone.\\n\\nI shifted from android Samsung Note series to iPhone because of the strong build quality and peace of mind for next 3-4 years.\\n\\nDon’t think to much just go for it and I suggest you to go for minimum 128gb variant or more 256gb.\\n\\nI’ve attached my puppy pics and no fi...\\nREAD MORE', 'i11 is worthy to buy, too much happy with the product. Thank u flipkart I received the item on time..loved it..', 'So far it’s been an AMAZING experience coming back to iOS after nearly a decade but it’s not as versatile as android though phone is sturdy dropped it accidentally a couple of times and nothing happened fortunately camera is awesome', 'What a camera .....just awesome ..you can feel this iPhone just awesome . Good for gaming also ...try pubg in hd it’s just wow']\n",
      "100\n"
     ]
    }
   ],
   "source": [
    "# Using the for loop to append all items in our list whcih we want to scarpe\n",
    "fr_0 =[]\n",
    "fr_1 =[]\n",
    "for i in fr1:\n",
    "    b=i.text\n",
    "    fr_0.append(b)\n",
    "fr_1 = fr_0[0:100]\n",
    "\n",
    "for i in fr2:\n",
    "    b=i.text\n",
    "    fr_0.append(b)\n",
    "fr_1 = fr_0[0:100]\n",
    "\n",
    "for i in fr3:\n",
    "    b=i.text\n",
    "    fr_0.append(b)\n",
    "fr_1 = fr_0[0:100]\n",
    "\n",
    "for i in fr4:\n",
    "    b=i.text\n",
    "    fr_0.append(b)\n",
    "fr_1 = fr_0[0:100]\n",
    "\n",
    "for i in fr5:\n",
    "    b=i.text\n",
    "    fr_0.append(b)\n",
    "fr_1 = fr_0[0:100]\n",
    "\n",
    "for i in fr6:\n",
    "    b=i.text\n",
    "    fr_0.append(b)\n",
    "fr_1 = fr_0[0:100]\n",
    "\n",
    "for i in fr7:\n",
    "    b=i.text\n",
    "    fr_0.append(b)\n",
    "fr_1 = fr_0[0:100]\n",
    "\n",
    "for i in fr8:\n",
    "    b=i.text\n",
    "    fr_0.append(b)\n",
    "fr_1 = fr_0[0:100]\n",
    "\n",
    "for i in fr9:\n",
    "    b=i.text\n",
    "    fr_0.append(b)\n",
    "fr_1 = fr_0[0:100]\n",
    "\n",
    "for i in fr10:\n",
    "    b=i.text\n",
    "    fr_0.append(b)\n",
    "fr_1 = fr_0[0:100]\n",
    "\n",
    "\n",
    "print(fr_1)\n",
    "print(len(fr_1))"
   ]
  },
  {
   "cell_type": "code",
   "execution_count": 387,
   "id": "c64b56e7",
   "metadata": {},
   "outputs": [
    {
     "data": {
      "text/html": [
       "<div>\n",
       "<style scoped>\n",
       "    .dataframe tbody tr th:only-of-type {\n",
       "        vertical-align: middle;\n",
       "    }\n",
       "\n",
       "    .dataframe tbody tr th {\n",
       "        vertical-align: top;\n",
       "    }\n",
       "\n",
       "    .dataframe thead th {\n",
       "        text-align: right;\n",
       "    }\n",
       "</style>\n",
       "<table border=\"1\" class=\"dataframe\">\n",
       "  <thead>\n",
       "    <tr style=\"text-align: right;\">\n",
       "      <th></th>\n",
       "      <th>Ratings</th>\n",
       "      <th>Review_summary</th>\n",
       "      <th>Full review</th>\n",
       "    </tr>\n",
       "  </thead>\n",
       "  <tbody>\n",
       "    <tr>\n",
       "      <th>0</th>\n",
       "      <td>5</td>\n",
       "      <td>Brilliant</td>\n",
       "      <td>The Best Phone for the Money\\n\\nThe iPhone 11 ...</td>\n",
       "    </tr>\n",
       "    <tr>\n",
       "      <th>1</th>\n",
       "      <td>5</td>\n",
       "      <td>Simply awesome</td>\n",
       "      <td>Really satisfied with the Product I received.....</td>\n",
       "    </tr>\n",
       "    <tr>\n",
       "      <th>2</th>\n",
       "      <td>5</td>\n",
       "      <td>Best in the market!</td>\n",
       "      <td>Great iPhone very snappy experience as apple k...</td>\n",
       "    </tr>\n",
       "    <tr>\n",
       "      <th>3</th>\n",
       "      <td>5</td>\n",
       "      <td>Perfect product!</td>\n",
       "      <td>Amazing phone with great cameras and better ba...</td>\n",
       "    </tr>\n",
       "    <tr>\n",
       "      <th>4</th>\n",
       "      <td>5</td>\n",
       "      <td>Worth every penny</td>\n",
       "      <td>Previously I was using one plus 3t it was a gr...</td>\n",
       "    </tr>\n",
       "    <tr>\n",
       "      <th>...</th>\n",
       "      <td>...</td>\n",
       "      <td>...</td>\n",
       "      <td>...</td>\n",
       "    </tr>\n",
       "    <tr>\n",
       "      <th>95</th>\n",
       "      <td>5</td>\n",
       "      <td>Fabulous!</td>\n",
       "      <td>This is my first iOS phone. I am very happy wi...</td>\n",
       "    </tr>\n",
       "    <tr>\n",
       "      <th>96</th>\n",
       "      <td>5</td>\n",
       "      <td>Great product</td>\n",
       "      <td>Amazing Powerful and Durable Gadget.\\n\\nI’m am...</td>\n",
       "    </tr>\n",
       "    <tr>\n",
       "      <th>97</th>\n",
       "      <td>5</td>\n",
       "      <td>Worth every penny</td>\n",
       "      <td>i11 is worthy to buy, too much happy with the ...</td>\n",
       "    </tr>\n",
       "    <tr>\n",
       "      <th>98</th>\n",
       "      <td>4</td>\n",
       "      <td>Good choice</td>\n",
       "      <td>So far it’s been an AMAZING experience coming ...</td>\n",
       "    </tr>\n",
       "    <tr>\n",
       "      <th>99</th>\n",
       "      <td>5</td>\n",
       "      <td>Highly recommended</td>\n",
       "      <td>What a camera .....just awesome ..you can feel...</td>\n",
       "    </tr>\n",
       "  </tbody>\n",
       "</table>\n",
       "<p>100 rows × 3 columns</p>\n",
       "</div>"
      ],
      "text/plain": [
       "   Ratings      Review_summary   \\\n",
       "0        5            Brilliant   \n",
       "1        5       Simply awesome   \n",
       "2        5  Best in the market!   \n",
       "3        5     Perfect product!   \n",
       "4        5    Worth every penny   \n",
       "..     ...                  ...   \n",
       "95       5            Fabulous!   \n",
       "96       5        Great product   \n",
       "97       5    Worth every penny   \n",
       "98       4          Good choice   \n",
       "99       5   Highly recommended   \n",
       "\n",
       "                                          Full review  \n",
       "0   The Best Phone for the Money\\n\\nThe iPhone 11 ...  \n",
       "1   Really satisfied with the Product I received.....  \n",
       "2   Great iPhone very snappy experience as apple k...  \n",
       "3   Amazing phone with great cameras and better ba...  \n",
       "4   Previously I was using one plus 3t it was a gr...  \n",
       "..                                                ...  \n",
       "95  This is my first iOS phone. I am very happy wi...  \n",
       "96  Amazing Powerful and Durable Gadget.\\n\\nI’m am...  \n",
       "97  i11 is worthy to buy, too much happy with the ...  \n",
       "98  So far it’s been an AMAZING experience coming ...  \n",
       "99  What a camera .....just awesome ..you can feel...  \n",
       "\n",
       "[100 rows x 3 columns]"
      ]
     },
     "execution_count": 387,
     "metadata": {},
     "output_type": "execute_result"
    }
   ],
   "source": [
    "#Finally store the value and create one dataframe\n",
    "iphone = pd.DataFrame({\"Ratings\": r_1 ,\" Review_summary \": rs_1, \" Full review\": fr_1})\n",
    "iphone"
   ]
  },
  {
   "cell_type": "markdown",
   "id": "babb5200",
   "metadata": {},
   "source": [
    "# Q6- Scrape data for first 100 sneakers on flipkart.com"
   ]
  },
  {
   "cell_type": "code",
   "execution_count": 388,
   "id": "e6534e4e",
   "metadata": {},
   "outputs": [],
   "source": [
    "#Open the page by using driver\n",
    "driver = webdriver.Chrome(r\"C:/Users/hp-pc/Downloads/chromedriver_win32/chromedriver\")"
   ]
  },
  {
   "cell_type": "code",
   "execution_count": 389,
   "id": "390e2546",
   "metadata": {},
   "outputs": [],
   "source": [
    "# Open the website by using driver.get command\n",
    "driver.get('https://www.flipkart.com/')"
   ]
  },
  {
   "cell_type": "code",
   "execution_count": 390,
   "id": "a1374543",
   "metadata": {},
   "outputs": [],
   "source": [
    "# Write the field on search bar\n",
    "search_product = driver.find_element_by_xpath(\"//input[@class='_3704LK']\")\n",
    "search_product.send_keys(\"Sneakers\")\n"
   ]
  },
  {
   "cell_type": "code",
   "execution_count": 392,
   "id": "a390e00d",
   "metadata": {},
   "outputs": [],
   "source": [
    "# Click the search button\n",
    "search_btn = driver.find_element_by_xpath(\"//button[@class='L0Z3Pu']\")\n",
    "search_btn.click()"
   ]
  },
  {
   "cell_type": "code",
   "execution_count": 393,
   "id": "ea560ab7",
   "metadata": {},
   "outputs": [
    {
     "data": {
      "text/plain": [
       "[<selenium.webdriver.remote.webelement.WebElement (session=\"6f62db541d27913b2417f2127a685968\", element=\"ded7867d-3b19-499b-a76a-e1b434444d5d\")>,\n",
       " <selenium.webdriver.remote.webelement.WebElement (session=\"6f62db541d27913b2417f2127a685968\", element=\"d2909f01-e8af-49e8-ae36-815c0e3797e7\")>,\n",
       " <selenium.webdriver.remote.webelement.WebElement (session=\"6f62db541d27913b2417f2127a685968\", element=\"e720541e-b2bf-4d10-b817-c9ad813c7f03\")>,\n",
       " <selenium.webdriver.remote.webelement.WebElement (session=\"6f62db541d27913b2417f2127a685968\", element=\"99713de0-208e-4ae6-814b-500fc5f737be\")>,\n",
       " <selenium.webdriver.remote.webelement.WebElement (session=\"6f62db541d27913b2417f2127a685968\", element=\"4c3be871-52f7-4773-8646-d7e4ceaaec30\")>,\n",
       " <selenium.webdriver.remote.webelement.WebElement (session=\"6f62db541d27913b2417f2127a685968\", element=\"f2ac7b17-b6d9-4cb7-a900-3520c9aaef4a\")>,\n",
       " <selenium.webdriver.remote.webelement.WebElement (session=\"6f62db541d27913b2417f2127a685968\", element=\"1a2172b1-7e61-4c6c-b0ca-ee883429085c\")>,\n",
       " <selenium.webdriver.remote.webelement.WebElement (session=\"6f62db541d27913b2417f2127a685968\", element=\"86e627de-c529-4602-b8be-f62570c621ca\")>,\n",
       " <selenium.webdriver.remote.webelement.WebElement (session=\"6f62db541d27913b2417f2127a685968\", element=\"37e4b2ce-4885-496f-8f8a-48887c6f2424\")>,\n",
       " <selenium.webdriver.remote.webelement.WebElement (session=\"6f62db541d27913b2417f2127a685968\", element=\"8b3a1fbc-a093-4ded-b03c-a1734f82abc9\")>]"
      ]
     },
     "execution_count": 393,
     "metadata": {},
     "output_type": "execute_result"
    }
   ],
   "source": [
    "#Now Scrape the brands\n",
    "brand = driver.find_elements_by_xpath(\"//div[@class='_2WkVRV']\")\n",
    "brand[0:10]\n",
    "brand3 = driver.find_elements_by_xpath(\"//div[@class='_2WkVRV']\")\n",
    "brand3[0:10]\n",
    "brand4 = driver.find_elements_by_xpath(\"//div[@class='_2WkVRV']\")\n",
    "brand4[0:10]"
   ]
  },
  {
   "cell_type": "code",
   "execution_count": 394,
   "id": "dc381edd",
   "metadata": {},
   "outputs": [
    {
     "name": "stdout",
     "output_type": "stream",
     "text": [
      "100\n"
     ]
    }
   ],
   "source": [
    "# Using the for loop to append all items in our list whcih we want to scarpe\n",
    "brand0 =[]\n",
    "brand1 =[]\n",
    "for i in brand:\n",
    "    b=i.text\n",
    "    brand0.append(b)\n",
    "brand1=brand0[0:100]\n",
    "\n",
    "for i in brand3:\n",
    "    b=i.text\n",
    "    brand0.append(b)\n",
    "brand1=brand0[0:100]\n",
    "\n",
    "for i in brand4:\n",
    "    b=i.text\n",
    "    brand0.append(b)\n",
    "brand1=brand0[0:100]\n",
    "brand1\n",
    "print(len(brand1))"
   ]
  },
  {
   "cell_type": "code",
   "execution_count": 395,
   "id": "1e6eae0d",
   "metadata": {},
   "outputs": [
    {
     "data": {
      "text/plain": [
       "[<selenium.webdriver.remote.webelement.WebElement (session=\"6f62db541d27913b2417f2127a685968\", element=\"45190432-2908-4670-afd5-9632be043741\")>,\n",
       " <selenium.webdriver.remote.webelement.WebElement (session=\"6f62db541d27913b2417f2127a685968\", element=\"61677823-b656-4807-8fda-2f86ba4f6288\")>,\n",
       " <selenium.webdriver.remote.webelement.WebElement (session=\"6f62db541d27913b2417f2127a685968\", element=\"3d662355-9713-4c85-8db3-ccac33ad4d83\")>,\n",
       " <selenium.webdriver.remote.webelement.WebElement (session=\"6f62db541d27913b2417f2127a685968\", element=\"80781ad9-c575-418f-8ef7-57cf58f8e1f6\")>,\n",
       " <selenium.webdriver.remote.webelement.WebElement (session=\"6f62db541d27913b2417f2127a685968\", element=\"d2aa4efa-9a00-4a03-b477-e402263c8b94\")>,\n",
       " <selenium.webdriver.remote.webelement.WebElement (session=\"6f62db541d27913b2417f2127a685968\", element=\"6472a0de-a965-4975-8d1d-0e76ed4a5df0\")>,\n",
       " <selenium.webdriver.remote.webelement.WebElement (session=\"6f62db541d27913b2417f2127a685968\", element=\"3bcb2c6e-b816-4032-ba05-4c0ff5bb8b07\")>,\n",
       " <selenium.webdriver.remote.webelement.WebElement (session=\"6f62db541d27913b2417f2127a685968\", element=\"4297dfc0-fb9b-4c25-8899-e0060bd0440b\")>,\n",
       " <selenium.webdriver.remote.webelement.WebElement (session=\"6f62db541d27913b2417f2127a685968\", element=\"a680a665-107a-4192-9ff7-d69dfa308135\")>,\n",
       " <selenium.webdriver.remote.webelement.WebElement (session=\"6f62db541d27913b2417f2127a685968\", element=\"cf293fb9-905c-4884-9452-4698a72de723\")>]"
      ]
     },
     "execution_count": 395,
     "metadata": {},
     "output_type": "execute_result"
    }
   ],
   "source": [
    "#Now Scrape the Product Description\n",
    "pro_dis = driver.find_elements_by_xpath(\"//a[@class='IRpwTa']\")\n",
    "pro_dis[0:10]\n",
    "pro_dis_notassured_1 = driver.find_elements_by_xpath(\"//a[@class='IRpwTa _2-ICcC']\")\n",
    "pro_dis_notassured_1[0:10]\n",
    "pro_dis3 = driver.find_elements_by_xpath(\"//a[@class='IRpwTa']\")\n",
    "pro_dis3[0:10]\n",
    "pro_dis_notassured_2 = driver.find_elements_by_xpath(\"//a[@class='IRpwTa _2-ICcC']\")\n",
    "pro_dis_notassured_2[0:10]\n",
    "pro_dis4 = driver.find_elements_by_xpath(\"//a[@class='IRpwTa']\")\n",
    "pro_dis4[0:10]"
   ]
  },
  {
   "cell_type": "code",
   "execution_count": 396,
   "id": "ab48d6d5",
   "metadata": {},
   "outputs": [
    {
     "name": "stdout",
     "output_type": "stream",
     "text": [
      "100\n"
     ]
    }
   ],
   "source": [
    "#Using the for loop to append all items in our list whcih we want to scarpe\n",
    "pro_dis0 =[]\n",
    "pro_dis1 =[]\n",
    "for i in pro_dis:\n",
    "    b=i.text\n",
    "    pro_dis0.append(b)\n",
    "pro_dis1=pro_dis0[0:100]\n",
    "\n",
    "for i in pro_dis_notassured_1:\n",
    "    b=i.text\n",
    "    pro_dis0.append(b)\n",
    "pro_dis1=pro_dis0[0:100]\n",
    "\n",
    "for i in pro_dis3:\n",
    "    b=i.text\n",
    "    pro_dis0.append(b)\n",
    "pro_dis1=pro_dis0[0:100]\n",
    "\n",
    "for i in pro_dis_notassured_2:\n",
    "    b=i.text\n",
    "    pro_dis0.append(b)\n",
    "pro_dis1=pro_dis0[0:100]\n",
    "\n",
    "for i in pro_dis4:\n",
    "    b=i.text\n",
    "    pro_dis0.append(b)\n",
    "pro_dis1=pro_dis0[0:100]\n",
    "pro_dis1\n",
    "print(len(pro_dis1))"
   ]
  },
  {
   "cell_type": "code",
   "execution_count": 397,
   "id": "64d0db41",
   "metadata": {},
   "outputs": [
    {
     "data": {
      "text/plain": [
       "[<selenium.webdriver.remote.webelement.WebElement (session=\"6f62db541d27913b2417f2127a685968\", element=\"840ab5e3-fb76-4933-9807-2cf91f209013\")>,\n",
       " <selenium.webdriver.remote.webelement.WebElement (session=\"6f62db541d27913b2417f2127a685968\", element=\"29c0fa7f-5df2-4d1d-9572-7d01eca5d2d7\")>,\n",
       " <selenium.webdriver.remote.webelement.WebElement (session=\"6f62db541d27913b2417f2127a685968\", element=\"38de3c79-b309-4abf-ba2a-1357b6403801\")>,\n",
       " <selenium.webdriver.remote.webelement.WebElement (session=\"6f62db541d27913b2417f2127a685968\", element=\"82ac0af3-dab4-45ee-a1d2-cc6b6b15878a\")>,\n",
       " <selenium.webdriver.remote.webelement.WebElement (session=\"6f62db541d27913b2417f2127a685968\", element=\"19b36aee-8b58-4827-b2b7-ec5acfe0786b\")>,\n",
       " <selenium.webdriver.remote.webelement.WebElement (session=\"6f62db541d27913b2417f2127a685968\", element=\"c0b28820-1d01-4abe-bb14-d6b1a49d3c5a\")>,\n",
       " <selenium.webdriver.remote.webelement.WebElement (session=\"6f62db541d27913b2417f2127a685968\", element=\"3752dd5d-dfe4-4a59-bc35-3fcd585ab6e8\")>,\n",
       " <selenium.webdriver.remote.webelement.WebElement (session=\"6f62db541d27913b2417f2127a685968\", element=\"b6fb7191-9f63-4c83-b564-537f9353b0d8\")>,\n",
       " <selenium.webdriver.remote.webelement.WebElement (session=\"6f62db541d27913b2417f2127a685968\", element=\"d168155e-d45a-4de9-bce2-30ffa4f19513\")>,\n",
       " <selenium.webdriver.remote.webelement.WebElement (session=\"6f62db541d27913b2417f2127a685968\", element=\"b5339c40-e6ae-4541-8958-287804141258\")>]"
      ]
     },
     "execution_count": 397,
     "metadata": {},
     "output_type": "execute_result"
    }
   ],
   "source": [
    "#Now Scrape the price\n",
    "price = driver.find_elements_by_xpath(\"//div[@class='_30jeq3']\")\n",
    "price[0:10]\n",
    "price3 = driver.find_elements_by_xpath(\"//div[@class='_30jeq3']\")\n",
    "price3[0:10]\n",
    "price4 = driver.find_elements_by_xpath(\"//div[@class='_30jeq3']\")\n",
    "price4[0:10]"
   ]
  },
  {
   "cell_type": "code",
   "execution_count": 398,
   "id": "4251159f",
   "metadata": {},
   "outputs": [
    {
     "name": "stdout",
     "output_type": "stream",
     "text": [
      "100\n"
     ]
    }
   ],
   "source": [
    "#Using the for loop to append all items in our list whcih we want to scarpe\n",
    "price0 =[]\n",
    "price1 =[]\n",
    "for i in price:\n",
    "    b=i.text\n",
    "    price0.append(b)\n",
    "price1=price0[0:100]\n",
    "for i in price3:\n",
    "    b=i.text\n",
    "    price0.append(b)\n",
    "price1=price0[0:100]\n",
    "\n",
    "for i in price4:\n",
    "    b=i.text\n",
    "    price0.append(b)\n",
    "price1=price0[0:100]\n",
    "price1\n",
    "print(len(price1))"
   ]
  },
  {
   "cell_type": "code",
   "execution_count": 399,
   "id": "a1b3c9ac",
   "metadata": {},
   "outputs": [
    {
     "data": {
      "text/html": [
       "<div>\n",
       "<style scoped>\n",
       "    .dataframe tbody tr th:only-of-type {\n",
       "        vertical-align: middle;\n",
       "    }\n",
       "\n",
       "    .dataframe tbody tr th {\n",
       "        vertical-align: top;\n",
       "    }\n",
       "\n",
       "    .dataframe thead th {\n",
       "        text-align: right;\n",
       "    }\n",
       "</style>\n",
       "<table border=\"1\" class=\"dataframe\">\n",
       "  <thead>\n",
       "    <tr style=\"text-align: right;\">\n",
       "      <th></th>\n",
       "      <th>Brand</th>\n",
       "      <th>Product Description</th>\n",
       "      <th>Price</th>\n",
       "    </tr>\n",
       "  </thead>\n",
       "  <tbody>\n",
       "    <tr>\n",
       "      <th>0</th>\n",
       "      <td>Roadster</td>\n",
       "      <td>Men White Solid Sneakers Sneakers For Men</td>\n",
       "      <td>₹1,899</td>\n",
       "    </tr>\n",
       "    <tr>\n",
       "      <th>1</th>\n",
       "      <td>Wildcraft</td>\n",
       "      <td>True Black Shoe Sneakers For Men</td>\n",
       "      <td>₹1,299</td>\n",
       "    </tr>\n",
       "    <tr>\n",
       "      <th>2</th>\n",
       "      <td>URBANBOX</td>\n",
       "      <td>Modern Trendy Shoes Sneakers For Men</td>\n",
       "      <td>₹220</td>\n",
       "    </tr>\n",
       "    <tr>\n",
       "      <th>3</th>\n",
       "      <td>BRUTON</td>\n",
       "      <td>White Sneaker For Men's/Boy's Sneakers For Men</td>\n",
       "      <td>₹339</td>\n",
       "    </tr>\n",
       "    <tr>\n",
       "      <th>4</th>\n",
       "      <td>Shoes Bank</td>\n",
       "      <td>Synthetic Leather Casual Partywear Wedding Sne...</td>\n",
       "      <td>₹331</td>\n",
       "    </tr>\n",
       "    <tr>\n",
       "      <th>...</th>\n",
       "      <td>...</td>\n",
       "      <td>...</td>\n",
       "      <td>...</td>\n",
       "    </tr>\n",
       "    <tr>\n",
       "      <th>95</th>\n",
       "      <td>U.S. POLO ASSN.</td>\n",
       "      <td>411 Casual Sneakers For Men</td>\n",
       "      <td>₹1,499</td>\n",
       "    </tr>\n",
       "    <tr>\n",
       "      <th>96</th>\n",
       "      <td>Numenzo</td>\n",
       "      <td>Lattest Sneakers Shoe Sneakers For Men</td>\n",
       "      <td>₹499</td>\n",
       "    </tr>\n",
       "    <tr>\n",
       "      <th>97</th>\n",
       "      <td>BRUTON</td>\n",
       "      <td>Sneakers For Men</td>\n",
       "      <td>₹299</td>\n",
       "    </tr>\n",
       "    <tr>\n",
       "      <th>98</th>\n",
       "      <td>ganpati traders</td>\n",
       "      <td>Combo Pack of 2 Casual Shoes Sneakers For Men</td>\n",
       "      <td>₹183</td>\n",
       "    </tr>\n",
       "    <tr>\n",
       "      <th>99</th>\n",
       "      <td>RED TAPE</td>\n",
       "      <td>Sneakers For Men</td>\n",
       "      <td>₹1,373</td>\n",
       "    </tr>\n",
       "  </tbody>\n",
       "</table>\n",
       "<p>100 rows × 3 columns</p>\n",
       "</div>"
      ],
      "text/plain": [
       "              Brand                                Product Description   Price\n",
       "0          Roadster          Men White Solid Sneakers Sneakers For Men  ₹1,899\n",
       "1         Wildcraft                   True Black Shoe Sneakers For Men  ₹1,299\n",
       "2          URBANBOX               Modern Trendy Shoes Sneakers For Men    ₹220\n",
       "3            BRUTON     White Sneaker For Men's/Boy's Sneakers For Men    ₹339\n",
       "4        Shoes Bank  Synthetic Leather Casual Partywear Wedding Sne...    ₹331\n",
       "..              ...                                                ...     ...\n",
       "95  U.S. POLO ASSN.                        411 Casual Sneakers For Men  ₹1,499\n",
       "96          Numenzo             Lattest Sneakers Shoe Sneakers For Men    ₹499\n",
       "97           BRUTON                                   Sneakers For Men    ₹299\n",
       "98  ganpati traders      Combo Pack of 2 Casual Shoes Sneakers For Men    ₹183\n",
       "99         RED TAPE                                   Sneakers For Men  ₹1,373\n",
       "\n",
       "[100 rows x 3 columns]"
      ]
     },
     "execution_count": 399,
     "metadata": {},
     "output_type": "execute_result"
    }
   ],
   "source": [
    "#Finally store the value and create one dataframe\n",
    "Product = pd.DataFrame({\"Brand\": brand1,\"Product Description\": pro_dis1, \"Price\": price1})\n",
    "Product"
   ]
  },
  {
   "cell_type": "markdown",
   "id": "ac6740d2",
   "metadata": {},
   "source": [
    "# Q7-  scrape First 100 shoes data you get in myntra.com"
   ]
  },
  {
   "cell_type": "code",
   "execution_count": 400,
   "id": "55e0a635",
   "metadata": {},
   "outputs": [],
   "source": [
    "#Open the page by using driver\n",
    "driver = webdriver.Chrome(r\"C:/Users/hp-pc/Downloads/chromedriver_win32/chromedriver\")"
   ]
  },
  {
   "cell_type": "code",
   "execution_count": 401,
   "id": "c6699b12",
   "metadata": {},
   "outputs": [],
   "source": [
    "#open the website \n",
    "driver.get('https://www.myntra.com/shoes')"
   ]
  },
  {
   "cell_type": "code",
   "execution_count": 402,
   "id": "ca775bd8",
   "metadata": {},
   "outputs": [],
   "source": [
    "# Selct the price value by using filter\n",
    "search_btn = driver.find_element_by_xpath(\"//*[text()='Rs. 6099 to Rs. 11999']//..//div\")\n",
    "search_btn.click()"
   ]
  },
  {
   "cell_type": "code",
   "execution_count": 403,
   "id": "668be12f",
   "metadata": {},
   "outputs": [],
   "source": [
    "# Select the color by using filter\n",
    "search_btn = driver.find_element_by_xpath(\"//*[text()='Black']//..//div\")\n",
    "search_btn.click()"
   ]
  },
  {
   "cell_type": "code",
   "execution_count": 404,
   "id": "23ef5cf3",
   "metadata": {},
   "outputs": [
    {
     "data": {
      "text/plain": [
       "[<selenium.webdriver.remote.webelement.WebElement (session=\"a89d932e44dfec604aaf3b0338215756\", element=\"0320a1c7-635a-45e3-a861-9cd86d4e3eed\")>,\n",
       " <selenium.webdriver.remote.webelement.WebElement (session=\"a89d932e44dfec604aaf3b0338215756\", element=\"5dfaaa2e-bc77-4110-92d2-30397f3f5882\")>,\n",
       " <selenium.webdriver.remote.webelement.WebElement (session=\"a89d932e44dfec604aaf3b0338215756\", element=\"769de819-8707-4b55-b963-0266c25821b1\")>,\n",
       " <selenium.webdriver.remote.webelement.WebElement (session=\"a89d932e44dfec604aaf3b0338215756\", element=\"65c3947d-8845-4d07-af0b-218855f118a8\")>,\n",
       " <selenium.webdriver.remote.webelement.WebElement (session=\"a89d932e44dfec604aaf3b0338215756\", element=\"cf0574e1-58ee-4e3d-a0ec-05c8e1aef132\")>,\n",
       " <selenium.webdriver.remote.webelement.WebElement (session=\"a89d932e44dfec604aaf3b0338215756\", element=\"29427472-931e-4d62-9b90-1be70942d669\")>,\n",
       " <selenium.webdriver.remote.webelement.WebElement (session=\"a89d932e44dfec604aaf3b0338215756\", element=\"7b50e759-f2c3-4ea6-9880-ff60fa64d915\")>,\n",
       " <selenium.webdriver.remote.webelement.WebElement (session=\"a89d932e44dfec604aaf3b0338215756\", element=\"3c5315f8-c718-4a27-9cad-3a285e85c7dd\")>,\n",
       " <selenium.webdriver.remote.webelement.WebElement (session=\"a89d932e44dfec604aaf3b0338215756\", element=\"c3a32aec-3001-469b-ab19-0d8efe78faa9\")>,\n",
       " <selenium.webdriver.remote.webelement.WebElement (session=\"a89d932e44dfec604aaf3b0338215756\", element=\"67aeec23-c7d3-456e-ba19-f21bd9fc28b9\")>]"
      ]
     },
     "execution_count": 404,
     "metadata": {},
     "output_type": "execute_result"
    }
   ],
   "source": [
    "#Now Scrape the Brand\n",
    "brand = driver.find_elements_by_xpath(\"//h3[@class='product-brand']\")\n",
    "brand[0:10]\n",
    "#time.sleep(2)\n",
    "brand3 = driver.find_elements_by_xpath(\"//h3[@class='product-brand']\")\n",
    "brand3[0:10]"
   ]
  },
  {
   "cell_type": "code",
   "execution_count": 406,
   "id": "3a5d5388",
   "metadata": {},
   "outputs": [
    {
     "data": {
      "text/plain": [
       "100"
      ]
     },
     "execution_count": 406,
     "metadata": {},
     "output_type": "execute_result"
    }
   ],
   "source": [
    "#Using the for loop to append all items in our list whcih we want to scarpe\n",
    "brand0 =[]\n",
    "brand1 =[]\n",
    "for i in brand:\n",
    "    b=i.text\n",
    "    brand0.append(b)\n",
    "brand1=brand0[0:100]\n",
    "#len(brand1)\n",
    "\n",
    "time.sleep(2)\n",
    "\n",
    "for i in brand3:\n",
    "    b=i.text\n",
    "    brand0.append(b)\n",
    "brand1=brand0[0:100]\n",
    "len(brand1)"
   ]
  },
  {
   "cell_type": "code",
   "execution_count": 407,
   "id": "8fc6acc6",
   "metadata": {},
   "outputs": [
    {
     "data": {
      "text/plain": [
       "[<selenium.webdriver.remote.webelement.WebElement (session=\"a89d932e44dfec604aaf3b0338215756\", element=\"9ca77263-3b85-424f-812b-4d19b5889e1b\")>,\n",
       " <selenium.webdriver.remote.webelement.WebElement (session=\"a89d932e44dfec604aaf3b0338215756\", element=\"b863a444-4b7c-4f7a-9cf5-ded553018c3f\")>,\n",
       " <selenium.webdriver.remote.webelement.WebElement (session=\"a89d932e44dfec604aaf3b0338215756\", element=\"159d404d-34aa-4616-a84e-091eb25be312\")>,\n",
       " <selenium.webdriver.remote.webelement.WebElement (session=\"a89d932e44dfec604aaf3b0338215756\", element=\"7e60c51c-cb61-419a-98f8-12e92fa25741\")>,\n",
       " <selenium.webdriver.remote.webelement.WebElement (session=\"a89d932e44dfec604aaf3b0338215756\", element=\"807d1821-daf0-434b-8363-df7151b0da50\")>,\n",
       " <selenium.webdriver.remote.webelement.WebElement (session=\"a89d932e44dfec604aaf3b0338215756\", element=\"8dc7fd20-f629-4274-9c89-255714e7441f\")>,\n",
       " <selenium.webdriver.remote.webelement.WebElement (session=\"a89d932e44dfec604aaf3b0338215756\", element=\"00bd5adc-f365-4457-9916-e13fd5f23c12\")>,\n",
       " <selenium.webdriver.remote.webelement.WebElement (session=\"a89d932e44dfec604aaf3b0338215756\", element=\"f640c4cd-ebf4-4b6d-84e9-d6c853dcfe02\")>,\n",
       " <selenium.webdriver.remote.webelement.WebElement (session=\"a89d932e44dfec604aaf3b0338215756\", element=\"66ddab0b-c5aa-4db5-bbd0-a348e9861df2\")>,\n",
       " <selenium.webdriver.remote.webelement.WebElement (session=\"a89d932e44dfec604aaf3b0338215756\", element=\"f9179601-54c9-427f-baea-d34759ae75fa\")>]"
      ]
     },
     "execution_count": 407,
     "metadata": {},
     "output_type": "execute_result"
    }
   ],
   "source": [
    "#Now Scrape the discription\n",
    "dis = driver.find_elements_by_xpath(\"//h4[@class='product-product']\")\n",
    "dis[0:10]\n",
    "dis3 = driver.find_elements_by_xpath(\"//h4[@class='product-product']\")\n",
    "dis3[0:10]"
   ]
  },
  {
   "cell_type": "code",
   "execution_count": 408,
   "id": "f73d84d3",
   "metadata": {},
   "outputs": [
    {
     "data": {
      "text/plain": [
       "100"
      ]
     },
     "execution_count": 408,
     "metadata": {},
     "output_type": "execute_result"
    }
   ],
   "source": [
    "#Using the for loop to append all items in our list whcih we want to scarpe\n",
    "dis0 =[]\n",
    "dis1 =[]\n",
    "for i in dis:\n",
    "    b=i.text\n",
    "    dis0.append(b)\n",
    "dis1=dis0[0:100]\n",
    "\n",
    "\n",
    "for i in dis3:\n",
    "    b=i.text\n",
    "    dis0.append(b)\n",
    "dis1=dis0[0:100]\n",
    "len(dis1)\n"
   ]
  },
  {
   "cell_type": "code",
   "execution_count": 409,
   "id": "7522c604",
   "metadata": {},
   "outputs": [
    {
     "data": {
      "text/plain": [
       "[<selenium.webdriver.remote.webelement.WebElement (session=\"a89d932e44dfec604aaf3b0338215756\", element=\"ada59606-af79-4c99-ab55-c216b3a5e0ab\")>,\n",
       " <selenium.webdriver.remote.webelement.WebElement (session=\"a89d932e44dfec604aaf3b0338215756\", element=\"77626595-3853-4f89-8703-f46a8c8685a2\")>,\n",
       " <selenium.webdriver.remote.webelement.WebElement (session=\"a89d932e44dfec604aaf3b0338215756\", element=\"4bb540d4-3d22-4b14-9567-68790fd08c9f\")>,\n",
       " <selenium.webdriver.remote.webelement.WebElement (session=\"a89d932e44dfec604aaf3b0338215756\", element=\"c37f8cbe-2109-4b50-beed-491cc0398bf8\")>,\n",
       " <selenium.webdriver.remote.webelement.WebElement (session=\"a89d932e44dfec604aaf3b0338215756\", element=\"933f8217-b4e9-446d-814a-e0685cc6aa99\")>,\n",
       " <selenium.webdriver.remote.webelement.WebElement (session=\"a89d932e44dfec604aaf3b0338215756\", element=\"915ac11e-9cd3-428f-a0d1-377b0d8a2061\")>,\n",
       " <selenium.webdriver.remote.webelement.WebElement (session=\"a89d932e44dfec604aaf3b0338215756\", element=\"762681a5-4383-4898-a337-079fdfa9da26\")>,\n",
       " <selenium.webdriver.remote.webelement.WebElement (session=\"a89d932e44dfec604aaf3b0338215756\", element=\"98627739-dbae-416b-a3e7-3d11c7deeed8\")>,\n",
       " <selenium.webdriver.remote.webelement.WebElement (session=\"a89d932e44dfec604aaf3b0338215756\", element=\"7a09d1d7-8d3d-43a5-8e11-46e0187d6a89\")>,\n",
       " <selenium.webdriver.remote.webelement.WebElement (session=\"a89d932e44dfec604aaf3b0338215756\", element=\"103be921-3a64-4cee-ace8-1c3407e25dea\")>]"
      ]
     },
     "execution_count": 409,
     "metadata": {},
     "output_type": "execute_result"
    }
   ],
   "source": [
    "#Now Scrape the price\n",
    "price = driver.find_elements_by_xpath(\"//div[@class='product-price']\")\n",
    "price[0:10]"
   ]
  },
  {
   "cell_type": "code",
   "execution_count": 410,
   "id": "51ed6763",
   "metadata": {},
   "outputs": [
    {
     "data": {
      "text/plain": [
       "50"
      ]
     },
     "execution_count": 410,
     "metadata": {},
     "output_type": "execute_result"
    }
   ],
   "source": [
    "#Using the for loop to append all items in our list whcih we want to scarpe\n",
    "price0 =[]\n",
    "price1 =[]\n",
    "for i in price:\n",
    "    b=i.text\n",
    "    price0.append(b)\n",
    "price1=price0[0:100]\n",
    "len(price1)"
   ]
  },
  {
   "cell_type": "code",
   "execution_count": 411,
   "id": "48794044",
   "metadata": {},
   "outputs": [
    {
     "data": {
      "text/plain": [
       "[<selenium.webdriver.remote.webelement.WebElement (session=\"a89d932e44dfec604aaf3b0338215756\", element=\"ada59606-af79-4c99-ab55-c216b3a5e0ab\")>,\n",
       " <selenium.webdriver.remote.webelement.WebElement (session=\"a89d932e44dfec604aaf3b0338215756\", element=\"77626595-3853-4f89-8703-f46a8c8685a2\")>,\n",
       " <selenium.webdriver.remote.webelement.WebElement (session=\"a89d932e44dfec604aaf3b0338215756\", element=\"4bb540d4-3d22-4b14-9567-68790fd08c9f\")>,\n",
       " <selenium.webdriver.remote.webelement.WebElement (session=\"a89d932e44dfec604aaf3b0338215756\", element=\"c37f8cbe-2109-4b50-beed-491cc0398bf8\")>,\n",
       " <selenium.webdriver.remote.webelement.WebElement (session=\"a89d932e44dfec604aaf3b0338215756\", element=\"933f8217-b4e9-446d-814a-e0685cc6aa99\")>,\n",
       " <selenium.webdriver.remote.webelement.WebElement (session=\"a89d932e44dfec604aaf3b0338215756\", element=\"915ac11e-9cd3-428f-a0d1-377b0d8a2061\")>,\n",
       " <selenium.webdriver.remote.webelement.WebElement (session=\"a89d932e44dfec604aaf3b0338215756\", element=\"762681a5-4383-4898-a337-079fdfa9da26\")>,\n",
       " <selenium.webdriver.remote.webelement.WebElement (session=\"a89d932e44dfec604aaf3b0338215756\", element=\"98627739-dbae-416b-a3e7-3d11c7deeed8\")>,\n",
       " <selenium.webdriver.remote.webelement.WebElement (session=\"a89d932e44dfec604aaf3b0338215756\", element=\"7a09d1d7-8d3d-43a5-8e11-46e0187d6a89\")>,\n",
       " <selenium.webdriver.remote.webelement.WebElement (session=\"a89d932e44dfec604aaf3b0338215756\", element=\"103be921-3a64-4cee-ace8-1c3407e25dea\")>]"
      ]
     },
     "execution_count": 411,
     "metadata": {},
     "output_type": "execute_result"
    }
   ],
   "source": [
    "#Now Scrape the price of the second page\n",
    "price3 = driver.find_elements_by_xpath(\"//div[@class='product-price']\")\n",
    "price3[0:10]"
   ]
  },
  {
   "cell_type": "code",
   "execution_count": 412,
   "id": "735633d3",
   "metadata": {},
   "outputs": [
    {
     "data": {
      "text/plain": [
       "['Rs. 10499Rs. 14999(30% OFF)',\n",
       " 'Rs. 8249Rs. 14999(45% OFF)',\n",
       " 'Rs. 6499Rs. 12999(50% OFF)',\n",
       " 'Rs. 7799Rs. 12999(40% OFF)',\n",
       " 'Rs. 8295',\n",
       " 'Rs. 8099Rs. 8999(10% OFF)',\n",
       " 'Rs. 6299Rs. 6999(10% OFF)',\n",
       " 'Rs. 8999Rs. 9999(10% OFF)',\n",
       " 'Rs. 8500Rs. 10500(Rs. 2000 OFF)',\n",
       " 'Rs. 7999',\n",
       " 'Rs. 6999',\n",
       " 'Rs. 6999',\n",
       " 'Rs. 7999',\n",
       " 'Rs. 6499',\n",
       " 'Rs. 7599',\n",
       " 'Rs. 6499Rs. 12999(50% OFF)',\n",
       " 'Rs. 6999',\n",
       " 'Rs. 6293Rs. 8990(30% OFF)',\n",
       " 'Rs. 6499Rs. 12999(50% OFF)',\n",
       " 'Rs. 7999',\n",
       " 'Rs. 9810Rs. 10900(Rs. 1090 OFF)',\n",
       " 'Rs. 8999Rs. 9999(10% OFF)',\n",
       " 'Rs. 7999Rs. 9999(20% OFF)',\n",
       " 'Rs. 8999Rs. 9999(10% OFF)',\n",
       " 'Rs. 8999Rs. 9999(10% OFF)',\n",
       " 'Rs. 6990',\n",
       " 'Rs. 11899Rs. 16999(30% OFF)',\n",
       " 'Rs. 10399Rs. 12999(20% OFF)',\n",
       " 'Rs. 8999',\n",
       " 'Rs. 8990',\n",
       " 'Rs. 8990',\n",
       " 'Rs. 8999Rs. 9999(10% OFF)',\n",
       " 'Rs. 7990',\n",
       " 'Rs. 7999',\n",
       " 'Rs. 6299Rs. 6999(10% OFF)',\n",
       " 'Rs. 6499Rs. 9999(35% OFF)',\n",
       " 'Rs. 11900Rs. 13900(Rs. 2000 OFF)',\n",
       " 'Rs. 10350Rs. 11500(Rs. 1150 OFF)',\n",
       " 'Rs. 9800Rs. 13900(Rs. 4100 OFF)',\n",
       " 'Rs. 9999',\n",
       " 'Rs. 6900Rs. 8900(Rs. 2000 OFF)',\n",
       " 'Rs. 6999',\n",
       " 'Rs. 9999',\n",
       " 'Rs. 6990',\n",
       " 'Rs. 7999',\n",
       " 'Rs. 7990',\n",
       " 'Rs. 6990',\n",
       " 'Rs. 6990',\n",
       " 'Rs. 6990',\n",
       " 'Rs. 6990',\n",
       " 'Rs. 10499Rs. 14999(30% OFF)',\n",
       " 'Rs. 8249Rs. 14999(45% OFF)',\n",
       " 'Rs. 6499Rs. 12999(50% OFF)',\n",
       " 'Rs. 7799Rs. 12999(40% OFF)',\n",
       " 'Rs. 8295',\n",
       " 'Rs. 8099Rs. 8999(10% OFF)',\n",
       " 'Rs. 6299Rs. 6999(10% OFF)',\n",
       " 'Rs. 8999Rs. 9999(10% OFF)',\n",
       " 'Rs. 8500Rs. 10500(Rs. 2000 OFF)',\n",
       " 'Rs. 7999',\n",
       " 'Rs. 6999',\n",
       " 'Rs. 6999',\n",
       " 'Rs. 7999',\n",
       " 'Rs. 6499',\n",
       " 'Rs. 7599',\n",
       " 'Rs. 6499Rs. 12999(50% OFF)',\n",
       " 'Rs. 6999',\n",
       " 'Rs. 6293Rs. 8990(30% OFF)',\n",
       " 'Rs. 6499Rs. 12999(50% OFF)',\n",
       " 'Rs. 7999',\n",
       " 'Rs. 9810Rs. 10900(Rs. 1090 OFF)',\n",
       " 'Rs. 8999Rs. 9999(10% OFF)',\n",
       " 'Rs. 7999Rs. 9999(20% OFF)',\n",
       " 'Rs. 8999Rs. 9999(10% OFF)',\n",
       " 'Rs. 8999Rs. 9999(10% OFF)',\n",
       " 'Rs. 6990',\n",
       " 'Rs. 11899Rs. 16999(30% OFF)',\n",
       " 'Rs. 10399Rs. 12999(20% OFF)',\n",
       " 'Rs. 8999',\n",
       " 'Rs. 8990',\n",
       " 'Rs. 8990',\n",
       " 'Rs. 8999Rs. 9999(10% OFF)',\n",
       " 'Rs. 7990',\n",
       " 'Rs. 7999',\n",
       " 'Rs. 6299Rs. 6999(10% OFF)',\n",
       " 'Rs. 6499Rs. 9999(35% OFF)',\n",
       " 'Rs. 11900Rs. 13900(Rs. 2000 OFF)',\n",
       " 'Rs. 10350Rs. 11500(Rs. 1150 OFF)',\n",
       " 'Rs. 9800Rs. 13900(Rs. 4100 OFF)',\n",
       " 'Rs. 9999',\n",
       " 'Rs. 6900Rs. 8900(Rs. 2000 OFF)',\n",
       " 'Rs. 6999',\n",
       " 'Rs. 9999',\n",
       " 'Rs. 6990',\n",
       " 'Rs. 7999',\n",
       " 'Rs. 7990',\n",
       " 'Rs. 6990',\n",
       " 'Rs. 6990',\n",
       " 'Rs. 6990',\n",
       " 'Rs. 6990']"
      ]
     },
     "execution_count": 412,
     "metadata": {},
     "output_type": "execute_result"
    }
   ],
   "source": [
    "#Using the for loop to append all the 100 items in our list whcih we want to scarpe\n",
    "for i in price3:\n",
    "    b=i.text\n",
    "    price0.append(b)\n",
    "price1=price0[0:100]\n",
    "price1"
   ]
  },
  {
   "cell_type": "code",
   "execution_count": 413,
   "id": "48488402",
   "metadata": {},
   "outputs": [
    {
     "data": {
      "text/plain": [
       "[' 10499',\n",
       " ' 8249',\n",
       " ' 6499',\n",
       " ' 7799',\n",
       " ' 8295',\n",
       " ' 8099',\n",
       " ' 6299',\n",
       " ' 8999',\n",
       " ' 8500',\n",
       " ' 7999',\n",
       " ' 6999',\n",
       " ' 6999',\n",
       " ' 7999',\n",
       " ' 6499',\n",
       " ' 7599',\n",
       " ' 6499',\n",
       " ' 6999',\n",
       " ' 6293',\n",
       " ' 6499',\n",
       " ' 7999',\n",
       " ' 9810',\n",
       " ' 8999',\n",
       " ' 7999',\n",
       " ' 8999',\n",
       " ' 8999',\n",
       " ' 6990',\n",
       " ' 11899',\n",
       " ' 10399',\n",
       " ' 8999',\n",
       " ' 8990',\n",
       " ' 8990',\n",
       " ' 8999',\n",
       " ' 7990',\n",
       " ' 7999',\n",
       " ' 6299',\n",
       " ' 6499',\n",
       " ' 11900',\n",
       " ' 10350',\n",
       " ' 9800',\n",
       " ' 9999',\n",
       " ' 6900',\n",
       " ' 6999',\n",
       " ' 9999',\n",
       " ' 6990',\n",
       " ' 7999',\n",
       " ' 7990',\n",
       " ' 6990',\n",
       " ' 6990',\n",
       " ' 6990',\n",
       " ' 6990',\n",
       " ' 10499',\n",
       " ' 8249',\n",
       " ' 6499',\n",
       " ' 7799',\n",
       " ' 8295',\n",
       " ' 8099',\n",
       " ' 6299',\n",
       " ' 8999',\n",
       " ' 8500',\n",
       " ' 7999',\n",
       " ' 6999',\n",
       " ' 6999',\n",
       " ' 7999',\n",
       " ' 6499',\n",
       " ' 7599',\n",
       " ' 6499',\n",
       " ' 6999',\n",
       " ' 6293',\n",
       " ' 6499',\n",
       " ' 7999',\n",
       " ' 9810',\n",
       " ' 8999',\n",
       " ' 7999',\n",
       " ' 8999',\n",
       " ' 8999',\n",
       " ' 6990',\n",
       " ' 11899',\n",
       " ' 10399',\n",
       " ' 8999',\n",
       " ' 8990',\n",
       " ' 8990',\n",
       " ' 8999',\n",
       " ' 7990',\n",
       " ' 7999',\n",
       " ' 6299',\n",
       " ' 6499',\n",
       " ' 11900',\n",
       " ' 10350',\n",
       " ' 9800',\n",
       " ' 9999',\n",
       " ' 6900',\n",
       " ' 6999',\n",
       " ' 9999',\n",
       " ' 6990',\n",
       " ' 7999',\n",
       " ' 7990',\n",
       " ' 6990',\n",
       " ' 6990',\n",
       " ' 6990',\n",
       " ' 6990']"
      ]
     },
     "execution_count": 413,
     "metadata": {},
     "output_type": "execute_result"
    }
   ],
   "source": [
    "#Now we need to clean this column and scrape only the discounted price of the item and append it in our list\n",
    "price_list=[]\n",
    "for i in price1:\n",
    "    price_list.append(i.split('.').pop(1).replace('Rs',''))\n",
    "price_list"
   ]
  },
  {
   "cell_type": "code",
   "execution_count": 414,
   "id": "c24ea2c9",
   "metadata": {},
   "outputs": [
    {
     "data": {
      "text/html": [
       "<div>\n",
       "<style scoped>\n",
       "    .dataframe tbody tr th:only-of-type {\n",
       "        vertical-align: middle;\n",
       "    }\n",
       "\n",
       "    .dataframe tbody tr th {\n",
       "        vertical-align: top;\n",
       "    }\n",
       "\n",
       "    .dataframe thead th {\n",
       "        text-align: right;\n",
       "    }\n",
       "</style>\n",
       "<table border=\"1\" class=\"dataframe\">\n",
       "  <thead>\n",
       "    <tr style=\"text-align: right;\">\n",
       "      <th></th>\n",
       "      <th>Brand</th>\n",
       "      <th>Product Description</th>\n",
       "      <th>Price (in Rs)</th>\n",
       "    </tr>\n",
       "  </thead>\n",
       "  <tbody>\n",
       "    <tr>\n",
       "      <th>0</th>\n",
       "      <td>ASICS</td>\n",
       "      <td>Men GEL-KAYANO 27 Shoes</td>\n",
       "      <td>10499</td>\n",
       "    </tr>\n",
       "    <tr>\n",
       "      <th>1</th>\n",
       "      <td>Puma</td>\n",
       "      <td>Men Deviate Nitro Running Shoe</td>\n",
       "      <td>8249</td>\n",
       "    </tr>\n",
       "    <tr>\n",
       "      <th>2</th>\n",
       "      <td>Puma</td>\n",
       "      <td>Men Running Shoes</td>\n",
       "      <td>6499</td>\n",
       "    </tr>\n",
       "    <tr>\n",
       "      <th>3</th>\n",
       "      <td>Puma</td>\n",
       "      <td>Men Magnify Nitro Running</td>\n",
       "      <td>7799</td>\n",
       "    </tr>\n",
       "    <tr>\n",
       "      <th>4</th>\n",
       "      <td>Nike</td>\n",
       "      <td>Men Waffle One SE Sneakers</td>\n",
       "      <td>8295</td>\n",
       "    </tr>\n",
       "    <tr>\n",
       "      <th>...</th>\n",
       "      <td>...</td>\n",
       "      <td>...</td>\n",
       "      <td>...</td>\n",
       "    </tr>\n",
       "    <tr>\n",
       "      <th>95</th>\n",
       "      <td>DAVINCHI</td>\n",
       "      <td>Men Solid Leather Formal Derbys</td>\n",
       "      <td>7990</td>\n",
       "    </tr>\n",
       "    <tr>\n",
       "      <th>96</th>\n",
       "      <td>Ruosh</td>\n",
       "      <td>Men Leather Slip-On Shoes</td>\n",
       "      <td>6990</td>\n",
       "    </tr>\n",
       "    <tr>\n",
       "      <th>97</th>\n",
       "      <td>J.FONTINI</td>\n",
       "      <td>Men Leather Formal Loafers</td>\n",
       "      <td>6990</td>\n",
       "    </tr>\n",
       "    <tr>\n",
       "      <th>98</th>\n",
       "      <td>J.FONTINI</td>\n",
       "      <td>Men Solid Leather Formal Derbys</td>\n",
       "      <td>6990</td>\n",
       "    </tr>\n",
       "    <tr>\n",
       "      <th>99</th>\n",
       "      <td>DAVINCHI</td>\n",
       "      <td>Men Solid Formal Leather Slip-On Shoes</td>\n",
       "      <td>6990</td>\n",
       "    </tr>\n",
       "  </tbody>\n",
       "</table>\n",
       "<p>100 rows × 3 columns</p>\n",
       "</div>"
      ],
      "text/plain": [
       "        Brand                     Product Description Price (in Rs)\n",
       "0       ASICS                 Men GEL-KAYANO 27 Shoes         10499\n",
       "1        Puma          Men Deviate Nitro Running Shoe          8249\n",
       "2        Puma                       Men Running Shoes          6499\n",
       "3        Puma               Men Magnify Nitro Running          7799\n",
       "4        Nike              Men Waffle One SE Sneakers          8295\n",
       "..        ...                                     ...           ...\n",
       "95   DAVINCHI         Men Solid Leather Formal Derbys          7990\n",
       "96      Ruosh               Men Leather Slip-On Shoes          6990\n",
       "97  J.FONTINI              Men Leather Formal Loafers          6990\n",
       "98  J.FONTINI         Men Solid Leather Formal Derbys          6990\n",
       "99   DAVINCHI  Men Solid Formal Leather Slip-On Shoes          6990\n",
       "\n",
       "[100 rows x 3 columns]"
      ]
     },
     "execution_count": 414,
     "metadata": {},
     "output_type": "execute_result"
    }
   ],
   "source": [
    "#Finally store the value and create one dataframe\n",
    "Product = pd.DataFrame({\"Brand\": brand1,\"Product Description\": dis1, \"Price (in Rs)\": price_list})\n",
    "Product"
   ]
  },
  {
   "cell_type": "markdown",
   "id": "00d7d149",
   "metadata": {},
   "source": [
    "# Q8 - scrape first 10 laptops data on Amazon"
   ]
  },
  {
   "cell_type": "code",
   "execution_count": 415,
   "id": "8fb0193e",
   "metadata": {},
   "outputs": [],
   "source": [
    "#Open the page by using driver\n",
    "driver = webdriver.Chrome(r\"C:/Users/hp-pc/Downloads/chromedriver_win32/chromedriver\")"
   ]
  },
  {
   "cell_type": "code",
   "execution_count": 416,
   "id": "44d35e78",
   "metadata": {},
   "outputs": [],
   "source": [
    "#open the website \n",
    "driver.get('https://www.amazon.in/')"
   ]
  },
  {
   "cell_type": "code",
   "execution_count": 417,
   "id": "eea0bece",
   "metadata": {},
   "outputs": [],
   "source": [
    "# Search 'Laptop' on the search bar\n",
    "search_job = driver.find_element_by_xpath(\"//input[@class='nav-input nav-progressive-attribute']\")\n",
    "search_job.send_keys(\"laptop\")"
   ]
  },
  {
   "cell_type": "code",
   "execution_count": 418,
   "id": "294ec0ab",
   "metadata": {},
   "outputs": [],
   "source": [
    "#click on search button\n",
    "search_btn = driver.find_element_by_xpath(\"//input[@id='nav-search-submit-button']\")\n",
    "search_btn.click()"
   ]
  },
  {
   "cell_type": "code",
   "execution_count": 419,
   "id": "98b98d05",
   "metadata": {},
   "outputs": [],
   "source": [
    "# select the laptop \n",
    "search_btn = driver.find_element_by_xpath(\"//*[text()='Intel Core i7' and @class='a-size-base a-color-base']//..//..//i\")\n",
    "search_btn.click()"
   ]
  },
  {
   "cell_type": "code",
   "execution_count": 420,
   "id": "0d87e51d",
   "metadata": {},
   "outputs": [
    {
     "data": {
      "text/plain": [
       "[<selenium.webdriver.remote.webelement.WebElement (session=\"b35d3ba110ea97f68ad1ba8b7b31e16c\", element=\"1b118c1c-2017-419b-8d00-c5b3991d8214\")>,\n",
       " <selenium.webdriver.remote.webelement.WebElement (session=\"b35d3ba110ea97f68ad1ba8b7b31e16c\", element=\"b5dcd8d3-e780-48a6-93d8-8c7a2cc4923c\")>,\n",
       " <selenium.webdriver.remote.webelement.WebElement (session=\"b35d3ba110ea97f68ad1ba8b7b31e16c\", element=\"e07d912f-959b-4d40-bc19-f7b60e271790\")>,\n",
       " <selenium.webdriver.remote.webelement.WebElement (session=\"b35d3ba110ea97f68ad1ba8b7b31e16c\", element=\"9d0554e7-010b-44c0-83ab-6f487733318f\")>,\n",
       " <selenium.webdriver.remote.webelement.WebElement (session=\"b35d3ba110ea97f68ad1ba8b7b31e16c\", element=\"40701545-fc13-42ee-8ec9-68e82f9ce5f1\")>,\n",
       " <selenium.webdriver.remote.webelement.WebElement (session=\"b35d3ba110ea97f68ad1ba8b7b31e16c\", element=\"edcf696d-e3a3-481b-93e3-b53bb7572760\")>,\n",
       " <selenium.webdriver.remote.webelement.WebElement (session=\"b35d3ba110ea97f68ad1ba8b7b31e16c\", element=\"fb3d3b5d-ff49-4afe-8d51-27631b7f5d3d\")>,\n",
       " <selenium.webdriver.remote.webelement.WebElement (session=\"b35d3ba110ea97f68ad1ba8b7b31e16c\", element=\"133051f1-1d28-4535-b98e-8f7da4c44476\")>,\n",
       " <selenium.webdriver.remote.webelement.WebElement (session=\"b35d3ba110ea97f68ad1ba8b7b31e16c\", element=\"0438484d-ffc2-466c-896b-9b16d66b7fcf\")>,\n",
       " <selenium.webdriver.remote.webelement.WebElement (session=\"b35d3ba110ea97f68ad1ba8b7b31e16c\", element=\"ed3c2dda-94a2-4a8b-81e8-b25a77ef9062\")>]"
      ]
     },
     "execution_count": 420,
     "metadata": {},
     "output_type": "execute_result"
    }
   ],
   "source": [
    "#Now Scrape the Title name\n",
    "Title_main = driver.find_elements_by_xpath(\"//h2[@class='a-size-mini a-spacing-none a-color-base s-line-clamp-2']\")\n",
    "Title_main[0:10]"
   ]
  },
  {
   "cell_type": "code",
   "execution_count": 421,
   "id": "1c9c922f",
   "metadata": {},
   "outputs": [
    {
     "data": {
      "text/plain": [
       "['Lenovo ThinkBook Yoga 14s Intel Core i7 11th Gen 14\"(35.56cm) FHD IPS 300 nits 100% sRGB Dolby Vision 2-in-1 Touchscreen Laptop (16GB RAM/512GB SSD/Windows 10/MS Office/Active Pen/1.50 kg) 20WEA01EIH',\n",
       " 'Fujitsu UH-X 11th Gen Intel i7 Core 13.3 inches FHD IPS 400Nits Thin and Light Business Laptop (16GB/512GB SSD/Windows 10/Office/Iris Xe Graphics/Backlit Kb/ Fingerprint Reader/Black/0.878kg), 4ZR1D67596',\n",
       " 'Microsoft Surface Laptop Studio - 14.4\" Touchscreen - Intel Core i7 - 32GB Memory - 2TB SSD - Platinum',\n",
       " 'Mi Notebook Pro QHD+ IPS Anti Glare Display Intel Core i7-11370H 11th Gen 14-inch(35.56 cms) Thin and Light Laptop (16GB/512GB SSD/Iris Xe Graphics/Win 10/Backlit KB/Fingerprint Sensor/1.4 Kg)',\n",
       " 'Mi Notebook Horizon Edition 14 Intel Core i7-10510U 10th Gen Thin and Light Laptop(8GB/512GB SSD/Win 10/Nvidia MX350 2GB Graphics/Grey/1.35Kg)+Wireless Mouse+Microsoft 365 Personal-1Year Subscription',\n",
       " 'HP Pavilion (2021) Intel 11th Gen Core i7 14 inches FHD Screen Thin & Light Laptop, 16 GB RAM, 1TB SSD, Iris Xe Graphics, Windows 10, MS Office, Backlit Keyboard, 1.41kg (14-dv0058TU)',\n",
       " 'Mi Notebook Ultra 3.2K resolution display Intel Core i7-11370H 11th Gen 15.6-inch(39.62 cm) Thin and Light laptop (16GB/512GB SSD/Iris Xe Graphics/Win 10/MS Office/Backlit KB/Fingerprint sensor/1.7Kg)',\n",
       " 'Dell XPS 15 (2021) i7-11800H Touch Screen Laptop / 32GB / 1TB SSD/ NVIDIA RTX 3050 Ti 4GB GDDR6 / Win 10 + MSO / 15.6\" UHD+ AR 500 nits / Backlit KB + FPR / Platinum Silver (XPS 9510, D560055WIN9S)',\n",
       " 'Acer Nitro 5 AN515-57 Gaming Laptop | Intel Core i7-11800H |NVIDIA GeForce RTX 3050 Ti Laptop Graphics |15.6\" FHD 144Hz IPS Display |16GB DDR4 |256GB SSD+1TB HDD |Killer Wi-Fi 6 |RGB Backlit Keyboard',\n",
       " 'ASUS TUF Dash F15 (2021) 15.6-inch (39.62 cms) FHD 144Hz, Intel Core i7-11370H 11th Gen, RTX 3060 6GB Graphics, Gaming Laptop (16GB/512GB SSD/Office 2019/Windows 10/Gray/2 Kg), FX516PM-HN175TS']"
      ]
     },
     "execution_count": 421,
     "metadata": {},
     "output_type": "execute_result"
    }
   ],
   "source": [
    "#Using the for loop to append all items in our list whcih we want to scarpe\n",
    "Title3 =[]\n",
    "Title4 =[]\n",
    "for i in Title_main:\n",
    "    b=i.text\n",
    "    Title3.append(b)\n",
    "Title4=Title3[0:10]\n",
    "Title4"
   ]
  },
  {
   "cell_type": "code",
   "execution_count": 424,
   "id": "8d7363cd",
   "metadata": {},
   "outputs": [
    {
     "data": {
      "text/plain": [
       "[<selenium.webdriver.remote.webelement.WebElement (session=\"b35d3ba110ea97f68ad1ba8b7b31e16c\", element=\"d12d9148-24fb-4d63-b72e-94e5040e54e1\")>,\n",
       " <selenium.webdriver.remote.webelement.WebElement (session=\"b35d3ba110ea97f68ad1ba8b7b31e16c\", element=\"0ffe01ec-c6a9-4c9a-a2cd-e768973d2a16\")>,\n",
       " <selenium.webdriver.remote.webelement.WebElement (session=\"b35d3ba110ea97f68ad1ba8b7b31e16c\", element=\"f9d393dc-fb90-4d73-ac57-042482918f8a\")>,\n",
       " <selenium.webdriver.remote.webelement.WebElement (session=\"b35d3ba110ea97f68ad1ba8b7b31e16c\", element=\"01a2209e-07ca-4dc7-9f8b-453e8edbc93f\")>,\n",
       " <selenium.webdriver.remote.webelement.WebElement (session=\"b35d3ba110ea97f68ad1ba8b7b31e16c\", element=\"39fa4bca-c842-49dd-af31-f0e331bf76e3\")>,\n",
       " <selenium.webdriver.remote.webelement.WebElement (session=\"b35d3ba110ea97f68ad1ba8b7b31e16c\", element=\"21c35b0e-7365-430f-bd7c-237620aceafd\")>,\n",
       " <selenium.webdriver.remote.webelement.WebElement (session=\"b35d3ba110ea97f68ad1ba8b7b31e16c\", element=\"905b51a0-c62b-410c-9450-f9addacb0124\")>,\n",
       " <selenium.webdriver.remote.webelement.WebElement (session=\"b35d3ba110ea97f68ad1ba8b7b31e16c\", element=\"30d59de7-dd59-4878-8426-8bd39c59e8d5\")>,\n",
       " <selenium.webdriver.remote.webelement.WebElement (session=\"b35d3ba110ea97f68ad1ba8b7b31e16c\", element=\"2bd16afd-dde0-4e6e-8d4c-f6e9971836a9\")>,\n",
       " <selenium.webdriver.remote.webelement.WebElement (session=\"b35d3ba110ea97f68ad1ba8b7b31e16c\", element=\"5f763f8b-5b45-43b2-a7da-ee56bcad2839\")>]"
      ]
     },
     "execution_count": 424,
     "metadata": {},
     "output_type": "execute_result"
    }
   ],
   "source": [
    "#Now Scrape the price\n",
    "price = driver.find_elements_by_xpath(\"//span[@class='a-price-whole']\")\n",
    "price[0:10]"
   ]
  },
  {
   "cell_type": "code",
   "execution_count": 427,
   "id": "0b858cb9",
   "metadata": {},
   "outputs": [
    {
     "data": {
      "text/plain": [
       "['89,990',\n",
       " '92,990',\n",
       " '3,73,999',\n",
       " '73,999',\n",
       " '57,852',\n",
       " '84,990',\n",
       " '77,999',\n",
       " '2,89,999',\n",
       " '1,01,490',\n",
       " '1,09,990']"
      ]
     },
     "execution_count": 427,
     "metadata": {},
     "output_type": "execute_result"
    }
   ],
   "source": [
    "#Using the for loop to append all items in our list whcih we want to scarpe\n",
    "price0 =[]\n",
    "price1 =[]\n",
    "for i in price:\n",
    "    b=i.text\n",
    "    price0.append(b)\n",
    "price1=price0[0:10]\n",
    "price1"
   ]
  },
  {
   "cell_type": "code",
   "execution_count": 428,
   "id": "af89ae84",
   "metadata": {},
   "outputs": [
    {
     "data": {
      "text/html": [
       "<div>\n",
       "<style scoped>\n",
       "    .dataframe tbody tr th:only-of-type {\n",
       "        vertical-align: middle;\n",
       "    }\n",
       "\n",
       "    .dataframe tbody tr th {\n",
       "        vertical-align: top;\n",
       "    }\n",
       "\n",
       "    .dataframe thead th {\n",
       "        text-align: right;\n",
       "    }\n",
       "</style>\n",
       "<table border=\"1\" class=\"dataframe\">\n",
       "  <thead>\n",
       "    <tr style=\"text-align: right;\">\n",
       "      <th></th>\n",
       "      <th>Title_name</th>\n",
       "      <th>Price (in Rs)</th>\n",
       "    </tr>\n",
       "  </thead>\n",
       "  <tbody>\n",
       "    <tr>\n",
       "      <th>0</th>\n",
       "      <td>Lenovo ThinkBook Yoga 14s Intel Core i7 11th G...</td>\n",
       "      <td>89,990</td>\n",
       "    </tr>\n",
       "    <tr>\n",
       "      <th>1</th>\n",
       "      <td>Fujitsu UH-X 11th Gen Intel i7 Core 13.3 inche...</td>\n",
       "      <td>92,990</td>\n",
       "    </tr>\n",
       "    <tr>\n",
       "      <th>2</th>\n",
       "      <td>Microsoft Surface Laptop Studio - 14.4\" Touchs...</td>\n",
       "      <td>3,73,999</td>\n",
       "    </tr>\n",
       "    <tr>\n",
       "      <th>3</th>\n",
       "      <td>Mi Notebook Pro QHD+ IPS Anti Glare Display In...</td>\n",
       "      <td>73,999</td>\n",
       "    </tr>\n",
       "    <tr>\n",
       "      <th>4</th>\n",
       "      <td>Mi Notebook Horizon Edition 14 Intel Core i7-1...</td>\n",
       "      <td>57,852</td>\n",
       "    </tr>\n",
       "    <tr>\n",
       "      <th>5</th>\n",
       "      <td>HP Pavilion (2021) Intel 11th Gen Core i7 14 i...</td>\n",
       "      <td>84,990</td>\n",
       "    </tr>\n",
       "    <tr>\n",
       "      <th>6</th>\n",
       "      <td>Mi Notebook Ultra 3.2K resolution display Inte...</td>\n",
       "      <td>77,999</td>\n",
       "    </tr>\n",
       "    <tr>\n",
       "      <th>7</th>\n",
       "      <td>Dell XPS 15 (2021) i7-11800H Touch Screen Lapt...</td>\n",
       "      <td>2,89,999</td>\n",
       "    </tr>\n",
       "    <tr>\n",
       "      <th>8</th>\n",
       "      <td>Acer Nitro 5 AN515-57 Gaming Laptop | Intel Co...</td>\n",
       "      <td>1,01,490</td>\n",
       "    </tr>\n",
       "    <tr>\n",
       "      <th>9</th>\n",
       "      <td>ASUS TUF Dash F15 (2021) 15.6-inch (39.62 cms)...</td>\n",
       "      <td>1,09,990</td>\n",
       "    </tr>\n",
       "  </tbody>\n",
       "</table>\n",
       "</div>"
      ],
      "text/plain": [
       "                                          Title_name Price (in Rs)\n",
       "0  Lenovo ThinkBook Yoga 14s Intel Core i7 11th G...        89,990\n",
       "1  Fujitsu UH-X 11th Gen Intel i7 Core 13.3 inche...        92,990\n",
       "2  Microsoft Surface Laptop Studio - 14.4\" Touchs...      3,73,999\n",
       "3  Mi Notebook Pro QHD+ IPS Anti Glare Display In...        73,999\n",
       "4  Mi Notebook Horizon Edition 14 Intel Core i7-1...        57,852\n",
       "5  HP Pavilion (2021) Intel 11th Gen Core i7 14 i...        84,990\n",
       "6  Mi Notebook Ultra 3.2K resolution display Inte...        77,999\n",
       "7  Dell XPS 15 (2021) i7-11800H Touch Screen Lapt...      2,89,999\n",
       "8  Acer Nitro 5 AN515-57 Gaming Laptop | Intel Co...      1,01,490\n",
       "9  ASUS TUF Dash F15 (2021) 15.6-inch (39.62 cms)...      1,09,990"
      ]
     },
     "execution_count": 428,
     "metadata": {},
     "output_type": "execute_result"
    }
   ],
   "source": [
    "#Finally store the value and create one dataframe\n",
    "laptopi7 = pd.DataFrame({\"Title_name\": Title4, \"Price (in Rs)\": price1})\n",
    "laptopi7"
   ]
  },
  {
   "cell_type": "code",
   "execution_count": 430,
   "id": "696beba9",
   "metadata": {},
   "outputs": [],
   "source": [
    "#Open the page by using driver\n",
    "driver = webdriver.Chrome(r\"C:/Users/hp-pc/Downloads/chromedriver_win32/chromedriver\")"
   ]
  },
  {
   "cell_type": "code",
   "execution_count": 431,
   "id": "c258e786",
   "metadata": {},
   "outputs": [],
   "source": [
    "#open the website \n",
    "driver.get('https://www.amazon.in/')"
   ]
  },
  {
   "cell_type": "code",
   "execution_count": 432,
   "id": "5ceebe68",
   "metadata": {},
   "outputs": [],
   "source": [
    "# Search 'Laptop' on the search bar\n",
    "search_job = driver.find_element_by_xpath(\"//input[@class='nav-input nav-progressive-attribute']\")\n",
    "search_job.send_keys(\"laptop\")"
   ]
  },
  {
   "cell_type": "code",
   "execution_count": 433,
   "id": "80dcd59a",
   "metadata": {},
   "outputs": [],
   "source": [
    "#click on search button\n",
    "search_btn = driver.find_element_by_xpath(\"//input[@id='nav-search-submit-button']\")\n",
    "search_btn.click()"
   ]
  },
  {
   "cell_type": "code",
   "execution_count": 434,
   "id": "1bac9b04",
   "metadata": {},
   "outputs": [],
   "source": [
    "#Select the laptop\n",
    "search_btn = driver.find_element_by_xpath(\"//*[text()='Intel Core i9' and @class='a-size-base a-color-base']//..//..//i\")\n",
    "search_btn.click()"
   ]
  },
  {
   "cell_type": "code",
   "execution_count": 435,
   "id": "285530f8",
   "metadata": {},
   "outputs": [
    {
     "data": {
      "text/plain": [
       "[<selenium.webdriver.remote.webelement.WebElement (session=\"a0fb8a75f34a567498c6d45559f812fa\", element=\"33138e27-d8a9-4c50-bd9e-10d7d8a31225\")>,\n",
       " <selenium.webdriver.remote.webelement.WebElement (session=\"a0fb8a75f34a567498c6d45559f812fa\", element=\"0ba88059-d609-4a39-81df-29f5da95953d\")>,\n",
       " <selenium.webdriver.remote.webelement.WebElement (session=\"a0fb8a75f34a567498c6d45559f812fa\", element=\"f911ecdf-b904-4a1c-b698-feb9519e097e\")>,\n",
       " <selenium.webdriver.remote.webelement.WebElement (session=\"a0fb8a75f34a567498c6d45559f812fa\", element=\"1cc016bf-3939-49df-bc15-621c1b0ff3cd\")>,\n",
       " <selenium.webdriver.remote.webelement.WebElement (session=\"a0fb8a75f34a567498c6d45559f812fa\", element=\"c01d23d2-4e6f-42b4-a140-a5e7c9c8b2d1\")>,\n",
       " <selenium.webdriver.remote.webelement.WebElement (session=\"a0fb8a75f34a567498c6d45559f812fa\", element=\"b50ea8ef-5993-4648-8369-9981523cf211\")>,\n",
       " <selenium.webdriver.remote.webelement.WebElement (session=\"a0fb8a75f34a567498c6d45559f812fa\", element=\"0736ff5e-0c85-4378-bdb2-eb26b3619b22\")>,\n",
       " <selenium.webdriver.remote.webelement.WebElement (session=\"a0fb8a75f34a567498c6d45559f812fa\", element=\"02f00797-391d-45cc-9457-e6874b693806\")>,\n",
       " <selenium.webdriver.remote.webelement.WebElement (session=\"a0fb8a75f34a567498c6d45559f812fa\", element=\"ce844c4f-6943-469a-b853-a3ce3817a579\")>,\n",
       " <selenium.webdriver.remote.webelement.WebElement (session=\"a0fb8a75f34a567498c6d45559f812fa\", element=\"dd0db195-e106-4a42-915f-01ecf5e5b540\")>]"
      ]
     },
     "execution_count": 435,
     "metadata": {},
     "output_type": "execute_result"
    }
   ],
   "source": [
    "#Now Scrape the Title name\n",
    "Title_main = driver.find_elements_by_xpath(\"//h2[@class='a-size-mini a-spacing-none a-color-base s-line-clamp-2']\")\n",
    "Title_main[0:10]"
   ]
  },
  {
   "cell_type": "code",
   "execution_count": 461,
   "id": "f8cc6aa2",
   "metadata": {},
   "outputs": [
    {
     "data": {
      "text/plain": [
       "['Dell XPS 7590 39.62 cm (15.6-inch) UHD Display Laptop (9th Gen Core i9-9980HK/32GB/1TB SSD/Win 10 + MS Office/4GB Nvidia Graphics), Abyss Grey',\n",
       " '(Renewed) Dell G7 7500 15.6inch FHD 300 Hz Display Gaming Laptop (10th Gen i9-10885H / 16 GB / 1TB SSD / NVIDIA RTX 2070 8GB Graphics / 1Yr Premium Warranty / Win 10 + MS Office H&S 2019) D560233WIN9B, Black',\n",
       " 'Lenovo Legion 7 10th Gen Intel Core i9 15.6 inch Full HD Gaming Laptop (16GB/1TB SSD/Windows 10/MS Office 2019/144 Hz/NVIDIA RTX 2080 8GB GDDR6 Graphics/Slate Grey/2.25Kg), 81YU006HIN',\n",
       " 'ASUS TUF Gaming F15 (2021), 15.6-inch (39.62 cms) FHD 240Hz/3ms, Intel Core i9-11900H 11th Gen, RTX 3060 6GB Graphics Gaming Laptop (16GB/1TB SSD/Office 2019/Windows 10/Black/2.3 kg), FX506HM-AZ099TS',\n",
       " 'Dell XPS 17 (2021) i9-11900H Touch Screen Laptop / 32GB / 1TB SSD/ NVIDIA RTX 3060 6GB GDDR6 / Win 10 + MS Office/ 17.0\" UHD+ AR 500 nits / Backlit KB + FPR / Platinum Silver (XPS 9710, D560057WIN9S)',\n",
       " 'HP ZBOOK Power G8/ Intel core i9-11900H 8 Core/32GB DDR4 3200 RAM/1TB PCIe NVMe TLC SSD /15.6” FHD /Nvidia Quadro T1200 Dedicated Graphics 4GB DDR6 /Windows 10 Pro / 3 Year Warranty',\n",
       " 'ASUS TUF Gaming F15 (2021), 15.6\" (39.62 cms) FHD 240Hz, Intel Core i9-11900H 11th Gen, GeForce RTX 3060 6GB Graphics, Gaming Laptop(16GB/1TB SSD/Office 2019/Windows 10/Gray/2.3 Kg), FX566HM-AZ096TS',\n",
       " 'Dell G7 7500 15.6inch FHD 300 Hz Display Gaming Laptop (10th Gen i9-10885H / 16 GB / 1TB SSD / NVIDIA RTX 2070 8GB Graphics / 1Yr Premium Warranty / Win 10 + MS Office H&S 2019) D560233WIN9B, Black',\n",
       " 'Z2 G5 Workstation 700W /Core i9-10900 (2.8GHz 10C) /16GB RAM/512GB SSD+1TB SATA/Nvidia RTX 3070 8GB Graphics/DVDRW/Windows 10 Pro/3 Year Warranty']"
      ]
     },
     "execution_count": 461,
     "metadata": {},
     "output_type": "execute_result"
    }
   ],
   "source": [
    "#Using the for loop to append all items in our list whcih we want to scarpe\n",
    "Title_main0 =[]\n",
    "Title_main1 =[]\n",
    "for i in Title_main:\n",
    "    b=i.text\n",
    "    Title_main0.append(b)\n",
    "Title_main1=Title_main0[0:100]\n",
    "Title_main2=Title_main1.pop(1)\n",
    "Title_main1"
   ]
  },
  {
   "cell_type": "code",
   "execution_count": 439,
   "id": "5b50b659",
   "metadata": {},
   "outputs": [
    {
     "data": {
      "text/plain": [
       "[<selenium.webdriver.remote.webelement.WebElement (session=\"a0fb8a75f34a567498c6d45559f812fa\", element=\"967febbd-8e22-43eb-b2e1-2dc6959b67e4\")>,\n",
       " <selenium.webdriver.remote.webelement.WebElement (session=\"a0fb8a75f34a567498c6d45559f812fa\", element=\"f2f6b201-34b6-47ec-9eb9-7602b3c09401\")>,\n",
       " <selenium.webdriver.remote.webelement.WebElement (session=\"a0fb8a75f34a567498c6d45559f812fa\", element=\"2705d133-4ba3-4cda-b461-c32e2b0c608a\")>,\n",
       " <selenium.webdriver.remote.webelement.WebElement (session=\"a0fb8a75f34a567498c6d45559f812fa\", element=\"61d15c0c-cf31-4b9f-9f0e-f502a4d56755\")>,\n",
       " <selenium.webdriver.remote.webelement.WebElement (session=\"a0fb8a75f34a567498c6d45559f812fa\", element=\"6f8300ab-69e6-4433-93c8-82c829bc79f7\")>,\n",
       " <selenium.webdriver.remote.webelement.WebElement (session=\"a0fb8a75f34a567498c6d45559f812fa\", element=\"d423bd5b-7234-4c40-ac71-8e274eef7ab1\")>,\n",
       " <selenium.webdriver.remote.webelement.WebElement (session=\"a0fb8a75f34a567498c6d45559f812fa\", element=\"8a2a33e0-c39b-4722-8eda-499fa56c042c\")>,\n",
       " <selenium.webdriver.remote.webelement.WebElement (session=\"a0fb8a75f34a567498c6d45559f812fa\", element=\"27a57749-f742-4ae7-8aea-48cc5284b35a\")>,\n",
       " <selenium.webdriver.remote.webelement.WebElement (session=\"a0fb8a75f34a567498c6d45559f812fa\", element=\"83bf7f11-8886-4168-89d6-50cb5755c6b0\")>]"
      ]
     },
     "execution_count": 439,
     "metadata": {},
     "output_type": "execute_result"
    }
   ],
   "source": [
    "#Now Scrape the price\n",
    "price = driver.find_elements_by_xpath(\"//span[@class='a-price-whole']\")\n",
    "price[0:10]"
   ]
  },
  {
   "cell_type": "code",
   "execution_count": 463,
   "id": "21619cd5",
   "metadata": {},
   "outputs": [
    {
     "data": {
      "text/plain": [
       "['2,01,900',\n",
       " '2,25,000',\n",
       " '2,65,999',\n",
       " '1,48,980',\n",
       " '3,75,000',\n",
       " '2,45,000',\n",
       " '1,52,890',\n",
       " '2,07,990',\n",
       " '2,39,000']"
      ]
     },
     "execution_count": 463,
     "metadata": {},
     "output_type": "execute_result"
    }
   ],
   "source": [
    "#Using the for loop to append all items in our list whcih we want to scarpe\n",
    "price0 =[]\n",
    "price1 =[]\n",
    "for i in price:\n",
    "    b=i.text\n",
    "    price0.append(b)\n",
    "price1=price0[0:100]\n",
    "price1"
   ]
  },
  {
   "cell_type": "code",
   "execution_count": 464,
   "id": "488b3898",
   "metadata": {},
   "outputs": [
    {
     "data": {
      "text/html": [
       "<div>\n",
       "<style scoped>\n",
       "    .dataframe tbody tr th:only-of-type {\n",
       "        vertical-align: middle;\n",
       "    }\n",
       "\n",
       "    .dataframe tbody tr th {\n",
       "        vertical-align: top;\n",
       "    }\n",
       "\n",
       "    .dataframe thead th {\n",
       "        text-align: right;\n",
       "    }\n",
       "</style>\n",
       "<table border=\"1\" class=\"dataframe\">\n",
       "  <thead>\n",
       "    <tr style=\"text-align: right;\">\n",
       "      <th></th>\n",
       "      <th>Title_name</th>\n",
       "      <th>Price (in Rs)</th>\n",
       "    </tr>\n",
       "  </thead>\n",
       "  <tbody>\n",
       "    <tr>\n",
       "      <th>0</th>\n",
       "      <td>Dell XPS 7590 39.62 cm (15.6-inch) UHD Display...</td>\n",
       "      <td>2,01,900</td>\n",
       "    </tr>\n",
       "    <tr>\n",
       "      <th>1</th>\n",
       "      <td>(Renewed) Dell G7 7500 15.6inch FHD 300 Hz Dis...</td>\n",
       "      <td>2,25,000</td>\n",
       "    </tr>\n",
       "    <tr>\n",
       "      <th>2</th>\n",
       "      <td>Lenovo Legion 7 10th Gen Intel Core i9 15.6 in...</td>\n",
       "      <td>2,65,999</td>\n",
       "    </tr>\n",
       "    <tr>\n",
       "      <th>3</th>\n",
       "      <td>ASUS TUF Gaming F15 (2021), 15.6-inch (39.62 c...</td>\n",
       "      <td>1,48,980</td>\n",
       "    </tr>\n",
       "    <tr>\n",
       "      <th>4</th>\n",
       "      <td>Dell XPS 17 (2021) i9-11900H Touch Screen Lapt...</td>\n",
       "      <td>3,75,000</td>\n",
       "    </tr>\n",
       "    <tr>\n",
       "      <th>5</th>\n",
       "      <td>HP ZBOOK Power G8/ Intel core i9-11900H 8 Core...</td>\n",
       "      <td>2,45,000</td>\n",
       "    </tr>\n",
       "    <tr>\n",
       "      <th>6</th>\n",
       "      <td>ASUS TUF Gaming F15 (2021), 15.6\" (39.62 cms) ...</td>\n",
       "      <td>1,52,890</td>\n",
       "    </tr>\n",
       "    <tr>\n",
       "      <th>7</th>\n",
       "      <td>Dell G7 7500 15.6inch FHD 300 Hz Display Gamin...</td>\n",
       "      <td>2,07,990</td>\n",
       "    </tr>\n",
       "    <tr>\n",
       "      <th>8</th>\n",
       "      <td>Z2 G5 Workstation 700W /Core i9-10900 (2.8GHz ...</td>\n",
       "      <td>2,39,000</td>\n",
       "    </tr>\n",
       "  </tbody>\n",
       "</table>\n",
       "</div>"
      ],
      "text/plain": [
       "                                          Title_name Price (in Rs)\n",
       "0  Dell XPS 7590 39.62 cm (15.6-inch) UHD Display...      2,01,900\n",
       "1  (Renewed) Dell G7 7500 15.6inch FHD 300 Hz Dis...      2,25,000\n",
       "2  Lenovo Legion 7 10th Gen Intel Core i9 15.6 in...      2,65,999\n",
       "3  ASUS TUF Gaming F15 (2021), 15.6-inch (39.62 c...      1,48,980\n",
       "4  Dell XPS 17 (2021) i9-11900H Touch Screen Lapt...      3,75,000\n",
       "5  HP ZBOOK Power G8/ Intel core i9-11900H 8 Core...      2,45,000\n",
       "6  ASUS TUF Gaming F15 (2021), 15.6\" (39.62 cms) ...      1,52,890\n",
       "7  Dell G7 7500 15.6inch FHD 300 Hz Display Gamin...      2,07,990\n",
       "8  Z2 G5 Workstation 700W /Core i9-10900 (2.8GHz ...      2,39,000"
      ]
     },
     "execution_count": 464,
     "metadata": {},
     "output_type": "execute_result"
    }
   ],
   "source": [
    "#Finally store the value and create one dataframe\n",
    "laptopi9 = pd.DataFrame({\"Title_name\": Title_main1, \"Price (in Rs)\": price1})\n",
    "laptopi9"
   ]
  },
  {
   "cell_type": "markdown",
   "id": "3b4719bc",
   "metadata": {},
   "source": [
    "# Q9- Write a python program to scrape data for first 10 job results for Data Scientist."
   ]
  },
  {
   "cell_type": "code",
   "execution_count": 465,
   "id": "bee7b8b4",
   "metadata": {},
   "outputs": [],
   "source": [
    "#Open the page by using driver\n",
    "driver = webdriver.Chrome(r\"C:/Users/hp-pc/Downloads/chromedriver_win32/chromedriver\")"
   ]
  },
  {
   "cell_type": "code",
   "execution_count": 466,
   "id": "356e5d2f",
   "metadata": {},
   "outputs": [],
   "source": [
    "#open the website \n",
    "driver.get('https://www.ambitionbox.com/')"
   ]
  },
  {
   "cell_type": "code",
   "execution_count": 467,
   "id": "bda33a81",
   "metadata": {},
   "outputs": [],
   "source": [
    "#click the option job\n",
    "click_job = driver.find_element_by_xpath(\"//a[@class='link jobs']\")\n",
    "click_job.click()"
   ]
  },
  {
   "cell_type": "code",
   "execution_count": 468,
   "id": "42e196c4",
   "metadata": {},
   "outputs": [],
   "source": [
    "#search 'Data Scientist' on search bar\n",
    "search_loc = driver.find_element_by_xpath(\"//input[@class='input tt-input']\")\n",
    "search_loc.send_keys('Data Scientist')"
   ]
  },
  {
   "cell_type": "code",
   "execution_count": 469,
   "id": "3217742f",
   "metadata": {},
   "outputs": [],
   "source": [
    "#click the search button\n",
    "search_btn = driver.find_element_by_xpath(\"//button[@class='ab_btn search-btn round']\")\n",
    "search_btn.click()"
   ]
  },
  {
   "cell_type": "code",
   "execution_count": 470,
   "id": "82b6049c",
   "metadata": {},
   "outputs": [],
   "source": [
    "# search the location\n",
    "search_loc = driver.find_element_by_xpath(\"/html/body/div/div/div/div[2]/div[2]/div[1]/div/div/div/div[2]/div[1]\")\n",
    "search_loc.click()"
   ]
  },
  {
   "cell_type": "code",
   "execution_count": 471,
   "id": "c376732b",
   "metadata": {},
   "outputs": [],
   "source": [
    "# write noida into it\n",
    "search_loc = driver.find_element_by_xpath(\"/html/body/div/div/div/div[2]/div[2]/div[1]/div/div/div/div[2]/div[2]/div/div[2]/input\")\n",
    "search_loc.send_keys('Noida')"
   ]
  },
  {
   "cell_type": "code",
   "execution_count": 472,
   "id": "6f41b327",
   "metadata": {},
   "outputs": [],
   "source": [
    "#select noida\n",
    "search_btn = driver.find_element_by_xpath(\"//input[@id='location_Noida']\")\n",
    "search_btn.click()"
   ]
  },
  {
   "cell_type": "code",
   "execution_count": 473,
   "id": "1cbb0028",
   "metadata": {},
   "outputs": [
    {
     "data": {
      "text/plain": [
       "[<selenium.webdriver.remote.webelement.WebElement (session=\"b647e9393a36f7161e351e116a9acd2a\", element=\"ae9f279a-672e-4a27-8cbb-bb78ecafbba9\")>,\n",
       " <selenium.webdriver.remote.webelement.WebElement (session=\"b647e9393a36f7161e351e116a9acd2a\", element=\"108aefc0-6561-4990-a067-66a4c9849404\")>,\n",
       " <selenium.webdriver.remote.webelement.WebElement (session=\"b647e9393a36f7161e351e116a9acd2a\", element=\"427b2b87-71d6-4c58-8609-5487a1bc33b7\")>,\n",
       " <selenium.webdriver.remote.webelement.WebElement (session=\"b647e9393a36f7161e351e116a9acd2a\", element=\"c53da9c9-f683-406a-ac69-ea89ce69a092\")>,\n",
       " <selenium.webdriver.remote.webelement.WebElement (session=\"b647e9393a36f7161e351e116a9acd2a\", element=\"2ac1cad1-47d6-449e-8374-9632571c2721\")>,\n",
       " <selenium.webdriver.remote.webelement.WebElement (session=\"b647e9393a36f7161e351e116a9acd2a\", element=\"6035a14d-8f8e-499b-9647-0a150032fa96\")>,\n",
       " <selenium.webdriver.remote.webelement.WebElement (session=\"b647e9393a36f7161e351e116a9acd2a\", element=\"8198cb94-2d64-41db-b23a-ee8544b004b6\")>,\n",
       " <selenium.webdriver.remote.webelement.WebElement (session=\"b647e9393a36f7161e351e116a9acd2a\", element=\"467448e7-27f0-4b10-bf78-7b60320db630\")>,\n",
       " <selenium.webdriver.remote.webelement.WebElement (session=\"b647e9393a36f7161e351e116a9acd2a\", element=\"dea9a369-a454-43b6-b236-395cd9b9a7dd\")>,\n",
       " <selenium.webdriver.remote.webelement.WebElement (session=\"b647e9393a36f7161e351e116a9acd2a\", element=\"28058b15-2c31-4846-b743-84b8018b71bf\")>]"
      ]
     },
     "execution_count": 473,
     "metadata": {},
     "output_type": "execute_result"
    }
   ],
   "source": [
    "#Now Scrape the company name\n",
    "company_name = driver.find_elements_by_xpath(\"//p[@class='company body-medium']\")\n",
    "company_name[0:10]"
   ]
  },
  {
   "cell_type": "code",
   "execution_count": 474,
   "id": "1a600589",
   "metadata": {},
   "outputs": [
    {
     "data": {
      "text/plain": [
       "['LG Electronics India Pvt. Ltd.',\n",
       " 'GENPACT India Private Limited',\n",
       " 'GENPACT India Private Limited',\n",
       " 'NTT Data Business Solutions Pvt Ltd',\n",
       " 'GENPACT India Private Limited',\n",
       " 'Paytm',\n",
       " 'GI Group',\n",
       " 'GI Group',\n",
       " 'GI Group',\n",
       " 'Steria India Ltd']"
      ]
     },
     "execution_count": 474,
     "metadata": {},
     "output_type": "execute_result"
    }
   ],
   "source": [
    "#Using the for loop to append all items in our list whcih we want to scarpe\n",
    "cmp0 =[]\n",
    "cmp1 =[]\n",
    "for i in company_name:\n",
    "    b=i.text\n",
    "    cmp0.append(b)\n",
    "cmp1= cmp0[0:10]\n",
    "cmp1"
   ]
  },
  {
   "cell_type": "code",
   "execution_count": 475,
   "id": "0b0a21ba",
   "metadata": {},
   "outputs": [
    {
     "data": {
      "text/plain": [
       "[<selenium.webdriver.remote.webelement.WebElement (session=\"b647e9393a36f7161e351e116a9acd2a\", element=\"f1921c4a-09b0-4768-8660-bc6a18af601b\")>,\n",
       " <selenium.webdriver.remote.webelement.WebElement (session=\"b647e9393a36f7161e351e116a9acd2a\", element=\"53d1f9d9-9001-48c3-b47f-a8b1d7c606eb\")>,\n",
       " <selenium.webdriver.remote.webelement.WebElement (session=\"b647e9393a36f7161e351e116a9acd2a\", element=\"3d24e417-37d7-45a9-8c29-e831aea42c13\")>,\n",
       " <selenium.webdriver.remote.webelement.WebElement (session=\"b647e9393a36f7161e351e116a9acd2a\", element=\"13d2add5-dd59-45f1-b4b8-b3bd1c0eb798\")>,\n",
       " <selenium.webdriver.remote.webelement.WebElement (session=\"b647e9393a36f7161e351e116a9acd2a\", element=\"05d28eba-6404-4180-963c-58ef48990dbc\")>,\n",
       " <selenium.webdriver.remote.webelement.WebElement (session=\"b647e9393a36f7161e351e116a9acd2a\", element=\"a003f69e-9bb6-49c7-91f4-b230d6bad552\")>,\n",
       " <selenium.webdriver.remote.webelement.WebElement (session=\"b647e9393a36f7161e351e116a9acd2a\", element=\"82becb59-0b98-4873-82cf-10e772376199\")>,\n",
       " <selenium.webdriver.remote.webelement.WebElement (session=\"b647e9393a36f7161e351e116a9acd2a\", element=\"0b177b66-93a2-433b-b3ed-5667cd7c8506\")>,\n",
       " <selenium.webdriver.remote.webelement.WebElement (session=\"b647e9393a36f7161e351e116a9acd2a\", element=\"88535a5a-8f76-4689-858e-ba263ecc8452\")>,\n",
       " <selenium.webdriver.remote.webelement.WebElement (session=\"b647e9393a36f7161e351e116a9acd2a\", element=\"c0e42cee-08bf-41aa-b0b0-75b8e1d593a6\")>]"
      ]
     },
     "execution_count": 475,
     "metadata": {},
     "output_type": "execute_result"
    }
   ],
   "source": [
    "#Now Scrape the number of days ago the job post was posted\n",
    "num_days = driver.find_elements_by_xpath(\"//span[1][@class='body-small-l']\")\n",
    "num_days[0:10]"
   ]
  },
  {
   "cell_type": "code",
   "execution_count": 476,
   "id": "f925e7c1",
   "metadata": {},
   "outputs": [
    {
     "data": {
      "text/plain": [
       "['10d ago',\n",
       " '17d ago',\n",
       " '17d ago',\n",
       " '18d ago',\n",
       " '19d ago',\n",
       " '4d ago',\n",
       " '3d ago',\n",
       " '3d ago',\n",
       " '3d ago',\n",
       " '1mon ago']"
      ]
     },
     "execution_count": 476,
     "metadata": {},
     "output_type": "execute_result"
    }
   ],
   "source": [
    "#Using the for loop to append all items in our list whcih we want to scarpe\n",
    "days0 =[]\n",
    "days1 =[]\n",
    "for i in num_days:\n",
    "    b=i.text\n",
    "    days0.append(b)\n",
    "days1= days0[0:10]\n",
    "days1"
   ]
  },
  {
   "cell_type": "code",
   "execution_count": 477,
   "id": "810b0a27",
   "metadata": {},
   "outputs": [
    {
     "data": {
      "text/plain": [
       "[<selenium.webdriver.remote.webelement.WebElement (session=\"b647e9393a36f7161e351e116a9acd2a\", element=\"461670b8-48b7-4a54-bf49-62c78773d186\")>,\n",
       " <selenium.webdriver.remote.webelement.WebElement (session=\"b647e9393a36f7161e351e116a9acd2a\", element=\"fdafe51a-e585-46d0-abd9-8e532ba1d7d8\")>,\n",
       " <selenium.webdriver.remote.webelement.WebElement (session=\"b647e9393a36f7161e351e116a9acd2a\", element=\"d46a8fca-ef4f-4eba-8a57-a5afc3aa9ed0\")>,\n",
       " <selenium.webdriver.remote.webelement.WebElement (session=\"b647e9393a36f7161e351e116a9acd2a\", element=\"a4d19dc9-7743-411a-95c1-9a805918fedc\")>,\n",
       " <selenium.webdriver.remote.webelement.WebElement (session=\"b647e9393a36f7161e351e116a9acd2a\", element=\"d2def3be-6a94-48ff-adf0-d2fc27d414b0\")>,\n",
       " <selenium.webdriver.remote.webelement.WebElement (session=\"b647e9393a36f7161e351e116a9acd2a\", element=\"4a501c70-c055-4ae5-a56a-ed1042104440\")>,\n",
       " <selenium.webdriver.remote.webelement.WebElement (session=\"b647e9393a36f7161e351e116a9acd2a\", element=\"046f454f-4331-4584-a7b2-b268b746b792\")>,\n",
       " <selenium.webdriver.remote.webelement.WebElement (session=\"b647e9393a36f7161e351e116a9acd2a\", element=\"01d699ed-c18a-41f4-8e25-92c52f336fcc\")>,\n",
       " <selenium.webdriver.remote.webelement.WebElement (session=\"b647e9393a36f7161e351e116a9acd2a\", element=\"07201950-9769-43ab-a18b-fc7d39c9e925\")>,\n",
       " <selenium.webdriver.remote.webelement.WebElement (session=\"b647e9393a36f7161e351e116a9acd2a\", element=\"4036902c-b96b-4e3e-a6c2-d0716d168c90\")>]"
      ]
     },
     "execution_count": 477,
     "metadata": {},
     "output_type": "execute_result"
    }
   ],
   "source": [
    "#Now Scrape the Ratings\n",
    "ratings = driver.find_elements_by_xpath(\"//span[@class='body-small']\")\n",
    "ratings[0:10]"
   ]
  },
  {
   "cell_type": "code",
   "execution_count": 478,
   "id": "18050291",
   "metadata": {},
   "outputs": [
    {
     "data": {
      "text/plain": [
       "['4.1', '4.0', '4.0', '3.8', '4.0', '3.7', '4.0', '4.0', '4.0', '4.1']"
      ]
     },
     "execution_count": 478,
     "metadata": {},
     "output_type": "execute_result"
    }
   ],
   "source": [
    "#Using the for loop to append all items in our list whcih we want to scarpe\n",
    "rt0 =[]\n",
    "rt1 =[]\n",
    "for i in ratings:\n",
    "    b=i.text\n",
    "    rt0.append(b)\n",
    "rt1= rt0[0:10]\n",
    "rt1"
   ]
  },
  {
   "cell_type": "code",
   "execution_count": 479,
   "id": "8b3d2e47",
   "metadata": {},
   "outputs": [
    {
     "data": {
      "text/html": [
       "<div>\n",
       "<style scoped>\n",
       "    .dataframe tbody tr th:only-of-type {\n",
       "        vertical-align: middle;\n",
       "    }\n",
       "\n",
       "    .dataframe tbody tr th {\n",
       "        vertical-align: top;\n",
       "    }\n",
       "\n",
       "    .dataframe thead th {\n",
       "        text-align: right;\n",
       "    }\n",
       "</style>\n",
       "<table border=\"1\" class=\"dataframe\">\n",
       "  <thead>\n",
       "    <tr style=\"text-align: right;\">\n",
       "      <th></th>\n",
       "      <th>Company_name</th>\n",
       "      <th>No. of days ago</th>\n",
       "      <th>Ratings</th>\n",
       "    </tr>\n",
       "  </thead>\n",
       "  <tbody>\n",
       "    <tr>\n",
       "      <th>0</th>\n",
       "      <td>LG Electronics India Pvt. Ltd.</td>\n",
       "      <td>10d ago</td>\n",
       "      <td>4.1</td>\n",
       "    </tr>\n",
       "    <tr>\n",
       "      <th>1</th>\n",
       "      <td>GENPACT India Private Limited</td>\n",
       "      <td>17d ago</td>\n",
       "      <td>4.0</td>\n",
       "    </tr>\n",
       "    <tr>\n",
       "      <th>2</th>\n",
       "      <td>GENPACT India Private Limited</td>\n",
       "      <td>17d ago</td>\n",
       "      <td>4.0</td>\n",
       "    </tr>\n",
       "    <tr>\n",
       "      <th>3</th>\n",
       "      <td>NTT Data Business Solutions Pvt Ltd</td>\n",
       "      <td>18d ago</td>\n",
       "      <td>3.8</td>\n",
       "    </tr>\n",
       "    <tr>\n",
       "      <th>4</th>\n",
       "      <td>GENPACT India Private Limited</td>\n",
       "      <td>19d ago</td>\n",
       "      <td>4.0</td>\n",
       "    </tr>\n",
       "    <tr>\n",
       "      <th>5</th>\n",
       "      <td>Paytm</td>\n",
       "      <td>4d ago</td>\n",
       "      <td>3.7</td>\n",
       "    </tr>\n",
       "    <tr>\n",
       "      <th>6</th>\n",
       "      <td>GI Group</td>\n",
       "      <td>3d ago</td>\n",
       "      <td>4.0</td>\n",
       "    </tr>\n",
       "    <tr>\n",
       "      <th>7</th>\n",
       "      <td>GI Group</td>\n",
       "      <td>3d ago</td>\n",
       "      <td>4.0</td>\n",
       "    </tr>\n",
       "    <tr>\n",
       "      <th>8</th>\n",
       "      <td>GI Group</td>\n",
       "      <td>3d ago</td>\n",
       "      <td>4.0</td>\n",
       "    </tr>\n",
       "    <tr>\n",
       "      <th>9</th>\n",
       "      <td>Steria India Ltd</td>\n",
       "      <td>1mon ago</td>\n",
       "      <td>4.1</td>\n",
       "    </tr>\n",
       "  </tbody>\n",
       "</table>\n",
       "</div>"
      ],
      "text/plain": [
       "                          Company_name No. of days ago Ratings\n",
       "0       LG Electronics India Pvt. Ltd.         10d ago     4.1\n",
       "1        GENPACT India Private Limited         17d ago     4.0\n",
       "2        GENPACT India Private Limited         17d ago     4.0\n",
       "3  NTT Data Business Solutions Pvt Ltd         18d ago     3.8\n",
       "4        GENPACT India Private Limited         19d ago     4.0\n",
       "5                                Paytm          4d ago     3.7\n",
       "6                             GI Group          3d ago     4.0\n",
       "7                             GI Group          3d ago     4.0\n",
       "8                             GI Group          3d ago     4.0\n",
       "9                     Steria India Ltd        1mon ago     4.1"
      ]
     },
     "execution_count": 479,
     "metadata": {},
     "output_type": "execute_result"
    }
   ],
   "source": [
    "#Finally store the value and create one dataframe\n",
    "Ambition_box_job = pd.DataFrame({\"Company_name\": cmp1,\"No. of days ago\": days1, \"Ratings\": rt1})\n",
    "Ambition_box_job "
   ]
  },
  {
   "cell_type": "markdown",
   "id": "a669c4ae",
   "metadata": {},
   "source": [
    "# Q10: Write a python program to scrape the salary data for Data Scientist designation. "
   ]
  },
  {
   "cell_type": "code",
   "execution_count": 480,
   "id": "1c98bd2b",
   "metadata": {},
   "outputs": [],
   "source": [
    "#Open the page by using driver\n",
    "driver = webdriver.Chrome(r\"C:/Users/hp-pc/Downloads/chromedriver_win32/chromedriver\")"
   ]
  },
  {
   "cell_type": "code",
   "execution_count": 481,
   "id": "b165e68a",
   "metadata": {},
   "outputs": [],
   "source": [
    "#open the website \n",
    "driver.get('https://www.ambitionbox.com/')"
   ]
  },
  {
   "cell_type": "code",
   "execution_count": 482,
   "id": "7b8769e3",
   "metadata": {},
   "outputs": [],
   "source": [
    "#Click on salary option\n",
    "click_salary = driver.find_element_by_xpath(\"//a[@class='link salaries']\")\n",
    "click_salary.click()"
   ]
  },
  {
   "cell_type": "code",
   "execution_count": 485,
   "id": "c6209ce3",
   "metadata": {},
   "outputs": [],
   "source": [
    "#search the post 'Data Scientist' into it\n",
    "search_post = driver.find_element_by_xpath(\"//input[@id='jobProfileSearchbox']\")\n",
    "search_post.send_keys('Data Scientist')"
   ]
  },
  {
   "cell_type": "code",
   "execution_count": 486,
   "id": "8920f57e",
   "metadata": {},
   "outputs": [],
   "source": [
    "# Click on 'Data Scientist' post option\n",
    "click_des = driver.find_element_by_xpath(\"//div[@class='suggestion_wrap tt-suggestion tt-selectable']\")\n",
    "click_des.click()"
   ]
  },
  {
   "cell_type": "code",
   "execution_count": 487,
   "id": "547192ca",
   "metadata": {},
   "outputs": [
    {
     "data": {
      "text/plain": [
       "[<selenium.webdriver.remote.webelement.WebElement (session=\"f9baf3c0ac66535437afa0c36f83107e\", element=\"8cb3b37d-417c-413f-8c32-c205590617c2\")>,\n",
       " <selenium.webdriver.remote.webelement.WebElement (session=\"f9baf3c0ac66535437afa0c36f83107e\", element=\"b22f5981-6286-4d74-9b87-e6ef85eec9f6\")>,\n",
       " <selenium.webdriver.remote.webelement.WebElement (session=\"f9baf3c0ac66535437afa0c36f83107e\", element=\"d5670387-838e-4f02-8c32-7aba5b220d43\")>,\n",
       " <selenium.webdriver.remote.webelement.WebElement (session=\"f9baf3c0ac66535437afa0c36f83107e\", element=\"29b7a423-4491-4559-b4db-0cafeed8aae3\")>,\n",
       " <selenium.webdriver.remote.webelement.WebElement (session=\"f9baf3c0ac66535437afa0c36f83107e\", element=\"6d945014-907b-4c75-9502-95fd32b5d466\")>,\n",
       " <selenium.webdriver.remote.webelement.WebElement (session=\"f9baf3c0ac66535437afa0c36f83107e\", element=\"02c082b2-95c2-472e-980c-eafb2a2e93c9\")>,\n",
       " <selenium.webdriver.remote.webelement.WebElement (session=\"f9baf3c0ac66535437afa0c36f83107e\", element=\"763f67d7-d545-4732-b02c-3eaabd39e580\")>,\n",
       " <selenium.webdriver.remote.webelement.WebElement (session=\"f9baf3c0ac66535437afa0c36f83107e\", element=\"d154ee13-b189-4c45-a65a-08941c4debd1\")>,\n",
       " <selenium.webdriver.remote.webelement.WebElement (session=\"f9baf3c0ac66535437afa0c36f83107e\", element=\"3845e6bc-4806-464c-bc9d-f988517e5b0e\")>,\n",
       " <selenium.webdriver.remote.webelement.WebElement (session=\"f9baf3c0ac66535437afa0c36f83107e\", element=\"353a4711-eb36-4f76-b7a6-7bb221a029db\")>]"
      ]
     },
     "execution_count": 487,
     "metadata": {},
     "output_type": "execute_result"
    }
   ],
   "source": [
    "#Now Scrape the Company name\n",
    "company_name = driver.find_elements_by_xpath(\"//div[@class='name']//a\")\n",
    "company_name[0:10]"
   ]
  },
  {
   "cell_type": "code",
   "execution_count": 488,
   "id": "da61b4a6",
   "metadata": {},
   "outputs": [
    {
     "data": {
      "text/plain": [
       "['Ab Inbev',\n",
       " 'ZS',\n",
       " 'Optum',\n",
       " 'Fractal Analytics',\n",
       " 'UnitedHealth',\n",
       " 'Tiger Analytics',\n",
       " 'Verizon',\n",
       " 'Ganit Business Solutions',\n",
       " 'Ericsson',\n",
       " 'Deloitte']"
      ]
     },
     "execution_count": 488,
     "metadata": {},
     "output_type": "execute_result"
    }
   ],
   "source": [
    "#Using the for loop to append all items in our list whcih we want to scarpe\n",
    "cmp0 =[]\n",
    "cmp1 =[]\n",
    "for i in company_name:\n",
    "    b=i.text\n",
    "    cmp0.append(b)\n",
    "cmp1= cmp0[0:10]\n",
    "cmp1"
   ]
  },
  {
   "cell_type": "code",
   "execution_count": 489,
   "id": "e800a4f5",
   "metadata": {},
   "outputs": [
    {
     "data": {
      "text/plain": [
       "[<selenium.webdriver.remote.webelement.WebElement (session=\"f9baf3c0ac66535437afa0c36f83107e\", element=\"b85514ea-c7dd-43aa-ba3f-e1e1ba0fdf99\")>,\n",
       " <selenium.webdriver.remote.webelement.WebElement (session=\"f9baf3c0ac66535437afa0c36f83107e\", element=\"506fc697-8f4c-4688-80aa-1bdea2b979ae\")>,\n",
       " <selenium.webdriver.remote.webelement.WebElement (session=\"f9baf3c0ac66535437afa0c36f83107e\", element=\"5a687625-a601-410a-b1a4-9fc27366770f\")>,\n",
       " <selenium.webdriver.remote.webelement.WebElement (session=\"f9baf3c0ac66535437afa0c36f83107e\", element=\"639237e4-2cf6-4e47-a8e3-7417274fd3c1\")>,\n",
       " <selenium.webdriver.remote.webelement.WebElement (session=\"f9baf3c0ac66535437afa0c36f83107e\", element=\"a43f7b39-e380-469e-bc20-a732e8a56264\")>,\n",
       " <selenium.webdriver.remote.webelement.WebElement (session=\"f9baf3c0ac66535437afa0c36f83107e\", element=\"ba8e4dbd-d228-432a-8cb3-34ec67fa3e61\")>,\n",
       " <selenium.webdriver.remote.webelement.WebElement (session=\"f9baf3c0ac66535437afa0c36f83107e\", element=\"3d61806c-790e-487c-9eab-46b98b76cb2e\")>,\n",
       " <selenium.webdriver.remote.webelement.WebElement (session=\"f9baf3c0ac66535437afa0c36f83107e\", element=\"85c57460-7cfa-41fb-9a0e-56578f2b2f10\")>,\n",
       " <selenium.webdriver.remote.webelement.WebElement (session=\"f9baf3c0ac66535437afa0c36f83107e\", element=\"c74ead3a-020b-4fd0-9325-96e48bd8d109\")>,\n",
       " <selenium.webdriver.remote.webelement.WebElement (session=\"f9baf3c0ac66535437afa0c36f83107e\", element=\"801dbd80-02eb-4c93-8f9d-63f405585b35\")>]"
      ]
     },
     "execution_count": 489,
     "metadata": {},
     "output_type": "execute_result"
    }
   ],
   "source": [
    "#Now Scrape the Total Salary\n",
    "total_salary = driver.find_elements_by_xpath(\"//div[@class='name']//span\")\n",
    "total_salary[0:10]"
   ]
  },
  {
   "cell_type": "code",
   "execution_count": 490,
   "id": "21a088a7",
   "metadata": {},
   "outputs": [
    {
     "data": {
      "text/plain": [
       "['based on 20 salaries',\n",
       " 'based on 12 salaries',\n",
       " 'based on 23 salaries',\n",
       " 'based on 66 salaries',\n",
       " 'based on 47 salaries',\n",
       " 'based on 26 salaries',\n",
       " 'based on 14 salaries',\n",
       " 'based on 13 salaries',\n",
       " 'based on 42 salaries',\n",
       " 'based on 49 salaries']"
      ]
     },
     "execution_count": 490,
     "metadata": {},
     "output_type": "execute_result"
    }
   ],
   "source": [
    "#Using the for loop to append all items in our list whcih we want to scarpe\n",
    "ts0 =[]\n",
    "ts1 =[]\n",
    "for i in total_salary:\n",
    "    b=i.text\n",
    "    ts0.append(b)\n",
    "ts1= ts0[0:10]\n",
    "ts1"
   ]
  },
  {
   "cell_type": "code",
   "execution_count": 491,
   "id": "98ccd54a",
   "metadata": {},
   "outputs": [
    {
     "data": {
      "text/plain": [
       "[<selenium.webdriver.remote.webelement.WebElement (session=\"f9baf3c0ac66535437afa0c36f83107e\", element=\"268eb96d-f6e8-416a-8ac5-494980bcbc34\")>,\n",
       " <selenium.webdriver.remote.webelement.WebElement (session=\"f9baf3c0ac66535437afa0c36f83107e\", element=\"c96fc10e-4d77-492f-b862-7cda4e897703\")>,\n",
       " <selenium.webdriver.remote.webelement.WebElement (session=\"f9baf3c0ac66535437afa0c36f83107e\", element=\"30cfe157-e393-4b5e-b879-5d8134c7758d\")>,\n",
       " <selenium.webdriver.remote.webelement.WebElement (session=\"f9baf3c0ac66535437afa0c36f83107e\", element=\"a211214b-ec0b-4d09-83bb-09e4897c80c0\")>,\n",
       " <selenium.webdriver.remote.webelement.WebElement (session=\"f9baf3c0ac66535437afa0c36f83107e\", element=\"a9a7dd86-9015-4a35-9807-5b9a8f086490\")>,\n",
       " <selenium.webdriver.remote.webelement.WebElement (session=\"f9baf3c0ac66535437afa0c36f83107e\", element=\"8716b20c-0e4c-47ef-a422-f1d4beb044f4\")>,\n",
       " <selenium.webdriver.remote.webelement.WebElement (session=\"f9baf3c0ac66535437afa0c36f83107e\", element=\"cf24e33c-2da5-456e-8c9b-d566b071f88c\")>,\n",
       " <selenium.webdriver.remote.webelement.WebElement (session=\"f9baf3c0ac66535437afa0c36f83107e\", element=\"6c4bcf3a-0b1a-405e-a5c6-c92d4ffe4963\")>,\n",
       " <selenium.webdriver.remote.webelement.WebElement (session=\"f9baf3c0ac66535437afa0c36f83107e\", element=\"c645431c-4035-46e9-bfbc-28316de12af7\")>,\n",
       " <selenium.webdriver.remote.webelement.WebElement (session=\"f9baf3c0ac66535437afa0c36f83107e\", element=\"6b674e21-b664-4d1d-a6d4-397ada403b07\")>]"
      ]
     },
     "execution_count": 491,
     "metadata": {},
     "output_type": "execute_result"
    }
   ],
   "source": [
    "#Now Scrape the Average Salary\n",
    "avg_salary = driver.find_elements_by_xpath(\"//p[@class='averageCtc']\")\n",
    "avg_salary[0:10]"
   ]
  },
  {
   "cell_type": "code",
   "execution_count": 492,
   "id": "b241adfc",
   "metadata": {},
   "outputs": [
    {
     "data": {
      "text/plain": [
       "['₹ 19.0L',\n",
       " '₹ 15.3L',\n",
       " '₹ 15.0L',\n",
       " '₹ 15.0L',\n",
       " '₹ 13.5L',\n",
       " '₹ 13.5L',\n",
       " '₹ 12.7L',\n",
       " '₹ 12.4L',\n",
       " '₹ 11.7L',\n",
       " '₹ 11.2L']"
      ]
     },
     "execution_count": 492,
     "metadata": {},
     "output_type": "execute_result"
    }
   ],
   "source": [
    "#Using the for loop to append all items in our list whcih we want to scarpe\n",
    "avg_salary0 =[]\n",
    "avg_salary1 =[]\n",
    "for i in avg_salary:\n",
    "    b=i.text\n",
    "    avg_salary0.append(b)\n",
    "avg_salary1= avg_salary0[0:10]\n",
    "avg_salary1"
   ]
  },
  {
   "cell_type": "code",
   "execution_count": 493,
   "id": "af50cc68",
   "metadata": {},
   "outputs": [
    {
     "data": {
      "text/plain": [
       "[<selenium.webdriver.remote.webelement.WebElement (session=\"f9baf3c0ac66535437afa0c36f83107e\", element=\"532d05e2-ac86-4747-b701-7852f27470c5\")>,\n",
       " <selenium.webdriver.remote.webelement.WebElement (session=\"f9baf3c0ac66535437afa0c36f83107e\", element=\"bc87e473-0ece-467e-8cbd-f72f5002b757\")>,\n",
       " <selenium.webdriver.remote.webelement.WebElement (session=\"f9baf3c0ac66535437afa0c36f83107e\", element=\"2a939bee-47d9-4662-87c5-6a854f122bdb\")>,\n",
       " <selenium.webdriver.remote.webelement.WebElement (session=\"f9baf3c0ac66535437afa0c36f83107e\", element=\"1e34f73f-c8f7-433e-a4be-5b14051bc5bb\")>,\n",
       " <selenium.webdriver.remote.webelement.WebElement (session=\"f9baf3c0ac66535437afa0c36f83107e\", element=\"c61d17f7-42a4-45b2-a776-e5693b5f5038\")>,\n",
       " <selenium.webdriver.remote.webelement.WebElement (session=\"f9baf3c0ac66535437afa0c36f83107e\", element=\"0b1f0b3a-cae6-4bc6-8fe3-f79c415c888a\")>,\n",
       " <selenium.webdriver.remote.webelement.WebElement (session=\"f9baf3c0ac66535437afa0c36f83107e\", element=\"ccf779ea-e022-4603-a628-b24b5ddc8e5a\")>,\n",
       " <selenium.webdriver.remote.webelement.WebElement (session=\"f9baf3c0ac66535437afa0c36f83107e\", element=\"37356546-a1fd-4bfa-8d2d-2d9a83794a9b\")>,\n",
       " <selenium.webdriver.remote.webelement.WebElement (session=\"f9baf3c0ac66535437afa0c36f83107e\", element=\"3c6f0c5c-9af4-4a4c-8801-bcc95940dbe9\")>,\n",
       " <selenium.webdriver.remote.webelement.WebElement (session=\"f9baf3c0ac66535437afa0c36f83107e\", element=\"cacca7b6-5231-4e70-8f10-6fdb339163fa\")>]"
      ]
     },
     "execution_count": 493,
     "metadata": {},
     "output_type": "execute_result"
    }
   ],
   "source": [
    "#Now Scrape the Minimum Salary\n",
    "min_salary = driver.find_elements_by_xpath(\"//div[@class='value body-medium']\")\n",
    "min_salary[0:10]"
   ]
  },
  {
   "cell_type": "code",
   "execution_count": 494,
   "id": "f05dfb67",
   "metadata": {},
   "outputs": [
    {
     "data": {
      "text/plain": [
       "['₹ 15.0L',\n",
       " '₹ 23.0L',\n",
       " '₹ 9.8L',\n",
       " '₹ 19.5L',\n",
       " '₹ 11.0L',\n",
       " '₹ 21.3L',\n",
       " '₹ 9.5L',\n",
       " '₹ 22.0L',\n",
       " '₹ 7.2L',\n",
       " '₹ 20.5L']"
      ]
     },
     "execution_count": 494,
     "metadata": {},
     "output_type": "execute_result"
    }
   ],
   "source": [
    "#Using the for loop to append all items in our list whcih we want to scarpe\n",
    "min_salary0 =[]\n",
    "min_salary1 =[]\n",
    "for i in min_salary:\n",
    "    b=i.text\n",
    "    min_salary0.append(b)\n",
    "min_salary1= min_salary0[0:10]\n",
    "min_salary1"
   ]
  },
  {
   "cell_type": "code",
   "execution_count": 495,
   "id": "a296351d",
   "metadata": {},
   "outputs": [
    {
     "data": {
      "text/plain": [
       "[<selenium.webdriver.remote.webelement.WebElement (session=\"f9baf3c0ac66535437afa0c36f83107e\", element=\"532d05e2-ac86-4747-b701-7852f27470c5\")>,\n",
       " <selenium.webdriver.remote.webelement.WebElement (session=\"f9baf3c0ac66535437afa0c36f83107e\", element=\"bc87e473-0ece-467e-8cbd-f72f5002b757\")>,\n",
       " <selenium.webdriver.remote.webelement.WebElement (session=\"f9baf3c0ac66535437afa0c36f83107e\", element=\"2a939bee-47d9-4662-87c5-6a854f122bdb\")>,\n",
       " <selenium.webdriver.remote.webelement.WebElement (session=\"f9baf3c0ac66535437afa0c36f83107e\", element=\"1e34f73f-c8f7-433e-a4be-5b14051bc5bb\")>,\n",
       " <selenium.webdriver.remote.webelement.WebElement (session=\"f9baf3c0ac66535437afa0c36f83107e\", element=\"c61d17f7-42a4-45b2-a776-e5693b5f5038\")>,\n",
       " <selenium.webdriver.remote.webelement.WebElement (session=\"f9baf3c0ac66535437afa0c36f83107e\", element=\"0b1f0b3a-cae6-4bc6-8fe3-f79c415c888a\")>,\n",
       " <selenium.webdriver.remote.webelement.WebElement (session=\"f9baf3c0ac66535437afa0c36f83107e\", element=\"ccf779ea-e022-4603-a628-b24b5ddc8e5a\")>,\n",
       " <selenium.webdriver.remote.webelement.WebElement (session=\"f9baf3c0ac66535437afa0c36f83107e\", element=\"37356546-a1fd-4bfa-8d2d-2d9a83794a9b\")>,\n",
       " <selenium.webdriver.remote.webelement.WebElement (session=\"f9baf3c0ac66535437afa0c36f83107e\", element=\"3c6f0c5c-9af4-4a4c-8801-bcc95940dbe9\")>,\n",
       " <selenium.webdriver.remote.webelement.WebElement (session=\"f9baf3c0ac66535437afa0c36f83107e\", element=\"cacca7b6-5231-4e70-8f10-6fdb339163fa\")>]"
      ]
     },
     "execution_count": 495,
     "metadata": {},
     "output_type": "execute_result"
    }
   ],
   "source": [
    "#Now Scrape the Minimum Salary\n",
    "max_salary = driver.find_elements_by_xpath(\"//div[@class='value body-medium']\")\n",
    "max_salary[0:10]"
   ]
  },
  {
   "cell_type": "code",
   "execution_count": 496,
   "id": "419a806c",
   "metadata": {},
   "outputs": [
    {
     "data": {
      "text/plain": [
       "['₹ 15.0L',\n",
       " '₹ 23.0L',\n",
       " '₹ 9.8L',\n",
       " '₹ 19.5L',\n",
       " '₹ 11.0L',\n",
       " '₹ 21.3L',\n",
       " '₹ 9.5L',\n",
       " '₹ 22.0L',\n",
       " '₹ 7.2L',\n",
       " '₹ 20.5L']"
      ]
     },
     "execution_count": 496,
     "metadata": {},
     "output_type": "execute_result"
    }
   ],
   "source": [
    "#Using the for loop to append all items in our list whcih we want to scarpe\n",
    "max_salary0 =[]\n",
    "max_salary1 =[]\n",
    "for i in max_salary:\n",
    "    b=i.text\n",
    "    max_salary0.append(b)\n",
    "max_salary1= max_salary0[0:10]\n",
    "max_salary1"
   ]
  },
  {
   "cell_type": "code",
   "execution_count": 497,
   "id": "3691ce0f",
   "metadata": {},
   "outputs": [
    {
     "data": {
      "text/plain": [
       "[<selenium.webdriver.remote.webelement.WebElement (session=\"f9baf3c0ac66535437afa0c36f83107e\", element=\"da713506-a921-4eef-ae92-f9e36f3c95de\")>,\n",
       " <selenium.webdriver.remote.webelement.WebElement (session=\"f9baf3c0ac66535437afa0c36f83107e\", element=\"8afe4567-edf0-4d6d-9f69-f0ba334c735a\")>,\n",
       " <selenium.webdriver.remote.webelement.WebElement (session=\"f9baf3c0ac66535437afa0c36f83107e\", element=\"f2d7f5c6-0a38-4e31-8db9-2628d24093ea\")>,\n",
       " <selenium.webdriver.remote.webelement.WebElement (session=\"f9baf3c0ac66535437afa0c36f83107e\", element=\"2b065858-3267-4ebc-a9a6-4d050098aa0a\")>,\n",
       " <selenium.webdriver.remote.webelement.WebElement (session=\"f9baf3c0ac66535437afa0c36f83107e\", element=\"02d752f5-2c11-4eb3-8428-b747d41e5a06\")>,\n",
       " <selenium.webdriver.remote.webelement.WebElement (session=\"f9baf3c0ac66535437afa0c36f83107e\", element=\"dfe707ae-832f-441a-8696-b8c9f0fe9739\")>,\n",
       " <selenium.webdriver.remote.webelement.WebElement (session=\"f9baf3c0ac66535437afa0c36f83107e\", element=\"09e62db0-635b-4e3b-865f-28765b13ac38\")>,\n",
       " <selenium.webdriver.remote.webelement.WebElement (session=\"f9baf3c0ac66535437afa0c36f83107e\", element=\"b02d96c2-cc13-462a-b715-e35be0ab7e43\")>,\n",
       " <selenium.webdriver.remote.webelement.WebElement (session=\"f9baf3c0ac66535437afa0c36f83107e\", element=\"0c996b7a-5be1-45f4-a1da-4db68f7f4d54\")>,\n",
       " <selenium.webdriver.remote.webelement.WebElement (session=\"f9baf3c0ac66535437afa0c36f83107e\", element=\"b9afd704-68b1-4ae2-a8bc-112c288cb037\")>]"
      ]
     },
     "execution_count": 497,
     "metadata": {},
     "output_type": "execute_result"
    }
   ],
   "source": [
    "#Now Scrape the Experience Required\n",
    "exp_req = driver.find_elements_by_xpath(\"//div[@class='salaries sbold-list-header']\")\n",
    "exp_req[0:10]"
   ]
  },
  {
   "cell_type": "code",
   "execution_count": 498,
   "id": "72ab82dc",
   "metadata": {},
   "outputs": [
    {
     "data": {
      "text/plain": [
       "['Data Scientist\\n . \\n3-4 yrs exp',\n",
       " 'Data Scientist\\n . \\n2 yrs exp',\n",
       " 'Data Scientist\\n . \\n3-4 yrs exp',\n",
       " 'Data Scientist\\n . \\n2-4 yrs exp',\n",
       " 'Data Scientist\\n . \\n2-4 yrs exp',\n",
       " 'Data Scientist\\n . \\n3-4 yrs exp',\n",
       " 'Data Scientist\\n . \\n4 yrs exp',\n",
       " 'Data Scientist\\n . \\n4 yrs exp',\n",
       " 'Data Scientist\\n . \\n3-4 yrs exp',\n",
       " 'Data Scientist\\n . \\n2-4 yrs exp']"
      ]
     },
     "execution_count": 498,
     "metadata": {},
     "output_type": "execute_result"
    }
   ],
   "source": [
    "#Using the for loop to append all items in our list whcih we want to scarpe\n",
    "exp_req0 =[]\n",
    "exp_req1 =[]\n",
    "for i in exp_req:\n",
    "    b=i.text\n",
    "    exp_req0.append(b)\n",
    "exp_req1= exp_req0[0:10]\n",
    "exp_req1"
   ]
  },
  {
   "cell_type": "code",
   "execution_count": 502,
   "id": "ce505838",
   "metadata": {},
   "outputs": [
    {
     "data": {
      "text/plain": [
       "['3-4yrsexp',\n",
       " '2yrsexp',\n",
       " '3-4yrsexp',\n",
       " '2-4yrsexp',\n",
       " '2-4yrsexp',\n",
       " '3-4yrsexp',\n",
       " '4yrsexp',\n",
       " '4yrsexp',\n",
       " '3-4yrsexp',\n",
       " '2-4yrsexp']"
      ]
     },
     "execution_count": 502,
     "metadata": {},
     "output_type": "execute_result"
    }
   ],
   "source": [
    "#Now clean this column to get only experince vale.\n",
    "exp_req3=[]\n",
    "for i in exp_req1:\n",
    "    exp_req3.append(i.strip('\\n').replace('.',',').replace('\\n','').replace('Data Scientist','').replace(',','').replace(' ',''))\n",
    "exp_req3"
   ]
  },
  {
   "cell_type": "code",
   "execution_count": 503,
   "id": "0af24246",
   "metadata": {},
   "outputs": [],
   "source": [
    "#Finally store the value and create one dataframe\n",
    "df = pd.DataFrame({'Comapny_name': cmp1, 'Total_salary_record':ts1, 'Average_salary':avg_salary1, 'Minimum_salary': min_salary1, 'maximum_salary': max_salary1, 'Experience_required': exp_req3})"
   ]
  },
  {
   "cell_type": "code",
   "execution_count": 504,
   "id": "f5967378",
   "metadata": {},
   "outputs": [
    {
     "data": {
      "text/html": [
       "<div>\n",
       "<style scoped>\n",
       "    .dataframe tbody tr th:only-of-type {\n",
       "        vertical-align: middle;\n",
       "    }\n",
       "\n",
       "    .dataframe tbody tr th {\n",
       "        vertical-align: top;\n",
       "    }\n",
       "\n",
       "    .dataframe thead th {\n",
       "        text-align: right;\n",
       "    }\n",
       "</style>\n",
       "<table border=\"1\" class=\"dataframe\">\n",
       "  <thead>\n",
       "    <tr style=\"text-align: right;\">\n",
       "      <th></th>\n",
       "      <th>Comapny_name</th>\n",
       "      <th>Total_salary_record</th>\n",
       "      <th>Average_salary</th>\n",
       "      <th>Minimum_salary</th>\n",
       "      <th>maximum_salary</th>\n",
       "      <th>Experience_required</th>\n",
       "    </tr>\n",
       "  </thead>\n",
       "  <tbody>\n",
       "    <tr>\n",
       "      <th>0</th>\n",
       "      <td>Ab Inbev</td>\n",
       "      <td>based on 20 salaries</td>\n",
       "      <td>₹ 19.0L</td>\n",
       "      <td>₹ 15.0L</td>\n",
       "      <td>₹ 15.0L</td>\n",
       "      <td>3-4yrsexp</td>\n",
       "    </tr>\n",
       "    <tr>\n",
       "      <th>1</th>\n",
       "      <td>ZS</td>\n",
       "      <td>based on 12 salaries</td>\n",
       "      <td>₹ 15.3L</td>\n",
       "      <td>₹ 23.0L</td>\n",
       "      <td>₹ 23.0L</td>\n",
       "      <td>2yrsexp</td>\n",
       "    </tr>\n",
       "    <tr>\n",
       "      <th>2</th>\n",
       "      <td>Optum</td>\n",
       "      <td>based on 23 salaries</td>\n",
       "      <td>₹ 15.0L</td>\n",
       "      <td>₹ 9.8L</td>\n",
       "      <td>₹ 9.8L</td>\n",
       "      <td>3-4yrsexp</td>\n",
       "    </tr>\n",
       "    <tr>\n",
       "      <th>3</th>\n",
       "      <td>Fractal Analytics</td>\n",
       "      <td>based on 66 salaries</td>\n",
       "      <td>₹ 15.0L</td>\n",
       "      <td>₹ 19.5L</td>\n",
       "      <td>₹ 19.5L</td>\n",
       "      <td>2-4yrsexp</td>\n",
       "    </tr>\n",
       "    <tr>\n",
       "      <th>4</th>\n",
       "      <td>UnitedHealth</td>\n",
       "      <td>based on 47 salaries</td>\n",
       "      <td>₹ 13.5L</td>\n",
       "      <td>₹ 11.0L</td>\n",
       "      <td>₹ 11.0L</td>\n",
       "      <td>2-4yrsexp</td>\n",
       "    </tr>\n",
       "    <tr>\n",
       "      <th>5</th>\n",
       "      <td>Tiger Analytics</td>\n",
       "      <td>based on 26 salaries</td>\n",
       "      <td>₹ 13.5L</td>\n",
       "      <td>₹ 21.3L</td>\n",
       "      <td>₹ 21.3L</td>\n",
       "      <td>3-4yrsexp</td>\n",
       "    </tr>\n",
       "    <tr>\n",
       "      <th>6</th>\n",
       "      <td>Verizon</td>\n",
       "      <td>based on 14 salaries</td>\n",
       "      <td>₹ 12.7L</td>\n",
       "      <td>₹ 9.5L</td>\n",
       "      <td>₹ 9.5L</td>\n",
       "      <td>4yrsexp</td>\n",
       "    </tr>\n",
       "    <tr>\n",
       "      <th>7</th>\n",
       "      <td>Ganit Business Solutions</td>\n",
       "      <td>based on 13 salaries</td>\n",
       "      <td>₹ 12.4L</td>\n",
       "      <td>₹ 22.0L</td>\n",
       "      <td>₹ 22.0L</td>\n",
       "      <td>4yrsexp</td>\n",
       "    </tr>\n",
       "    <tr>\n",
       "      <th>8</th>\n",
       "      <td>Ericsson</td>\n",
       "      <td>based on 42 salaries</td>\n",
       "      <td>₹ 11.7L</td>\n",
       "      <td>₹ 7.2L</td>\n",
       "      <td>₹ 7.2L</td>\n",
       "      <td>3-4yrsexp</td>\n",
       "    </tr>\n",
       "    <tr>\n",
       "      <th>9</th>\n",
       "      <td>Deloitte</td>\n",
       "      <td>based on 49 salaries</td>\n",
       "      <td>₹ 11.2L</td>\n",
       "      <td>₹ 20.5L</td>\n",
       "      <td>₹ 20.5L</td>\n",
       "      <td>2-4yrsexp</td>\n",
       "    </tr>\n",
       "  </tbody>\n",
       "</table>\n",
       "</div>"
      ],
      "text/plain": [
       "               Comapny_name   Total_salary_record Average_salary  \\\n",
       "0                  Ab Inbev  based on 20 salaries        ₹ 19.0L   \n",
       "1                        ZS  based on 12 salaries        ₹ 15.3L   \n",
       "2                     Optum  based on 23 salaries        ₹ 15.0L   \n",
       "3         Fractal Analytics  based on 66 salaries        ₹ 15.0L   \n",
       "4              UnitedHealth  based on 47 salaries        ₹ 13.5L   \n",
       "5           Tiger Analytics  based on 26 salaries        ₹ 13.5L   \n",
       "6                   Verizon  based on 14 salaries        ₹ 12.7L   \n",
       "7  Ganit Business Solutions  based on 13 salaries        ₹ 12.4L   \n",
       "8                  Ericsson  based on 42 salaries        ₹ 11.7L   \n",
       "9                  Deloitte  based on 49 salaries        ₹ 11.2L   \n",
       "\n",
       "  Minimum_salary maximum_salary Experience_required  \n",
       "0        ₹ 15.0L        ₹ 15.0L           3-4yrsexp  \n",
       "1        ₹ 23.0L        ₹ 23.0L             2yrsexp  \n",
       "2         ₹ 9.8L         ₹ 9.8L           3-4yrsexp  \n",
       "3        ₹ 19.5L        ₹ 19.5L           2-4yrsexp  \n",
       "4        ₹ 11.0L        ₹ 11.0L           2-4yrsexp  \n",
       "5        ₹ 21.3L        ₹ 21.3L           3-4yrsexp  \n",
       "6         ₹ 9.5L         ₹ 9.5L             4yrsexp  \n",
       "7        ₹ 22.0L        ₹ 22.0L             4yrsexp  \n",
       "8         ₹ 7.2L         ₹ 7.2L           3-4yrsexp  \n",
       "9        ₹ 20.5L        ₹ 20.5L           2-4yrsexp  "
      ]
     },
     "execution_count": 504,
     "metadata": {},
     "output_type": "execute_result"
    }
   ],
   "source": [
    "df"
   ]
  },
  {
   "cell_type": "code",
   "execution_count": null,
   "id": "d6505f0f",
   "metadata": {},
   "outputs": [],
   "source": []
  }
 ],
 "metadata": {
  "kernelspec": {
   "display_name": "Python 3",
   "language": "python",
   "name": "python3"
  },
  "language_info": {
   "codemirror_mode": {
    "name": "ipython",
    "version": 3
   },
   "file_extension": ".py",
   "mimetype": "text/x-python",
   "name": "python",
   "nbconvert_exporter": "python",
   "pygments_lexer": "ipython3",
   "version": "3.8.8"
  }
 },
 "nbformat": 4,
 "nbformat_minor": 5
}
